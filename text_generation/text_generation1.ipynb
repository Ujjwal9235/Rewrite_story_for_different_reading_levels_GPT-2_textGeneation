{
 "cells": [
  {
   "cell_type": "markdown",
   "metadata": {
    "id": "t09eeeR5prIJ"
   },
   "source": [
    "##### Copyright 2019 The TensorFlow Authors."
   ]
  },
  {
   "cell_type": "code",
   "execution_count": 1,
   "metadata": {
    "cellView": "form",
    "execution": {
     "iopub.execute_input": "2021-05-21T15:39:05.719478Z",
     "iopub.status.busy": "2021-05-21T15:39:05.718909Z",
     "iopub.status.idle": "2021-05-21T15:39:05.720850Z",
     "shell.execute_reply": "2021-05-21T15:39:05.721219Z"
    },
    "id": "GCCk8_dHpuNf"
   },
   "outputs": [],
   "source": [
    "#@title Licensed under the Apache License, Version 2.0 (the \"License\");\n",
    "# you may not use this file except in compliance with the License.\n",
    "# You may obtain a copy of the License at\n",
    "#\n",
    "# https://www.apache.org/licenses/LICENSE-2.0\n",
    "#\n",
    "# Unless required by applicable law or agreed to in writing, software\n",
    "# distributed under the License is distributed on an \"AS IS\" BASIS,\n",
    "# WITHOUT WARRANTIES OR CONDITIONS OF ANY KIND, either express or implied.\n",
    "# See the License for the specific language governing permissions and\n",
    "# limitations under the License."
   ]
  },
  {
   "cell_type": "code",
   "execution_count": 3,
   "metadata": {},
   "outputs": [
    {
     "name": "stdout",
     "output_type": "stream",
     "text": [
      "Collecting tensorflow\n",
      "  Downloading tensorflow-2.5.0-cp37-cp37m-macosx_10_11_x86_64.whl (195.6 MB)\n",
      "\u001b[K     |████████████████████████████████| 195.6 MB 82 kB/s s eta 0:00:01          | 28.4 MB 4.0 MB/s eta 0:00:42\n",
      "\u001b[?25hCollecting grpcio~=1.34.0\n",
      "  Downloading grpcio-1.34.1-cp37-cp37m-macosx_10_10_x86_64.whl (3.7 MB)\n",
      "\u001b[K     |████████████████████████████████| 3.7 MB 38.0 MB/s eta 0:00:01\n",
      "\u001b[?25hCollecting typing-extensions~=3.7.4\n",
      "  Using cached typing_extensions-3.7.4.3-py3-none-any.whl (22 kB)\n",
      "Collecting absl-py~=0.10\n",
      "  Using cached absl_py-0.12.0-py3-none-any.whl (129 kB)\n",
      "Collecting keras-nightly~=2.5.0.dev\n",
      "  Using cached keras_nightly-2.5.0.dev2021032900-py2.py3-none-any.whl (1.2 MB)\n",
      "Collecting wheel~=0.35\n",
      "  Using cached wheel-0.36.2-py2.py3-none-any.whl (35 kB)\n",
      "Collecting flatbuffers~=1.12.0\n",
      "  Using cached flatbuffers-1.12-py2.py3-none-any.whl (15 kB)\n",
      "Collecting astunparse~=1.6.3\n",
      "  Using cached astunparse-1.6.3-py2.py3-none-any.whl (12 kB)\n",
      "Collecting opt-einsum~=3.3.0\n",
      "  Using cached opt_einsum-3.3.0-py3-none-any.whl (65 kB)\n",
      "Collecting tensorflow-estimator<2.6.0,>=2.5.0rc0\n",
      "  Using cached tensorflow_estimator-2.5.0-py2.py3-none-any.whl (462 kB)\n",
      "Collecting tensorboard~=2.5\n",
      "  Using cached tensorboard-2.5.0-py3-none-any.whl (6.0 MB)\n",
      "Collecting numpy~=1.19.2\n",
      "  Downloading numpy-1.19.5-cp37-cp37m-macosx_10_9_x86_64.whl (15.6 MB)\n",
      "\u001b[K     |████████████████████████████████| 15.6 MB 19.8 MB/s eta 0:00:01\n",
      "\u001b[?25hCollecting h5py~=3.1.0\n",
      "  Downloading h5py-3.1.0-cp37-cp37m-macosx_10_9_x86_64.whl (2.9 MB)\n",
      "\u001b[K     |████████████████████████████████| 2.9 MB 46.8 MB/s eta 0:00:01\n",
      "\u001b[?25hCollecting wrapt~=1.12.1\n",
      "  Using cached wrapt-1.12.1.tar.gz (27 kB)\n",
      "Collecting protobuf>=3.9.2\n",
      "  Downloading protobuf-3.17.1-cp37-cp37m-macosx_10_9_x86_64.whl (959 kB)\n",
      "\u001b[K     |████████████████████████████████| 959 kB 21.7 MB/s eta 0:00:01\n",
      "\u001b[?25hCollecting keras-preprocessing~=1.1.2\n",
      "  Using cached Keras_Preprocessing-1.1.2-py2.py3-none-any.whl (42 kB)\n",
      "Collecting google-pasta~=0.2\n",
      "  Using cached google_pasta-0.2.0-py3-none-any.whl (57 kB)\n",
      "Collecting six~=1.15.0\n",
      "  Using cached six-1.15.0-py2.py3-none-any.whl (10 kB)\n",
      "Collecting termcolor~=1.1.0\n",
      "  Using cached termcolor-1.1.0.tar.gz (3.9 kB)\n",
      "Collecting gast==0.4.0\n",
      "  Using cached gast-0.4.0-py3-none-any.whl (9.8 kB)\n",
      "Requirement already satisfied: requests<3,>=2.21.0 in /Users/tianyq/opt/anaconda3/lib/python3.7/site-packages (from tensorboard~=2.5->tensorflow) (2.22.0)\n",
      "Requirement already satisfied: werkzeug>=0.11.15 in /Users/tianyq/opt/anaconda3/lib/python3.7/site-packages (from tensorboard~=2.5->tensorflow) (1.0.0)\n",
      "Collecting google-auth<2,>=1.6.3\n",
      "  Downloading google_auth-1.30.1-py2.py3-none-any.whl (146 kB)\n",
      "\u001b[K     |████████████████████████████████| 146 kB 37.7 MB/s eta 0:00:01\n",
      "\u001b[?25hCollecting tensorboard-plugin-wit>=1.6.0\n",
      "  Using cached tensorboard_plugin_wit-1.8.0-py3-none-any.whl (781 kB)\n",
      "Collecting markdown>=2.6.8\n",
      "  Using cached Markdown-3.3.4-py3-none-any.whl (97 kB)\n",
      "Collecting google-auth-oauthlib<0.5,>=0.4.1\n",
      "  Using cached google_auth_oauthlib-0.4.4-py2.py3-none-any.whl (18 kB)\n",
      "Requirement already satisfied: setuptools>=41.0.0 in /Users/tianyq/opt/anaconda3/lib/python3.7/site-packages (from tensorboard~=2.5->tensorflow) (46.0.0.post20200309)\n",
      "Collecting tensorboard-data-server<0.7.0,>=0.6.0\n",
      "  Using cached tensorboard_data_server-0.6.1-py3-none-macosx_10_9_x86_64.whl (3.5 MB)\n",
      "Collecting cached-property; python_version < \"3.8\"\n",
      "  Using cached cached_property-1.5.2-py2.py3-none-any.whl (7.6 kB)\n",
      "Requirement already satisfied: certifi>=2017.4.17 in /Users/tianyq/opt/anaconda3/lib/python3.7/site-packages (from requests<3,>=2.21.0->tensorboard~=2.5->tensorflow) (2019.11.28)\n",
      "Requirement already satisfied: idna<2.9,>=2.5 in /Users/tianyq/opt/anaconda3/lib/python3.7/site-packages (from requests<3,>=2.21.0->tensorboard~=2.5->tensorflow) (2.8)\n",
      "Requirement already satisfied: urllib3!=1.25.0,!=1.25.1,<1.26,>=1.21.1 in /Users/tianyq/opt/anaconda3/lib/python3.7/site-packages (from requests<3,>=2.21.0->tensorboard~=2.5->tensorflow) (1.25.8)\n",
      "Requirement already satisfied: chardet<3.1.0,>=3.0.2 in /Users/tianyq/opt/anaconda3/lib/python3.7/site-packages (from requests<3,>=2.21.0->tensorboard~=2.5->tensorflow) (3.0.4)\n",
      "Collecting cachetools<5.0,>=2.0.0\n",
      "  Using cached cachetools-4.2.2-py3-none-any.whl (11 kB)\n",
      "Collecting rsa<5,>=3.1.4; python_version >= \"3.6\"\n",
      "  Using cached rsa-4.7.2-py3-none-any.whl (34 kB)\n",
      "Collecting pyasn1-modules>=0.2.1\n",
      "  Using cached pyasn1_modules-0.2.8-py2.py3-none-any.whl (155 kB)\n",
      "Requirement already satisfied: importlib-metadata; python_version < \"3.8\" in /Users/tianyq/opt/anaconda3/lib/python3.7/site-packages (from markdown>=2.6.8->tensorboard~=2.5->tensorflow) (1.5.0)\n",
      "Collecting requests-oauthlib>=0.7.0\n",
      "  Using cached requests_oauthlib-1.3.0-py2.py3-none-any.whl (23 kB)\n",
      "Collecting pyasn1>=0.1.3\n",
      "  Using cached pyasn1-0.4.8-py2.py3-none-any.whl (77 kB)\n",
      "Requirement already satisfied: zipp>=0.5 in /Users/tianyq/opt/anaconda3/lib/python3.7/site-packages (from importlib-metadata; python_version < \"3.8\"->markdown>=2.6.8->tensorboard~=2.5->tensorflow) (2.2.0)\n",
      "Collecting oauthlib>=3.0.0\n",
      "  Using cached oauthlib-3.1.0-py2.py3-none-any.whl (147 kB)\n",
      "Building wheels for collected packages: wrapt, termcolor\n",
      "  Building wheel for wrapt (setup.py) ... \u001b[?25ldone\n",
      "\u001b[?25h  Created wheel for wrapt: filename=wrapt-1.12.1-cp37-cp37m-macosx_10_9_x86_64.whl size=32520 sha256=229f0857382bb94d5f85a09555d35ee0223ced4413bd750dfc6cc34a8d3bee1c\n",
      "  Stored in directory: /Users/tianyq/Library/Caches/pip/wheels/62/76/4c/aa25851149f3f6d9785f6c869387ad82b3fd37582fa8147ac6\n",
      "  Building wheel for termcolor (setup.py) ... \u001b[?25ldone\n",
      "\u001b[?25h  Created wheel for termcolor: filename=termcolor-1.1.0-py3-none-any.whl size=4830 sha256=59b6d01f884c74301c0da5670da47fa8b5cf4ffb4dc16c06f42ebae166ae16c5\n",
      "  Stored in directory: /Users/tianyq/Library/Caches/pip/wheels/3f/e3/ec/8a8336ff196023622fbcb36de0c5a5c218cbb24111d1d4c7f2\n",
      "Successfully built wrapt termcolor\n",
      "\u001b[31mERROR: pytest-astropy 0.8.0 requires pytest-cov>=2.0, which is not installed.\u001b[0m\n",
      "\u001b[31mERROR: pytest-astropy 0.8.0 requires pytest-filter-subpackage>=0.1, which is not installed.\u001b[0m\n",
      "\u001b[31mERROR: astroid 2.3.3 requires typed-ast<1.5,>=1.4.0; implementation_name == \"cpython\" and python_version < \"3.8\", which is not installed.\u001b[0m\n",
      "\u001b[31mERROR: astroid 2.3.3 has requirement wrapt==1.11.*, but you'll have wrapt 1.12.1 which is incompatible.\u001b[0m\n",
      "Installing collected packages: six, grpcio, typing-extensions, absl-py, keras-nightly, wheel, flatbuffers, astunparse, numpy, opt-einsum, tensorflow-estimator, protobuf, cachetools, pyasn1, rsa, pyasn1-modules, google-auth, tensorboard-plugin-wit, markdown, oauthlib, requests-oauthlib, google-auth-oauthlib, tensorboard-data-server, tensorboard, cached-property, h5py, wrapt, keras-preprocessing, google-pasta, termcolor, gast, tensorflow\n",
      "  Attempting uninstall: six\n",
      "    Found existing installation: six 1.14.0\n",
      "    Uninstalling six-1.14.0:\n",
      "      Successfully uninstalled six-1.14.0\n",
      "  Attempting uninstall: wheel\n",
      "    Found existing installation: wheel 0.34.2\n",
      "    Uninstalling wheel-0.34.2:\n",
      "      Successfully uninstalled wheel-0.34.2\n",
      "  Attempting uninstall: numpy\n",
      "    Found existing installation: numpy 1.18.1\n",
      "    Uninstalling numpy-1.18.1:\n",
      "      Successfully uninstalled numpy-1.18.1\n",
      "  Attempting uninstall: h5py\n",
      "    Found existing installation: h5py 2.10.0\n",
      "    Uninstalling h5py-2.10.0:\n",
      "      Successfully uninstalled h5py-2.10.0\n",
      "  Attempting uninstall: wrapt\n",
      "    Found existing installation: wrapt 1.11.2\n",
      "    Uninstalling wrapt-1.11.2:\n",
      "      Successfully uninstalled wrapt-1.11.2\n",
      "Successfully installed absl-py-0.12.0 astunparse-1.6.3 cached-property-1.5.2 cachetools-4.2.2 flatbuffers-1.12 gast-0.4.0 google-auth-1.30.1 google-auth-oauthlib-0.4.4 google-pasta-0.2.0 grpcio-1.34.1 h5py-3.1.0 keras-nightly-2.5.0.dev2021032900 keras-preprocessing-1.1.2 markdown-3.3.4 numpy-1.19.5 oauthlib-3.1.0 opt-einsum-3.3.0 protobuf-3.17.1 pyasn1-0.4.8 pyasn1-modules-0.2.8 requests-oauthlib-1.3.0 rsa-4.7.2 six-1.15.0 tensorboard-2.5.0 tensorboard-data-server-0.6.1 tensorboard-plugin-wit-1.8.0 tensorflow-2.5.0 tensorflow-estimator-2.5.0 termcolor-1.1.0 typing-extensions-3.7.4.3 wheel-0.36.2 wrapt-1.12.1\n",
      "\u001b[33mWARNING: You are using pip version 20.1.1; however, version 21.1.1 is available.\n",
      "You should consider upgrading via the '/Users/tianyq/opt/anaconda3/bin/python -m pip install --upgrade pip' command.\u001b[0m\n"
     ]
    },
    {
     "name": "stdout",
     "output_type": "stream",
     "text": [
      "Note: you may need to restart the kernel to use updated packages.\n"
     ]
    }
   ],
   "source": [
    "pip install tensorflow"
   ]
  },
  {
   "cell_type": "markdown",
   "metadata": {
    "id": "ovpZyIhNIgoq"
   },
   "source": [
    "# Text generation with an RNN"
   ]
  },
  {
   "cell_type": "markdown",
   "metadata": {
    "id": "hcD2nPQvPOFM"
   },
   "source": [
    "<table class=\"tfo-notebook-buttons\" align=\"left\">\n",
    "  <td>\n",
    "    <a target=\"_blank\" href=\"https://www.tensorflow.org/text/tutorials/text_generation\"><img src=\"https://www.tensorflow.org/images/tf_logo_32px.png\" />View on TensorFlow.org</a>\n",
    "  </td>\n",
    "  <td>\n",
    "    <a target=\"_blank\" href=\"https://colab.research.google.com/github/tensorflow/text/blob/master/docs/tutorials/text_generation.ipynb\"><img src=\"https://www.tensorflow.org/images/colab_logo_32px.png\" />Run in Google Colab</a>\n",
    "  </td>\n",
    "  <td>\n",
    "    <a target=\"_blank\" href=\"https://github.com/tensorflow/text/blob/master/docs/tutorials/text_generation.ipynb\"><img src=\"https://www.tensorflow.org/images/GitHub-Mark-32px.png\" />View source on GitHub</a>\n",
    "  </td>\n",
    "  <td>\n",
    "    <a href=\"https://storage.googleapis.com/tensorflow_docs/text/docs/tutorials/text_generation.ipynb\"><img src=\"https://www.tensorflow.org/images/download_logo_32px.png\" />Download notebook</a>\n",
    "  </td>\n",
    "</table>"
   ]
  },
  {
   "cell_type": "markdown",
   "metadata": {
    "id": "BwpJ5IffzRG6"
   },
   "source": [
    "This tutorial demonstrates how to generate text using a character-based RNN. You will work with a dataset of Shakespeare's writing from Andrej Karpathy's [The Unreasonable Effectiveness of Recurrent Neural Networks](http://karpathy.github.io/2015/05/21/rnn-effectiveness/). Given a sequence of characters from this data (\"Shakespear\"), train a model to predict the next character in the sequence (\"e\"). Longer sequences of text can be generated by calling the model repeatedly.\n",
    "\n",
    "Note: Enable GPU acceleration to execute this notebook faster. In Colab: *Runtime > Change runtime type > Hardware accelerator > GPU*.\n",
    "\n",
    "This tutorial includes runnable code implemented using [tf.keras](https://www.tensorflow.org/guide/keras/sequential_model) and [eager execution](https://www.tensorflow.org/guide/eager). The following is the sample output when the model in this tutorial trained for 30 epochs, and started with the prompt \"Q\":"
   ]
  },
  {
   "cell_type": "markdown",
   "metadata": {
    "id": "HcygKkEVZBaa"
   },
   "source": [
    "<pre>\n",
    "QUEENE:\n",
    "I had thought thou hadst a Roman; for the oracle,\n",
    "Thus by All bids the man against the word,\n",
    "Which are so weak of care, by old care done;\n",
    "Your children were in your holy love,\n",
    "And the precipitation through the bleeding throne.\n",
    "\n",
    "BISHOP OF ELY:\n",
    "Marry, and will, my lord, to weep in such a one were prettiest;\n",
    "Yet now I was adopted heir\n",
    "Of the world's lamentable day,\n",
    "To watch the next way with his father with his face?\n",
    "\n",
    "ESCALUS:\n",
    "The cause why then we are all resolved more sons.\n",
    "\n",
    "VOLUMNIA:\n",
    "O, no, no, no, no, no, no, no, no, no, no, no, no, no, no, no, no, no, no, no, no, it is no sin it should be dead,\n",
    "And love and pale as any will to that word.\n",
    "\n",
    "QUEEN ELIZABETH:\n",
    "But how long have I heard the soul for this world,\n",
    "And show his hands of life be proved to stand.\n",
    "\n",
    "PETRUCHIO:\n",
    "I say he look'd on, if I must be content\n",
    "To stay him from the fatal of our country's bliss.\n",
    "His lordship pluck'd from this sentence then for prey,\n",
    "And then let us twain, being the moon,\n",
    "were she such a case as fills m\n",
    "</pre>"
   ]
  },
  {
   "cell_type": "markdown",
   "metadata": {
    "id": "_bGsCP9DZFQ5"
   },
   "source": [
    "While some of the sentences are grammatical, most do not make sense. The model has not learned the meaning of words, but consider:\n",
    "\n",
    "* The model is character-based. When training started, the model did not know how to spell an English word, or that words were even a unit of text.\n",
    "\n",
    "* The structure of the output resembles a play—blocks of text generally begin with a speaker name, in all capital letters similar to the dataset.\n",
    "\n",
    "* As demonstrated below, the model is trained on small batches of text (100 characters each), and is still able to generate a longer sequence of text with coherent structure."
   ]
  },
  {
   "cell_type": "markdown",
   "metadata": {
    "id": "srXC6pLGLwS6"
   },
   "source": [
    "## Setup"
   ]
  },
  {
   "cell_type": "markdown",
   "metadata": {
    "id": "WGyKZj3bzf9p"
   },
   "source": [
    "### Import TensorFlow and other libraries"
   ]
  },
  {
   "cell_type": "code",
   "execution_count": 1,
   "metadata": {
    "execution": {
     "iopub.execute_input": "2021-05-21T15:39:05.728876Z",
     "iopub.status.busy": "2021-05-21T15:39:05.728288Z",
     "iopub.status.idle": "2021-05-21T15:39:12.383242Z",
     "shell.execute_reply": "2021-05-21T15:39:12.383622Z"
    },
    "id": "yG_n40gFzf9s"
   },
   "outputs": [],
   "source": [
    "import tensorflow as tf\n",
    "from tensorflow.keras.layers.experimental import preprocessing\n",
    "\n",
    "import numpy as np\n",
    "import os\n",
    "import time"
   ]
  },
  {
   "cell_type": "markdown",
   "metadata": {
    "id": "EHDoRoc5PKWz"
   },
   "source": [
    "### Download the Shakespeare dataset\n",
    "\n",
    "Change the following line to run this code on your own data."
   ]
  },
  {
   "cell_type": "code",
   "execution_count": 2,
   "metadata": {
    "execution": {
     "iopub.execute_input": "2021-05-21T15:39:12.388508Z",
     "iopub.status.busy": "2021-05-21T15:39:12.387197Z",
     "iopub.status.idle": "2021-05-21T15:39:12.416004Z",
     "shell.execute_reply": "2021-05-21T15:39:12.416359Z"
    },
    "id": "pD_55cOxLkAb"
   },
   "outputs": [],
   "source": [
    "path_to_file = 'train1_RNN.txt'#tf.keras.utils.get_file('story.train.2.txt','https://storage.cloud.google.com/cs229data/story.train.2.txt')"
   ]
  },
  {
   "cell_type": "markdown",
   "metadata": {
    "id": "UHjdCjDuSvX_"
   },
   "source": [
    "### Read the data\n",
    "\n",
    "First, look in the text:"
   ]
  },
  {
   "cell_type": "code",
   "execution_count": 3,
   "metadata": {
    "execution": {
     "iopub.execute_input": "2021-05-21T15:39:12.420329Z",
     "iopub.status.busy": "2021-05-21T15:39:12.419756Z",
     "iopub.status.idle": "2021-05-21T15:39:12.423767Z",
     "shell.execute_reply": "2021-05-21T15:39:12.423338Z"
    },
    "id": "aavnuByVymwK"
   },
   "outputs": [
    {
     "name": "stdout",
     "output_type": "stream",
     "text": [
      "Length of text: 71899 characters\n"
     ]
    }
   ],
   "source": [
    "# Read, then decode for py2 compat.\n",
    "text = open(path_to_file, 'rb').read().decode(encoding='utf-8')\n",
    "# length of text is the number of characters in it\n",
    "print(f'Length of text: {len(text)} characters')"
   ]
  },
  {
   "cell_type": "code",
   "execution_count": 4,
   "metadata": {
    "execution": {
     "iopub.execute_input": "2021-05-21T15:39:12.427458Z",
     "iopub.status.busy": "2021-05-21T15:39:12.426808Z",
     "iopub.status.idle": "2021-05-21T15:39:12.429139Z",
     "shell.execute_reply": "2021-05-21T15:39:12.429508Z"
    },
    "id": "Duhg9NrUymwO"
   },
   "outputs": [
    {
     "name": "stdout",
     "output_type": "stream",
     "text": [
      "I can get out of bed all by myself . \n",
      "I can button my overalls . \n",
      "I can brush my fur . \n",
      "I can put on my shoes… And tie my shoes . \n",
      "I can pour some juice for my little sister . \n",
      "and help her eat breakfast . \n",
      "I can pull a duck for her . \n",
      "I can drive my\n"
     ]
    }
   ],
   "source": [
    "# Take a look at the first 250 characters in text\n",
    "print(text[:250])"
   ]
  },
  {
   "cell_type": "code",
   "execution_count": 5,
   "metadata": {
    "execution": {
     "iopub.execute_input": "2021-05-21T15:39:12.443162Z",
     "iopub.status.busy": "2021-05-21T15:39:12.442352Z",
     "iopub.status.idle": "2021-05-21T15:39:12.444795Z",
     "shell.execute_reply": "2021-05-21T15:39:12.445205Z"
    },
    "id": "IlCgQBRVymwR"
   },
   "outputs": [
    {
     "name": "stdout",
     "output_type": "stream",
     "text": [
      "77 unique characters\n"
     ]
    }
   ],
   "source": [
    "# The unique characters in the file\n",
    "vocab = sorted(set(text))\n",
    "print(f'{len(vocab)} unique characters')"
   ]
  },
  {
   "cell_type": "markdown",
   "metadata": {
    "id": "rNnrKn_lL-IJ"
   },
   "source": [
    "## Process the text"
   ]
  },
  {
   "cell_type": "markdown",
   "metadata": {
    "id": "LFjSVAlWzf-N"
   },
   "source": [
    "### Vectorize the text\n",
    "\n",
    "Before training, you need to convert the strings to a numerical representation. \n",
    "\n",
    "The `preprocessing.StringLookup` layer can convert each character into a numeric ID. It just needs the text to be split into tokens first."
   ]
  },
  {
   "cell_type": "code",
   "execution_count": 6,
   "metadata": {
    "execution": {
     "iopub.execute_input": "2021-05-21T15:39:13.132938Z",
     "iopub.status.busy": "2021-05-21T15:39:13.131972Z",
     "iopub.status.idle": "2021-05-21T15:39:13.416434Z",
     "shell.execute_reply": "2021-05-21T15:39:13.416805Z"
    },
    "id": "a86OoYtO01go"
   },
   "outputs": [
    {
     "data": {
      "text/plain": [
       "<tf.RaggedTensor [[b'a', b'b', b'c', b'd', b'e', b'f', b'g'], [b'x', b'y', b'z']]>"
      ]
     },
     "execution_count": 6,
     "metadata": {},
     "output_type": "execute_result"
    }
   ],
   "source": [
    "example_texts = ['abcdefg', 'xyz']\n",
    "\n",
    "chars = tf.strings.unicode_split(example_texts, input_encoding='UTF-8')\n",
    "chars"
   ]
  },
  {
   "cell_type": "markdown",
   "metadata": {
    "id": "1s4f1q3iqY8f"
   },
   "source": [
    "Now create the `preprocessing.StringLookup` layer:"
   ]
  },
  {
   "cell_type": "code",
   "execution_count": 7,
   "metadata": {
    "execution": {
     "iopub.execute_input": "2021-05-21T15:39:13.421521Z",
     "iopub.status.busy": "2021-05-21T15:39:13.420624Z",
     "iopub.status.idle": "2021-05-21T15:39:13.431949Z",
     "shell.execute_reply": "2021-05-21T15:39:13.431508Z"
    },
    "id": "6GMlCe3qzaL9"
   },
   "outputs": [],
   "source": [
    "ids_from_chars = preprocessing.StringLookup(\n",
    "    vocabulary=list(vocab), mask_token=None)"
   ]
  },
  {
   "cell_type": "markdown",
   "metadata": {
    "id": "ZmX_jbgQqfOi"
   },
   "source": [
    "It converts form tokens to character IDs:"
   ]
  },
  {
   "cell_type": "code",
   "execution_count": 8,
   "metadata": {
    "execution": {
     "iopub.execute_input": "2021-05-21T15:39:13.437328Z",
     "iopub.status.busy": "2021-05-21T15:39:13.436400Z",
     "iopub.status.idle": "2021-05-21T15:39:13.440578Z",
     "shell.execute_reply": "2021-05-21T15:39:13.440931Z"
    },
    "id": "WLv5Q_2TC2pc"
   },
   "outputs": [
    {
     "data": {
      "text/plain": [
       "<tf.RaggedTensor [[48, 49, 50, 51, 52, 53, 54], [71, 72, 73]]>"
      ]
     },
     "execution_count": 8,
     "metadata": {},
     "output_type": "execute_result"
    }
   ],
   "source": [
    "ids = ids_from_chars(chars)\n",
    "ids"
   ]
  },
  {
   "cell_type": "markdown",
   "metadata": {
    "id": "tZfqhkYCymwX"
   },
   "source": [
    "Since the goal of this tutorial is to generate text, it will also be important to invert this representation and recover human-readable strings from it. For this you can use `preprocessing.StringLookup(..., invert=True)`.  "
   ]
  },
  {
   "cell_type": "markdown",
   "metadata": {
    "id": "uenivzwqsDhp"
   },
   "source": [
    "Note: Here instead of passing the original vocabulary generated with `sorted(set(text))` use the `get_vocabulary()` method of the `preprocessing.StringLookup` layer so that the `[UNK]` tokens is set the same way."
   ]
  },
  {
   "cell_type": "code",
   "execution_count": 9,
   "metadata": {
    "execution": {
     "iopub.execute_input": "2021-05-21T15:39:13.447009Z",
     "iopub.status.busy": "2021-05-21T15:39:13.446149Z",
     "iopub.status.idle": "2021-05-21T15:39:13.449830Z",
     "shell.execute_reply": "2021-05-21T15:39:13.449359Z"
    },
    "id": "Wd2m3mqkDjRj"
   },
   "outputs": [],
   "source": [
    "chars_from_ids = tf.keras.layers.experimental.preprocessing.StringLookup(\n",
    "    vocabulary=ids_from_chars.get_vocabulary(), invert=True, mask_token=None)"
   ]
  },
  {
   "cell_type": "markdown",
   "metadata": {
    "id": "pqTDDxS-s-H8"
   },
   "source": [
    "This layer recovers the characters from the vectors of IDs, and returns them as a `tf.RaggedTensor` of characters:"
   ]
  },
  {
   "cell_type": "code",
   "execution_count": 10,
   "metadata": {
    "execution": {
     "iopub.execute_input": "2021-05-21T15:39:13.454099Z",
     "iopub.status.busy": "2021-05-21T15:39:13.453140Z",
     "iopub.status.idle": "2021-05-21T15:39:13.457289Z",
     "shell.execute_reply": "2021-05-21T15:39:13.457643Z"
    },
    "id": "c2GCh0ySD44s"
   },
   "outputs": [
    {
     "data": {
      "text/plain": [
       "<tf.RaggedTensor [[b'a', b'b', b'c', b'd', b'e', b'f', b'g'], [b'x', b'y', b'z']]>"
      ]
     },
     "execution_count": 10,
     "metadata": {},
     "output_type": "execute_result"
    }
   ],
   "source": [
    "chars = chars_from_ids(ids)\n",
    "chars"
   ]
  },
  {
   "cell_type": "markdown",
   "metadata": {
    "id": "-FeW5gqutT3o"
   },
   "source": [
    "You can `tf.strings.reduce_join` to join the characters back into strings. "
   ]
  },
  {
   "cell_type": "code",
   "execution_count": 11,
   "metadata": {
    "execution": {
     "iopub.execute_input": "2021-05-21T15:39:13.462139Z",
     "iopub.status.busy": "2021-05-21T15:39:13.461192Z",
     "iopub.status.idle": "2021-05-21T15:39:13.472949Z",
     "shell.execute_reply": "2021-05-21T15:39:13.473309Z"
    },
    "id": "zxYI-PeltqKP"
   },
   "outputs": [
    {
     "data": {
      "text/plain": [
       "array([b'abcdefg', b'xyz'], dtype=object)"
      ]
     },
     "execution_count": 11,
     "metadata": {},
     "output_type": "execute_result"
    }
   ],
   "source": [
    "tf.strings.reduce_join(chars, axis=-1).numpy()"
   ]
  },
  {
   "cell_type": "code",
   "execution_count": 12,
   "metadata": {
    "execution": {
     "iopub.execute_input": "2021-05-21T15:39:13.477304Z",
     "iopub.status.busy": "2021-05-21T15:39:13.476488Z",
     "iopub.status.idle": "2021-05-21T15:39:13.478890Z",
     "shell.execute_reply": "2021-05-21T15:39:13.478469Z"
    },
    "id": "w5apvBDn9Ind"
   },
   "outputs": [],
   "source": [
    "def text_from_ids(ids):\n",
    "  return tf.strings.reduce_join(chars_from_ids(ids), axis=-1)"
   ]
  },
  {
   "cell_type": "markdown",
   "metadata": {
    "id": "bbmsf23Bymwe"
   },
   "source": [
    "### The prediction task"
   ]
  },
  {
   "cell_type": "markdown",
   "metadata": {
    "id": "wssHQ1oGymwe"
   },
   "source": [
    "Given a character, or a sequence of characters, what is the most probable next character? This is the task you're training the model to perform. The input to the model will be a sequence of characters, and you train the model to predict the output—the following character at each time step.\n",
    "\n",
    "Since RNNs maintain an internal state that depends on the previously seen elements, given all the characters computed until this moment, what is the next character?\n"
   ]
  },
  {
   "cell_type": "markdown",
   "metadata": {
    "id": "hgsVvVxnymwf"
   },
   "source": [
    "### Create training examples and targets\n",
    "\n",
    "Next divide the text into example sequences. Each input sequence will contain `seq_length` characters from the text.\n",
    "\n",
    "For each input sequence, the corresponding targets contain the same length of text, except shifted one character to the right.\n",
    "\n",
    "So break the text into chunks of `seq_length+1`. For example, say `seq_length` is 4 and our text is \"Hello\". The input sequence would be \"Hell\", and the target sequence \"ello\".\n",
    "\n",
    "To do this first use the `tf.data.Dataset.from_tensor_slices` function to convert the text vector into a stream of character indices."
   ]
  },
  {
   "cell_type": "code",
   "execution_count": 13,
   "metadata": {
    "execution": {
     "iopub.execute_input": "2021-05-21T15:39:13.484168Z",
     "iopub.status.busy": "2021-05-21T15:39:13.483339Z",
     "iopub.status.idle": "2021-05-21T15:39:13.949582Z",
     "shell.execute_reply": "2021-05-21T15:39:13.949126Z"
    },
    "id": "UopbsKi88tm5"
   },
   "outputs": [
    {
     "data": {
      "text/plain": [
       "<tf.Tensor: shape=(71899,), dtype=int64, numpy=array([31,  2, 50, ...,  1,  1,  1])>"
      ]
     },
     "execution_count": 13,
     "metadata": {},
     "output_type": "execute_result"
    }
   ],
   "source": [
    "all_ids = ids_from_chars(tf.strings.unicode_split(text, 'UTF-8'))\n",
    "all_ids"
   ]
  },
  {
   "cell_type": "code",
   "execution_count": 14,
   "metadata": {
    "execution": {
     "iopub.execute_input": "2021-05-21T15:39:13.954444Z",
     "iopub.status.busy": "2021-05-21T15:39:13.953552Z",
     "iopub.status.idle": "2021-05-21T15:39:13.955998Z",
     "shell.execute_reply": "2021-05-21T15:39:13.955543Z"
    },
    "id": "qmxrYDCTy-eL"
   },
   "outputs": [],
   "source": [
    "ids_dataset = tf.data.Dataset.from_tensor_slices(all_ids)"
   ]
  },
  {
   "cell_type": "code",
   "execution_count": 15,
   "metadata": {
    "execution": {
     "iopub.execute_input": "2021-05-21T15:39:13.960409Z",
     "iopub.status.busy": "2021-05-21T15:39:13.959504Z",
     "iopub.status.idle": "2021-05-21T15:39:13.974499Z",
     "shell.execute_reply": "2021-05-21T15:39:13.974863Z"
    },
    "id": "cjH5v45-yqqH"
   },
   "outputs": [
    {
     "name": "stdout",
     "output_type": "stream",
     "text": [
      "I\n",
      " \n",
      "c\n",
      "a\n",
      "n\n",
      " \n",
      "g\n",
      "e\n",
      "t\n",
      " \n"
     ]
    }
   ],
   "source": [
    "for ids in ids_dataset.take(10):\n",
    "    print(chars_from_ids(ids).numpy().decode('utf-8'))"
   ]
  },
  {
   "cell_type": "code",
   "execution_count": 16,
   "metadata": {
    "execution": {
     "iopub.execute_input": "2021-05-21T15:39:13.978806Z",
     "iopub.status.busy": "2021-05-21T15:39:13.977995Z",
     "iopub.status.idle": "2021-05-21T15:39:13.980050Z",
     "shell.execute_reply": "2021-05-21T15:39:13.980399Z"
    },
    "id": "C-G2oaTxy6km"
   },
   "outputs": [],
   "source": [
    "seq_length = 100\n",
    "examples_per_epoch = len(text)//(seq_length+1)"
   ]
  },
  {
   "cell_type": "markdown",
   "metadata": {
    "id": "-ZSYAcQV8OGP"
   },
   "source": [
    "The `batch` method lets you easily convert these individual characters to sequences of the desired size."
   ]
  },
  {
   "cell_type": "code",
   "execution_count": 17,
   "metadata": {
    "execution": {
     "iopub.execute_input": "2021-05-21T15:39:13.985361Z",
     "iopub.status.busy": "2021-05-21T15:39:13.984423Z",
     "iopub.status.idle": "2021-05-21T15:39:13.994211Z",
     "shell.execute_reply": "2021-05-21T15:39:13.994562Z"
    },
    "id": "BpdjRO2CzOfZ"
   },
   "outputs": [
    {
     "name": "stdout",
     "output_type": "stream",
     "text": [
      "tf.Tensor(\n",
      "[b'I' b' ' b'c' b'a' b'n' b' ' b'g' b'e' b't' b' ' b'o' b'u' b't' b' '\n",
      " b'o' b'f' b' ' b'b' b'e' b'd' b' ' b'a' b'l' b'l' b' ' b'b' b'y' b' '\n",
      " b'm' b'y' b's' b'e' b'l' b'f' b' ' b'.' b' ' b'\\n' b'I' b' ' b'c' b'a'\n",
      " b'n' b' ' b'b' b'u' b't' b't' b'o' b'n' b' ' b'm' b'y' b' ' b'o' b'v'\n",
      " b'e' b'r' b'a' b'l' b'l' b's' b' ' b'.' b' ' b'\\n' b'I' b' ' b'c' b'a'\n",
      " b'n' b' ' b'b' b'r' b'u' b's' b'h' b' ' b'm' b'y' b' ' b'f' b'u' b'r'\n",
      " b' ' b'.' b' ' b'\\n' b'I' b' ' b'c' b'a' b'n' b' ' b'p' b'u' b't' b' '\n",
      " b'o' b'n' b' '], shape=(101,), dtype=string)\n"
     ]
    }
   ],
   "source": [
    "sequences = ids_dataset.batch(seq_length+1, drop_remainder=True)\n",
    "\n",
    "for seq in sequences.take(1):\n",
    "  print(chars_from_ids(seq))"
   ]
  },
  {
   "cell_type": "markdown",
   "metadata": {
    "id": "5PHW902-4oZt"
   },
   "source": [
    "It's easier to see what this is doing if you join the tokens back into strings:"
   ]
  },
  {
   "cell_type": "code",
   "execution_count": 18,
   "metadata": {
    "execution": {
     "iopub.execute_input": "2021-05-21T15:39:13.998892Z",
     "iopub.status.busy": "2021-05-21T15:39:13.997987Z",
     "iopub.status.idle": "2021-05-21T15:39:14.009585Z",
     "shell.execute_reply": "2021-05-21T15:39:14.009936Z"
    },
    "id": "QO32cMWu4a06"
   },
   "outputs": [
    {
     "name": "stdout",
     "output_type": "stream",
     "text": [
      "b'I can get out of bed all by myself . \\nI can button my overalls . \\nI can brush my fur . \\nI can put on '\n",
      "b'my shoes\\xe2\\x80\\xa6 And tie my shoes . \\nI can pour some juice for my little sister . \\nand help her eat breakfas'\n",
      "b't . \\nI can pull a duck for her . \\nI can drive my truck . \\nI can ride my bike . \\nI can give a drink to'\n",
      "b' my bear . \\nI can kick my ball . \\nand roll on the ground . \\nI can pound with my hammer . \\nI can sail '\n",
      "b'my boat . \\nI can look after my little sister . \\nI can help Dad trim a bush . \\nor ice a cake for Mom .'\n"
     ]
    }
   ],
   "source": [
    "for seq in sequences.take(5):\n",
    "  print(text_from_ids(seq).numpy())"
   ]
  },
  {
   "cell_type": "markdown",
   "metadata": {
    "id": "UbLcIPBj_mWZ"
   },
   "source": [
    "For training you'll need a dataset of `(input, label)` pairs. Where `input` and \n",
    "`label` are sequences. At each time step the input is the current character and the label is the next character. \n",
    "\n",
    "Here's a function that takes a sequence as input, duplicates, and shifts it to align the input and label for each timestep:"
   ]
  },
  {
   "cell_type": "code",
   "execution_count": 19,
   "metadata": {
    "execution": {
     "iopub.execute_input": "2021-05-21T15:39:14.014112Z",
     "iopub.status.busy": "2021-05-21T15:39:14.013321Z",
     "iopub.status.idle": "2021-05-21T15:39:14.015353Z",
     "shell.execute_reply": "2021-05-21T15:39:14.015722Z"
    },
    "id": "9NGu-FkO_kYU"
   },
   "outputs": [],
   "source": [
    "def split_input_target(sequence):\n",
    "    input_text = sequence[:-1]\n",
    "    target_text = sequence[1:]\n",
    "    return input_text, target_text"
   ]
  },
  {
   "cell_type": "code",
   "execution_count": 20,
   "metadata": {
    "execution": {
     "iopub.execute_input": "2021-05-21T15:39:14.019967Z",
     "iopub.status.busy": "2021-05-21T15:39:14.019300Z",
     "iopub.status.idle": "2021-05-21T15:39:14.022336Z",
     "shell.execute_reply": "2021-05-21T15:39:14.021876Z"
    },
    "id": "WxbDTJTw5u_P"
   },
   "outputs": [
    {
     "data": {
      "text/plain": [
       "(['T', 'e', 'n', 's', 'o', 'r', 'f', 'l', 'o'],\n",
       " ['e', 'n', 's', 'o', 'r', 'f', 'l', 'o', 'w'])"
      ]
     },
     "execution_count": 20,
     "metadata": {},
     "output_type": "execute_result"
    }
   ],
   "source": [
    "split_input_target(list(\"Tensorflow\"))"
   ]
  },
  {
   "cell_type": "code",
   "execution_count": 21,
   "metadata": {
    "execution": {
     "iopub.execute_input": "2021-05-21T15:39:14.047572Z",
     "iopub.status.busy": "2021-05-21T15:39:14.026246Z",
     "iopub.status.idle": "2021-05-21T15:39:14.068996Z",
     "shell.execute_reply": "2021-05-21T15:39:14.068466Z"
    },
    "id": "B9iKPXkw5xwa"
   },
   "outputs": [],
   "source": [
    "dataset = sequences.map(split_input_target)"
   ]
  },
  {
   "cell_type": "code",
   "execution_count": 22,
   "metadata": {
    "execution": {
     "iopub.execute_input": "2021-05-21T15:39:14.073415Z",
     "iopub.status.busy": "2021-05-21T15:39:14.072811Z",
     "iopub.status.idle": "2021-05-21T15:39:14.094920Z",
     "shell.execute_reply": "2021-05-21T15:39:14.094369Z"
    },
    "id": "GNbw-iR0ymwj"
   },
   "outputs": [
    {
     "name": "stdout",
     "output_type": "stream",
     "text": [
      "Input : b'I can get out of bed all by myself . \\nI can button my overalls . \\nI can brush my fur . \\nI can put on'\n",
      "Target: b' can get out of bed all by myself . \\nI can button my overalls . \\nI can brush my fur . \\nI can put on '\n"
     ]
    }
   ],
   "source": [
    "for input_example, target_example in dataset.take(1):\n",
    "    print(\"Input :\", text_from_ids(input_example).numpy())\n",
    "    print(\"Target:\", text_from_ids(target_example).numpy())"
   ]
  },
  {
   "cell_type": "markdown",
   "metadata": {
    "id": "MJdfPmdqzf-R"
   },
   "source": [
    "### Create training batches\n",
    "\n",
    "You used `tf.data` to split the text into manageable sequences. But before feeding this data into the model, you need to shuffle the data and pack it into batches."
   ]
  },
  {
   "cell_type": "code",
   "execution_count": 23,
   "metadata": {
    "execution": {
     "iopub.execute_input": "2021-05-21T15:39:14.099225Z",
     "iopub.status.busy": "2021-05-21T15:39:14.098646Z",
     "iopub.status.idle": "2021-05-21T15:39:14.103411Z",
     "shell.execute_reply": "2021-05-21T15:39:14.103759Z"
    },
    "id": "p2pGotuNzf-S"
   },
   "outputs": [
    {
     "data": {
      "text/plain": [
       "<PrefetchDataset shapes: ((64, 100), (64, 100)), types: (tf.int64, tf.int64)>"
      ]
     },
     "execution_count": 23,
     "metadata": {},
     "output_type": "execute_result"
    }
   ],
   "source": [
    "# Batch size\n",
    "BATCH_SIZE = 64\n",
    "\n",
    "# Buffer size to shuffle the dataset\n",
    "# (TF data is designed to work with possibly infinite sequences,\n",
    "# so it doesn't attempt to shuffle the entire sequence in memory. Instead,\n",
    "# it maintains a buffer in which it shuffles elements).\n",
    "BUFFER_SIZE = 10000\n",
    "\n",
    "dataset = (\n",
    "    dataset\n",
    "    .shuffle(BUFFER_SIZE)\n",
    "    .batch(BATCH_SIZE, drop_remainder=True)\n",
    "    .prefetch(tf.data.experimental.AUTOTUNE))\n",
    "\n",
    "dataset"
   ]
  },
  {
   "cell_type": "markdown",
   "metadata": {
    "id": "r6oUuElIMgVx"
   },
   "source": [
    "## Build The Model"
   ]
  },
  {
   "cell_type": "markdown",
   "metadata": {
    "id": "m8gPwEjRzf-Z"
   },
   "source": [
    "This section defines the model as a `keras.Model` subclass (For details see [Making new Layers and Models via subclassing](https://www.tensorflow.org/guide/keras/custom_layers_and_models)). \n",
    "\n",
    "This model has three layers:\n",
    "\n",
    "* `tf.keras.layers.Embedding`: The input layer. A trainable lookup table that will map each character-ID to a vector with `embedding_dim` dimensions;\n",
    "* `tf.keras.layers.GRU`: A type of RNN with size `units=rnn_units` (You can also use an LSTM layer here.)\n",
    "* `tf.keras.layers.Dense`: The output layer, with `vocab_size` outputs. It outputs one logit for each character in the vocabulary. These are the log-likelihood of each character according to the model."
   ]
  },
  {
   "cell_type": "code",
   "execution_count": 24,
   "metadata": {
    "execution": {
     "iopub.execute_input": "2021-05-21T15:39:14.107715Z",
     "iopub.status.busy": "2021-05-21T15:39:14.107144Z",
     "iopub.status.idle": "2021-05-21T15:39:14.108916Z",
     "shell.execute_reply": "2021-05-21T15:39:14.109246Z"
    },
    "id": "zHT8cLh7EAsg"
   },
   "outputs": [],
   "source": [
    "# Length of the vocabulary in chars\n",
    "vocab_size = len(vocab)\n",
    "\n",
    "# The embedding dimension\n",
    "embedding_dim = 256\n",
    "\n",
    "# Number of RNN units\n",
    "rnn_units = 1024"
   ]
  },
  {
   "cell_type": "code",
   "execution_count": 25,
   "metadata": {
    "execution": {
     "iopub.execute_input": "2021-05-21T15:39:14.115265Z",
     "iopub.status.busy": "2021-05-21T15:39:14.114684Z",
     "iopub.status.idle": "2021-05-21T15:39:14.116921Z",
     "shell.execute_reply": "2021-05-21T15:39:14.116501Z"
    },
    "id": "wj8HQ2w8z4iO"
   },
   "outputs": [],
   "source": [
    "class MyModel(tf.keras.Model):\n",
    "  def __init__(self, vocab_size, embedding_dim, rnn_units):\n",
    "    super().__init__(self)\n",
    "    self.embedding = tf.keras.layers.Embedding(vocab_size, embedding_dim)\n",
    "    self.gru = tf.keras.layers.GRU(rnn_units,\n",
    "                                   return_sequences=True,\n",
    "                                   return_state=True)\n",
    "    self.dense = tf.keras.layers.Dense(vocab_size)\n",
    "\n",
    "  def call(self, inputs, states=None, return_state=False, training=False):\n",
    "    x = inputs\n",
    "    x = self.embedding(x, training=training)\n",
    "    if states is None:\n",
    "      states = self.gru.get_initial_state(x)\n",
    "    x, states = self.gru(x, initial_state=states, training=training)\n",
    "    x = self.dense(x, training=training)\n",
    "\n",
    "    if return_state:\n",
    "      return x, states\n",
    "    else:\n",
    "      return x"
   ]
  },
  {
   "cell_type": "code",
   "execution_count": 26,
   "metadata": {
    "execution": {
     "iopub.execute_input": "2021-05-21T15:39:14.121700Z",
     "iopub.status.busy": "2021-05-21T15:39:14.121149Z",
     "iopub.status.idle": "2021-05-21T15:39:14.131846Z",
     "shell.execute_reply": "2021-05-21T15:39:14.131312Z"
    },
    "id": "IX58Xj9z47Aw"
   },
   "outputs": [],
   "source": [
    "model = MyModel(\n",
    "    # Be sure the vocabulary size matches the `StringLookup` layers.\n",
    "    vocab_size=len(ids_from_chars.get_vocabulary()),\n",
    "    embedding_dim=embedding_dim,\n",
    "    rnn_units=rnn_units)"
   ]
  },
  {
   "cell_type": "markdown",
   "metadata": {
    "id": "RkA5upJIJ7W7"
   },
   "source": [
    "For each character the model looks up the embedding, runs the GRU one timestep with the embedding as input, and applies the dense layer to generate logits predicting the log-likelihood of the next character:\n",
    "\n",
    "![A drawing of the data passing through the model](images/text_generation_training.png)"
   ]
  },
  {
   "cell_type": "markdown",
   "metadata": {
    "id": "gKbfm04amhXk"
   },
   "source": [
    "Note: For training you could use a `keras.Sequential` model here. To  generate text later you'll need to manage the RNN's internal state. It's simpler to include the state input and output options upfront, than it is to rearrange the model architecture later. For more details see the [Keras RNN guide](https://www.tensorflow.org/guide/keras/rnn#rnn_state_reuse)."
   ]
  },
  {
   "cell_type": "markdown",
   "metadata": {
    "id": "-ubPo0_9Prjb"
   },
   "source": [
    "## Try the model\n",
    "\n",
    "Now run the model to see that it behaves as expected.\n",
    "\n",
    "First check the shape of the output:"
   ]
  },
  {
   "cell_type": "code",
   "execution_count": 27,
   "metadata": {
    "execution": {
     "iopub.execute_input": "2021-05-21T15:39:14.136141Z",
     "iopub.status.busy": "2021-05-21T15:39:14.135567Z",
     "iopub.status.idle": "2021-05-21T15:39:18.353467Z",
     "shell.execute_reply": "2021-05-21T15:39:18.352940Z"
    },
    "id": "C-_70kKAPrPU"
   },
   "outputs": [
    {
     "name": "stdout",
     "output_type": "stream",
     "text": [
      "(64, 100, 78) # (batch_size, sequence_length, vocab_size)\n"
     ]
    }
   ],
   "source": [
    "for input_example_batch, target_example_batch in dataset.take(1):\n",
    "    example_batch_predictions = model(input_example_batch)\n",
    "    print(example_batch_predictions.shape, \"# (batch_size, sequence_length, vocab_size)\")"
   ]
  },
  {
   "cell_type": "markdown",
   "metadata": {
    "id": "Q6NzLBi4VM4o"
   },
   "source": [
    "In the above example the sequence length of the input is `100` but the model can be run on inputs of any length:"
   ]
  },
  {
   "cell_type": "code",
   "execution_count": 28,
   "metadata": {
    "execution": {
     "iopub.execute_input": "2021-05-21T15:39:18.358737Z",
     "iopub.status.busy": "2021-05-21T15:39:18.358125Z",
     "iopub.status.idle": "2021-05-21T15:39:18.361594Z",
     "shell.execute_reply": "2021-05-21T15:39:18.361954Z"
    },
    "id": "vPGmAAXmVLGC"
   },
   "outputs": [
    {
     "name": "stdout",
     "output_type": "stream",
     "text": [
      "Model: \"my_model\"\n",
      "_________________________________________________________________\n",
      "Layer (type)                 Output Shape              Param #   \n",
      "=================================================================\n",
      "embedding (Embedding)        multiple                  19968     \n",
      "_________________________________________________________________\n",
      "gru (GRU)                    multiple                  3938304   \n",
      "_________________________________________________________________\n",
      "dense (Dense)                multiple                  79950     \n",
      "=================================================================\n",
      "Total params: 4,038,222\n",
      "Trainable params: 4,038,222\n",
      "Non-trainable params: 0\n",
      "_________________________________________________________________\n"
     ]
    }
   ],
   "source": [
    "model.summary()"
   ]
  },
  {
   "cell_type": "markdown",
   "metadata": {
    "id": "uwv0gEkURfx1"
   },
   "source": [
    "To get actual predictions from the model you need to sample from the output distribution, to get actual character indices. This distribution is defined by the logits over the character vocabulary.\n",
    "\n",
    "Note: It is important to _sample_ from this distribution as taking the _argmax_ of the distribution can easily get the model stuck in a loop.\n",
    "\n",
    "Try it for the first example in the batch:"
   ]
  },
  {
   "cell_type": "code",
   "execution_count": 29,
   "metadata": {
    "execution": {
     "iopub.execute_input": "2021-05-21T15:39:18.366257Z",
     "iopub.status.busy": "2021-05-21T15:39:18.365603Z",
     "iopub.status.idle": "2021-05-21T15:39:18.368559Z",
     "shell.execute_reply": "2021-05-21T15:39:18.368909Z"
    },
    "id": "4V4MfFg0RQJg"
   },
   "outputs": [],
   "source": [
    "sampled_indices = tf.random.categorical(example_batch_predictions[0], num_samples=1)\n",
    "sampled_indices = tf.squeeze(sampled_indices, axis=-1).numpy()"
   ]
  },
  {
   "cell_type": "markdown",
   "metadata": {
    "id": "QM1Vbxs_URw5"
   },
   "source": [
    "This gives us, at each timestep, a prediction of the next character index:"
   ]
  },
  {
   "cell_type": "code",
   "execution_count": 30,
   "metadata": {
    "execution": {
     "iopub.execute_input": "2021-05-21T15:39:18.373244Z",
     "iopub.status.busy": "2021-05-21T15:39:18.372607Z",
     "iopub.status.idle": "2021-05-21T15:39:18.375607Z",
     "shell.execute_reply": "2021-05-21T15:39:18.375990Z"
    },
    "id": "YqFMUQc_UFgM"
   },
   "outputs": [
    {
     "data": {
      "text/plain": [
       "array([73, 49, 51, 66, 72, 16,  0, 21,  0, 34, 53, 57, 69, 64, 40,  2,  8,\n",
       "        9, 16, 61, 77, 23, 60, 30, 16, 75, 64, 39, 37, 41, 24, 18, 31, 57,\n",
       "       26,  5, 69, 65, 74, 10, 76,  0,  0,  7, 15, 55, 17,  0, 55, 62, 36,\n",
       "       29, 75, 33,  1, 77, 24, 37,  0,  7, 45, 41, 66, 13, 77, 54, 72, 77,\n",
       "       29, 39, 39, 40, 76, 20, 24,  5, 50, 76, 25,  1, 29, 41,  0, 14,  2,\n",
       "       10, 77, 16, 76, 37, 39, 56, 12, 51,  0, 68, 16, 48, 71,  9])"
      ]
     },
     "execution_count": 30,
     "metadata": {},
     "output_type": "execute_result"
    }
   ],
   "source": [
    "sampled_indices"
   ]
  },
  {
   "cell_type": "markdown",
   "metadata": {
    "id": "LfLtsP3mUhCG"
   },
   "source": [
    "Decode these to see the text predicted by this untrained model:"
   ]
  },
  {
   "cell_type": "code",
   "execution_count": 31,
   "metadata": {
    "execution": {
     "iopub.execute_input": "2021-05-21T15:39:18.379912Z",
     "iopub.status.busy": "2021-05-21T15:39:18.379267Z",
     "iopub.status.idle": "2021-05-21T15:39:18.384658Z",
     "shell.execute_reply": "2021-05-21T15:39:18.384233Z"
    },
    "id": "xWcFwPwLSo05"
   },
   "outputs": [
    {
     "name": "stdout",
     "output_type": "stream",
     "text": [
      "Input:\n",
      " b'\\nWhen morning came ,  the cat stretched . \\nThe cat yawned . \\nThe cat blinked its eyes . \\nThere was a'\n",
      "\n",
      "Next Char Predictions:\n",
      " b\"zbdsy5[UNK]:[UNK]LfjvqR ,-5n\\xe2\\x80\\xa6AmH5\\xe2\\x80\\x94qQOSB7IjD'vr\\xc2\\xa3.\\xe2\\x80\\x99[UNK][UNK])4h6[UNK]hoNG\\xe2\\x80\\x94K\\n\\xe2\\x80\\xa6BO[UNK])WSs2\\xe2\\x80\\xa6gy\\xe2\\x80\\xa6GQQR\\xe2\\x80\\x999B'c\\xe2\\x80\\x99C\\nGS[UNK]3 .\\xe2\\x80\\xa65\\xe2\\x80\\x99OQi1d[UNK]u5ax-\"\n"
     ]
    }
   ],
   "source": [
    "print(\"Input:\\n\", text_from_ids(input_example_batch[0]).numpy())\n",
    "print()\n",
    "print(\"Next Char Predictions:\\n\", text_from_ids(sampled_indices).numpy())"
   ]
  },
  {
   "cell_type": "markdown",
   "metadata": {
    "id": "LJL0Q0YPY6Ee"
   },
   "source": [
    "## Train the model"
   ]
  },
  {
   "cell_type": "markdown",
   "metadata": {
    "id": "YCbHQHiaa4Ic"
   },
   "source": [
    "At this point the problem can be treated as a standard classification problem. Given the previous RNN state, and the input this time step, predict the class of the next character."
   ]
  },
  {
   "cell_type": "markdown",
   "metadata": {
    "id": "trpqTWyvk0nr"
   },
   "source": [
    "### Attach an optimizer, and a loss function"
   ]
  },
  {
   "cell_type": "markdown",
   "metadata": {
    "id": "UAjbjY03eiQ4"
   },
   "source": [
    "The standard `tf.keras.losses.sparse_categorical_crossentropy` loss function works in this case because it is applied across the last dimension of the predictions.\n",
    "\n",
    "Because your model returns logits, you need to set the `from_logits` flag.\n"
   ]
  },
  {
   "cell_type": "code",
   "execution_count": 32,
   "metadata": {
    "execution": {
     "iopub.execute_input": "2021-05-21T15:39:18.388618Z",
     "iopub.status.busy": "2021-05-21T15:39:18.388049Z",
     "iopub.status.idle": "2021-05-21T15:39:18.390700Z",
     "shell.execute_reply": "2021-05-21T15:39:18.390253Z"
    },
    "id": "ZOeWdgxNFDXq"
   },
   "outputs": [],
   "source": [
    "loss = tf.losses.SparseCategoricalCrossentropy(from_logits=True)"
   ]
  },
  {
   "cell_type": "code",
   "execution_count": 33,
   "metadata": {
    "execution": {
     "iopub.execute_input": "2021-05-21T15:39:18.394850Z",
     "iopub.status.busy": "2021-05-21T15:39:18.394279Z",
     "iopub.status.idle": "2021-05-21T15:39:18.400560Z",
     "shell.execute_reply": "2021-05-21T15:39:18.400912Z"
    },
    "id": "4HrXTACTdzY-"
   },
   "outputs": [
    {
     "name": "stdout",
     "output_type": "stream",
     "text": [
      "Prediction shape:  (64, 100, 78)  # (batch_size, sequence_length, vocab_size)\n",
      "Mean loss:         4.3559203\n"
     ]
    }
   ],
   "source": [
    "example_batch_loss = loss(target_example_batch, example_batch_predictions)\n",
    "mean_loss = example_batch_loss.numpy().mean()\n",
    "print(\"Prediction shape: \", example_batch_predictions.shape, \" # (batch_size, sequence_length, vocab_size)\")\n",
    "print(\"Mean loss:        \", mean_loss)"
   ]
  },
  {
   "cell_type": "markdown",
   "metadata": {
    "id": "vkvUIneTFiow"
   },
   "source": [
    "A newly initialized model shouldn't be too sure of itself, the output logits should all have similar magnitudes. To confirm this you can check that the exponential of the mean loss is approximately equal to the vocabulary size. A much higher loss means the model is sure of its wrong answers, and is badly initialized:"
   ]
  },
  {
   "cell_type": "code",
   "execution_count": 34,
   "metadata": {
    "execution": {
     "iopub.execute_input": "2021-05-21T15:39:18.404569Z",
     "iopub.status.busy": "2021-05-21T15:39:18.403958Z",
     "iopub.status.idle": "2021-05-21T15:39:18.407838Z",
     "shell.execute_reply": "2021-05-21T15:39:18.408204Z"
    },
    "id": "MAJfS5YoFiHf"
   },
   "outputs": [
    {
     "data": {
      "text/plain": [
       "77.93852"
      ]
     },
     "execution_count": 34,
     "metadata": {},
     "output_type": "execute_result"
    }
   ],
   "source": [
    "tf.exp(mean_loss).numpy()"
   ]
  },
  {
   "cell_type": "markdown",
   "metadata": {
    "id": "jeOXriLcymww"
   },
   "source": [
    "Configure the training procedure using the `tf.keras.Model.compile` method. Use `tf.keras.optimizers.Adam` with default arguments and the loss function."
   ]
  },
  {
   "cell_type": "code",
   "execution_count": 35,
   "metadata": {
    "execution": {
     "iopub.execute_input": "2021-05-21T15:39:18.415050Z",
     "iopub.status.busy": "2021-05-21T15:39:18.414491Z",
     "iopub.status.idle": "2021-05-21T15:39:18.419720Z",
     "shell.execute_reply": "2021-05-21T15:39:18.420069Z"
    },
    "id": "DDl1_Een6rL0"
   },
   "outputs": [],
   "source": [
    "model.compile(optimizer='adam', loss=loss)"
   ]
  },
  {
   "cell_type": "markdown",
   "metadata": {
    "id": "ieSJdchZggUj"
   },
   "source": [
    "### Configure checkpoints"
   ]
  },
  {
   "cell_type": "markdown",
   "metadata": {
    "id": "C6XBUUavgF56"
   },
   "source": [
    "Use a `tf.keras.callbacks.ModelCheckpoint` to ensure that checkpoints are saved during training:"
   ]
  },
  {
   "cell_type": "code",
   "execution_count": 36,
   "metadata": {
    "execution": {
     "iopub.execute_input": "2021-05-21T15:39:18.423963Z",
     "iopub.status.busy": "2021-05-21T15:39:18.423405Z",
     "iopub.status.idle": "2021-05-21T15:39:18.426007Z",
     "shell.execute_reply": "2021-05-21T15:39:18.425539Z"
    },
    "id": "W6fWTriUZP-n"
   },
   "outputs": [],
   "source": [
    "# Directory where the checkpoints will be saved\n",
    "checkpoint_dir = './training_checkpoints'\n",
    "# Name of the checkpoint files\n",
    "checkpoint_prefix = os.path.join(checkpoint_dir, \"ckpt_{epoch}\")\n",
    "\n",
    "checkpoint_callback = tf.keras.callbacks.ModelCheckpoint(\n",
    "    filepath=checkpoint_prefix,\n",
    "    save_weights_only=True)"
   ]
  },
  {
   "cell_type": "markdown",
   "metadata": {
    "id": "3Ky3F_BhgkTW"
   },
   "source": [
    "### Execute the training"
   ]
  },
  {
   "cell_type": "markdown",
   "metadata": {
    "id": "IxdOA-rgyGvs"
   },
   "source": [
    "To keep training time reasonable, use 10 epochs to train the model. In Colab, set the runtime to GPU for faster training."
   ]
  },
  {
   "cell_type": "code",
   "execution_count": 37,
   "metadata": {
    "execution": {
     "iopub.execute_input": "2021-05-21T15:39:18.429472Z",
     "iopub.status.busy": "2021-05-21T15:39:18.428913Z",
     "iopub.status.idle": "2021-05-21T15:39:18.431380Z",
     "shell.execute_reply": "2021-05-21T15:39:18.430936Z"
    },
    "id": "7yGBE2zxMMHs"
   },
   "outputs": [],
   "source": [
    "EPOCHS = 150"
   ]
  },
  {
   "cell_type": "code",
   "execution_count": 38,
   "metadata": {
    "execution": {
     "iopub.execute_input": "2021-05-21T15:39:18.435162Z",
     "iopub.status.busy": "2021-05-21T15:39:18.434589Z",
     "iopub.status.idle": "2021-05-21T15:41:07.648325Z",
     "shell.execute_reply": "2021-05-21T15:41:07.647733Z"
    },
    "id": "UK-hmKjYVoll"
   },
   "outputs": [
    {
     "name": "stdout",
     "output_type": "stream",
     "text": [
      "Epoch 1/150\n",
      "11/11 [==============================] - 26s 2s/step - loss: 4.6789\n",
      "Epoch 2/150\n",
      "11/11 [==============================] - 24s 2s/step - loss: 3.4056\n",
      "Epoch 3/150\n",
      "11/11 [==============================] - 21s 2s/step - loss: 3.0384\n",
      "Epoch 4/150\n",
      "11/11 [==============================] - 18s 2s/step - loss: 2.8863\n",
      "Epoch 5/150\n",
      "11/11 [==============================] - 19s 2s/step - loss: 2.7225\n",
      "Epoch 6/150\n",
      "11/11 [==============================] - 18s 2s/step - loss: 2.5321\n",
      "Epoch 7/150\n",
      "11/11 [==============================] - 18s 2s/step - loss: 2.3628\n",
      "Epoch 8/150\n",
      "11/11 [==============================] - 18s 2s/step - loss: 2.2469\n",
      "Epoch 9/150\n",
      "11/11 [==============================] - 21s 2s/step - loss: 2.1736\n",
      "Epoch 10/150\n",
      "11/11 [==============================] - 20s 2s/step - loss: 2.1210\n",
      "Epoch 11/150\n",
      "11/11 [==============================] - 19s 2s/step - loss: 2.0803\n",
      "Epoch 12/150\n",
      "11/11 [==============================] - 17s 2s/step - loss: 2.0445\n",
      "Epoch 13/150\n",
      "11/11 [==============================] - 18s 2s/step - loss: 2.0155\n",
      "Epoch 14/150\n",
      "11/11 [==============================] - 17s 2s/step - loss: 1.9829\n",
      "Epoch 15/150\n",
      "11/11 [==============================] - 18s 2s/step - loss: 1.9520\n",
      "Epoch 16/150\n",
      "11/11 [==============================] - 21s 2s/step - loss: 1.9227\n",
      "Epoch 17/150\n",
      "11/11 [==============================] - 19s 2s/step - loss: 1.8910\n",
      "Epoch 18/150\n",
      "11/11 [==============================] - 18s 2s/step - loss: 1.8591\n",
      "Epoch 19/150\n",
      "11/11 [==============================] - 18s 2s/step - loss: 1.8268\n",
      "Epoch 20/150\n",
      "11/11 [==============================] - 17s 2s/step - loss: 1.7942\n",
      "Epoch 21/150\n",
      "11/11 [==============================] - 18s 2s/step - loss: 1.7611\n",
      "Epoch 22/150\n",
      "11/11 [==============================] - 18s 2s/step - loss: 1.7296\n",
      "Epoch 23/150\n",
      "11/11 [==============================] - 17s 1s/step - loss: 1.6978\n",
      "Epoch 24/150\n",
      "11/11 [==============================] - 16s 1s/step - loss: 1.6631\n",
      "Epoch 25/150\n",
      "11/11 [==============================] - 17s 2s/step - loss: 1.6300\n",
      "Epoch 26/150\n",
      "11/11 [==============================] - 17s 2s/step - loss: 1.5960\n",
      "Epoch 27/150\n",
      "11/11 [==============================] - 18s 2s/step - loss: 1.5579\n",
      "Epoch 28/150\n",
      "11/11 [==============================] - 17s 2s/step - loss: 1.5228\n",
      "Epoch 29/150\n",
      "11/11 [==============================] - 16s 1s/step - loss: 1.4896\n",
      "Epoch 30/150\n",
      "11/11 [==============================] - 17s 2s/step - loss: 1.4499\n",
      "Epoch 31/150\n",
      "11/11 [==============================] - 18s 2s/step - loss: 1.4129\n",
      "Epoch 32/150\n",
      "11/11 [==============================] - 17s 2s/step - loss: 1.3727\n",
      "Epoch 33/150\n",
      "11/11 [==============================] - 19s 2s/step - loss: 1.3372\n",
      "Epoch 34/150\n",
      "11/11 [==============================] - 16s 1s/step - loss: 1.2960\n",
      "Epoch 35/150\n",
      "11/11 [==============================] - 17s 2s/step - loss: 1.2565\n",
      "Epoch 36/150\n",
      "11/11 [==============================] - 18s 2s/step - loss: 1.2193\n",
      "Epoch 37/150\n",
      "11/11 [==============================] - 17s 2s/step - loss: 1.1796\n",
      "Epoch 38/150\n",
      "11/11 [==============================] - 18s 2s/step - loss: 1.1368\n",
      "Epoch 39/150\n",
      "11/11 [==============================] - 19s 2s/step - loss: 1.0968\n",
      "Epoch 40/150\n",
      "11/11 [==============================] - 18s 2s/step - loss: 1.0550\n",
      "Epoch 41/150\n",
      "11/11 [==============================] - 18s 2s/step - loss: 1.0167\n",
      "Epoch 42/150\n",
      "11/11 [==============================] - 17s 1s/step - loss: 0.9717\n",
      "Epoch 43/150\n",
      "11/11 [==============================] - 16s 1s/step - loss: 0.9332\n",
      "Epoch 44/150\n",
      "11/11 [==============================] - 19s 2s/step - loss: 0.8901\n",
      "Epoch 45/150\n",
      "11/11 [==============================] - 17s 2s/step - loss: 0.8431\n",
      "Epoch 46/150\n",
      "11/11 [==============================] - 15s 1s/step - loss: 0.8016\n",
      "Epoch 47/150\n",
      "11/11 [==============================] - 15s 1s/step - loss: 0.7558\n",
      "Epoch 48/150\n",
      "11/11 [==============================] - 16s 1s/step - loss: 0.7094\n",
      "Epoch 49/150\n",
      "11/11 [==============================] - 16s 1s/step - loss: 0.6640\n",
      "Epoch 50/150\n",
      "11/11 [==============================] - 17s 1s/step - loss: 0.6174\n",
      "Epoch 51/150\n",
      "11/11 [==============================] - 17s 1s/step - loss: 0.5768\n",
      "Epoch 52/150\n",
      "11/11 [==============================] - 15s 1s/step - loss: 0.5333\n",
      "Epoch 53/150\n",
      "11/11 [==============================] - 17s 2s/step - loss: 0.4917\n",
      "Epoch 54/150\n",
      "11/11 [==============================] - 17s 1s/step - loss: 0.4504\n",
      "Epoch 55/150\n",
      "11/11 [==============================] - 16s 1s/step - loss: 0.4110\n",
      "Epoch 56/150\n",
      "11/11 [==============================] - 17s 2s/step - loss: 0.3741\n",
      "Epoch 57/150\n",
      "11/11 [==============================] - 16s 1s/step - loss: 0.3380\n",
      "Epoch 58/150\n",
      "11/11 [==============================] - 16s 1s/step - loss: 0.3060\n",
      "Epoch 59/150\n",
      "11/11 [==============================] - 17s 1s/step - loss: 0.2767\n",
      "Epoch 60/150\n",
      "11/11 [==============================] - 16s 1s/step - loss: 0.2508\n",
      "Epoch 61/150\n",
      "11/11 [==============================] - 16s 1s/step - loss: 0.2284\n",
      "Epoch 62/150\n",
      "11/11 [==============================] - 17s 2s/step - loss: 0.2058\n",
      "Epoch 63/150\n",
      "11/11 [==============================] - 17s 1s/step - loss: 0.1881\n",
      "Epoch 64/150\n",
      "11/11 [==============================] - 17s 2s/step - loss: 0.1743\n",
      "Epoch 65/150\n",
      "11/11 [==============================] - 16s 1s/step - loss: 0.1581\n",
      "Epoch 66/150\n",
      "11/11 [==============================] - 16s 1s/step - loss: 0.1449\n",
      "Epoch 67/150\n",
      "11/11 [==============================] - 16s 1s/step - loss: 0.1325\n",
      "Epoch 68/150\n",
      "11/11 [==============================] - 16s 1s/step - loss: 0.1227\n",
      "Epoch 69/150\n",
      "11/11 [==============================] - 16s 1s/step - loss: 0.1155\n",
      "Epoch 70/150\n",
      "11/11 [==============================] - 16s 1s/step - loss: 0.1084\n",
      "Epoch 71/150\n",
      "11/11 [==============================] - 16s 1s/step - loss: 0.1033\n",
      "Epoch 72/150\n",
      "11/11 [==============================] - 16s 1s/step - loss: 0.0978\n",
      "Epoch 73/150\n",
      "11/11 [==============================] - 17s 2s/step - loss: 0.0941\n",
      "Epoch 74/150\n",
      "11/11 [==============================] - 16s 1s/step - loss: 0.0902\n",
      "Epoch 75/150\n",
      "11/11 [==============================] - 16s 1s/step - loss: 0.0865\n",
      "Epoch 76/150\n",
      "11/11 [==============================] - 15s 1s/step - loss: 0.0829\n",
      "Epoch 77/150\n",
      "11/11 [==============================] - 16s 1s/step - loss: 0.0796\n",
      "Epoch 78/150\n",
      "11/11 [==============================] - 16s 1s/step - loss: 0.0773\n",
      "Epoch 79/150\n",
      "11/11 [==============================] - 17s 1s/step - loss: 0.0747\n",
      "Epoch 80/150\n",
      "11/11 [==============================] - 16s 1s/step - loss: 0.0719\n",
      "Epoch 81/150\n",
      "11/11 [==============================] - 16s 1s/step - loss: 0.0697\n",
      "Epoch 82/150\n",
      "11/11 [==============================] - 16s 1s/step - loss: 0.0680\n",
      "Epoch 83/150\n",
      "11/11 [==============================] - 16s 1s/step - loss: 0.0664\n",
      "Epoch 84/150\n",
      "11/11 [==============================] - 17s 1s/step - loss: 0.0653\n",
      "Epoch 85/150\n",
      "11/11 [==============================] - 15s 1s/step - loss: 0.0648\n",
      "Epoch 86/150\n",
      "11/11 [==============================] - 16s 1s/step - loss: 0.0639\n",
      "Epoch 87/150\n",
      "11/11 [==============================] - 16s 1s/step - loss: 0.0622\n",
      "Epoch 88/150\n",
      "11/11 [==============================] - 18s 2s/step - loss: 0.0610\n",
      "Epoch 89/150\n",
      "11/11 [==============================] - 16s 1s/step - loss: 0.0600\n",
      "Epoch 90/150\n",
      "11/11 [==============================] - 16s 1s/step - loss: 0.0592\n",
      "Epoch 91/150\n",
      "11/11 [==============================] - 16s 1s/step - loss: 0.0582\n",
      "Epoch 92/150\n",
      "11/11 [==============================] - 17s 1s/step - loss: 0.0573\n",
      "Epoch 93/150\n",
      "11/11 [==============================] - 16s 1s/step - loss: 0.0563\n",
      "Epoch 94/150\n",
      "11/11 [==============================] - 16s 1s/step - loss: 0.0558\n",
      "Epoch 95/150\n",
      "11/11 [==============================] - 17s 1s/step - loss: 0.0555\n",
      "Epoch 96/150\n",
      "11/11 [==============================] - 16s 1s/step - loss: 0.0550\n",
      "Epoch 97/150\n",
      "11/11 [==============================] - 16s 1s/step - loss: 0.0552\n",
      "Epoch 98/150\n",
      "11/11 [==============================] - 16s 1s/step - loss: 0.0546\n",
      "Epoch 99/150\n",
      "11/11 [==============================] - 16s 1s/step - loss: 0.0536\n",
      "Epoch 100/150\n",
      "11/11 [==============================] - 18s 2s/step - loss: 0.0527\n",
      "Epoch 101/150\n",
      "11/11 [==============================] - 19s 2s/step - loss: 0.0523\n",
      "Epoch 102/150\n"
     ]
    },
    {
     "name": "stdout",
     "output_type": "stream",
     "text": [
      "11/11 [==============================] - 18s 2s/step - loss: 0.0524\n",
      "Epoch 103/150\n",
      "11/11 [==============================] - 17s 2s/step - loss: 0.0519\n",
      "Epoch 104/150\n",
      "11/11 [==============================] - 18s 2s/step - loss: 0.0516\n",
      "Epoch 105/150\n",
      "11/11 [==============================] - 19s 2s/step - loss: 0.0512\n",
      "Epoch 106/150\n",
      "11/11 [==============================] - 20s 2s/step - loss: 0.0513\n",
      "Epoch 107/150\n",
      "11/11 [==============================] - 18s 2s/step - loss: 0.0513\n",
      "Epoch 108/150\n",
      "11/11 [==============================] - 16s 1s/step - loss: 0.0506\n",
      "Epoch 109/150\n",
      "11/11 [==============================] - 16s 1s/step - loss: 0.0505\n",
      "Epoch 110/150\n",
      "11/11 [==============================] - 16s 1s/step - loss: 0.0511\n",
      "Epoch 111/150\n",
      "11/11 [==============================] - 16s 1s/step - loss: 0.0507\n",
      "Epoch 112/150\n",
      "11/11 [==============================] - 16s 1s/step - loss: 0.0510\n",
      "Epoch 113/150\n",
      "11/11 [==============================] - 16s 1s/step - loss: 0.0509\n",
      "Epoch 114/150\n",
      "11/11 [==============================] - 15s 1s/step - loss: 0.0509\n",
      "Epoch 115/150\n",
      "11/11 [==============================] - 16s 1s/step - loss: 0.0497\n",
      "Epoch 116/150\n",
      "11/11 [==============================] - 16s 1s/step - loss: 0.0490\n",
      "Epoch 117/150\n",
      "11/11 [==============================] - 17s 2s/step - loss: 0.0478\n",
      "Epoch 118/150\n",
      "11/11 [==============================] - 17s 2s/step - loss: 0.0474\n",
      "Epoch 119/150\n",
      "11/11 [==============================] - 16s 1s/step - loss: 0.0486\n",
      "Epoch 120/150\n",
      "11/11 [==============================] - 16s 1s/step - loss: 0.0481\n",
      "Epoch 121/150\n",
      "11/11 [==============================] - 16s 1s/step - loss: 0.0471\n",
      "Epoch 122/150\n",
      "11/11 [==============================] - 16s 1s/step - loss: 0.0466\n",
      "Epoch 123/150\n",
      "11/11 [==============================] - 15s 1s/step - loss: 0.0459\n",
      "Epoch 124/150\n",
      "11/11 [==============================] - 17s 2s/step - loss: 0.0456\n",
      "Epoch 125/150\n",
      "11/11 [==============================] - 16s 1s/step - loss: 0.0453\n",
      "Epoch 126/150\n",
      "11/11 [==============================] - 16s 1s/step - loss: 0.0453\n",
      "Epoch 127/150\n",
      "11/11 [==============================] - 16s 1s/step - loss: 0.0451\n",
      "Epoch 128/150\n",
      "11/11 [==============================] - 18s 2s/step - loss: 0.0450\n",
      "Epoch 129/150\n",
      "11/11 [==============================] - 18s 2s/step - loss: 0.0466\n",
      "Epoch 130/150\n",
      "11/11 [==============================] - 16s 1s/step - loss: 0.0464\n",
      "Epoch 131/150\n",
      "11/11 [==============================] - 16s 1s/step - loss: 0.0457\n",
      "Epoch 132/150\n",
      "11/11 [==============================] - 16s 1s/step - loss: 0.0466\n",
      "Epoch 133/150\n",
      "11/11 [==============================] - 16s 1s/step - loss: 0.0475\n",
      "Epoch 134/150\n",
      "11/11 [==============================] - 16s 1s/step - loss: 0.0470\n",
      "Epoch 135/150\n",
      "11/11 [==============================] - 15s 1s/step - loss: 0.0484\n",
      "Epoch 136/150\n",
      "11/11 [==============================] - 16s 1s/step - loss: 0.0476\n",
      "Epoch 137/150\n",
      "11/11 [==============================] - 16s 1s/step - loss: 0.0479\n",
      "Epoch 138/150\n",
      "11/11 [==============================] - 16s 1s/step - loss: 0.0485\n",
      "Epoch 139/150\n",
      "11/11 [==============================] - 16s 1s/step - loss: 0.0494\n",
      "Epoch 140/150\n",
      "11/11 [==============================] - 15s 1s/step - loss: 0.0510\n",
      "Epoch 141/150\n",
      "11/11 [==============================] - 16s 1s/step - loss: 0.0538\n",
      "Epoch 142/150\n",
      "11/11 [==============================] - 15s 1s/step - loss: 0.0558\n",
      "Epoch 143/150\n",
      "11/11 [==============================] - 17s 2s/step - loss: 0.0619\n",
      "Epoch 144/150\n",
      "11/11 [==============================] - 16s 1s/step - loss: 0.0655\n",
      "Epoch 145/150\n",
      "11/11 [==============================] - 15s 1s/step - loss: 0.0645\n",
      "Epoch 146/150\n",
      "11/11 [==============================] - 16s 1s/step - loss: 0.0637\n",
      "Epoch 147/150\n",
      "11/11 [==============================] - 16s 1s/step - loss: 0.0632\n",
      "Epoch 148/150\n",
      "11/11 [==============================] - 16s 1s/step - loss: 0.0601\n",
      "Epoch 149/150\n",
      "11/11 [==============================] - 15s 1s/step - loss: 0.0582\n",
      "Epoch 150/150\n",
      "11/11 [==============================] - 16s 1s/step - loss: 0.0547\n"
     ]
    }
   ],
   "source": [
    "history = model.fit(dataset, epochs=EPOCHS, callbacks=[checkpoint_callback])"
   ]
  },
  {
   "cell_type": "markdown",
   "metadata": {
    "id": "kKkD5M6eoSiN"
   },
   "source": [
    "## Generate text"
   ]
  },
  {
   "cell_type": "markdown",
   "metadata": {
    "id": "oIdQ8c8NvMzV"
   },
   "source": [
    "The simplest way to generate text with this model is to run it in a loop, and keep track of the model's internal state as you execute it.\n",
    "\n",
    "![To generate text the model's output is fed back to the input](images/text_generation_sampling.png)\n",
    "\n",
    "Each time you call the model you pass in some text and an internal state. The model returns a prediction for the next character and its new state. Pass the prediction and state back in to continue generating text.\n"
   ]
  },
  {
   "cell_type": "markdown",
   "metadata": {
    "id": "DjGz1tDkzf-u"
   },
   "source": [
    "The following makes a single step prediction:"
   ]
  },
  {
   "cell_type": "code",
   "execution_count": 39,
   "metadata": {
    "execution": {
     "iopub.execute_input": "2021-05-21T15:41:07.657627Z",
     "iopub.status.busy": "2021-05-21T15:41:07.656671Z",
     "iopub.status.idle": "2021-05-21T15:41:07.659150Z",
     "shell.execute_reply": "2021-05-21T15:41:07.658631Z"
    },
    "id": "iSBU1tHmlUSs"
   },
   "outputs": [],
   "source": [
    "class OneStep(tf.keras.Model):\n",
    "  def __init__(self, model, chars_from_ids, ids_from_chars, temperature=1.0):\n",
    "    super().__init__()\n",
    "    self.temperature = temperature\n",
    "    self.model = model\n",
    "    self.chars_from_ids = chars_from_ids\n",
    "    self.ids_from_chars = ids_from_chars\n",
    "\n",
    "    # Create a mask to prevent \"[UNK]\" from being generated.\n",
    "    skip_ids = self.ids_from_chars(['[UNK]'])[:, None]\n",
    "    sparse_mask = tf.SparseTensor(\n",
    "        # Put a -inf at each bad index.\n",
    "        values=[-float('inf')]*len(skip_ids),\n",
    "        indices=skip_ids,\n",
    "        # Match the shape to the vocabulary\n",
    "        dense_shape=[len(ids_from_chars.get_vocabulary())])\n",
    "    self.prediction_mask = tf.sparse.to_dense(sparse_mask)\n",
    "\n",
    "  @tf.function\n",
    "  def generate_one_step(self, inputs, states=None):\n",
    "    # Convert strings to token IDs.\n",
    "    input_chars = tf.strings.unicode_split(inputs, 'UTF-8')\n",
    "    input_ids = self.ids_from_chars(input_chars).to_tensor()\n",
    "\n",
    "    # Run the model.\n",
    "    # predicted_logits.shape is [batch, char, next_char_logits]\n",
    "    predicted_logits, states = self.model(inputs=input_ids, states=states,\n",
    "                                          return_state=True)\n",
    "    # Only use the last prediction.\n",
    "    predicted_logits = predicted_logits[:, -1, :]\n",
    "    predicted_logits = predicted_logits/self.temperature\n",
    "    # Apply the prediction mask: prevent \"[UNK]\" from being generated.\n",
    "    predicted_logits = predicted_logits + self.prediction_mask\n",
    "\n",
    "    # Sample the output logits to generate token IDs.\n",
    "    predicted_ids = tf.random.categorical(predicted_logits, num_samples=1)\n",
    "    predicted_ids = tf.squeeze(predicted_ids, axis=-1)\n",
    "\n",
    "    # Convert from token ids to characters\n",
    "    predicted_chars = self.chars_from_ids(predicted_ids)\n",
    "\n",
    "    # Return the characters and model state.\n",
    "    return predicted_chars, states"
   ]
  },
  {
   "cell_type": "code",
   "execution_count": 40,
   "metadata": {
    "execution": {
     "iopub.execute_input": "2021-05-21T15:41:07.664421Z",
     "iopub.status.busy": "2021-05-21T15:41:07.663498Z",
     "iopub.status.idle": "2021-05-21T15:41:07.670551Z",
     "shell.execute_reply": "2021-05-21T15:41:07.670099Z"
    },
    "id": "fqMOuDutnOxK"
   },
   "outputs": [],
   "source": [
    "one_step_model = OneStep(model, chars_from_ids, ids_from_chars)"
   ]
  },
  {
   "cell_type": "markdown",
   "metadata": {
    "id": "p9yDoa0G3IgQ"
   },
   "source": [
    "Run it in a loop to generate some text. Looking at the generated text, you'll see the model knows when to capitalize, make paragraphs and imitates a Shakespeare-like writing vocabulary. With the small number of training epochs, it has not yet learned to form coherent sentences."
   ]
  },
  {
   "cell_type": "code",
   "execution_count": 41,
   "metadata": {
    "execution": {
     "iopub.execute_input": "2021-05-21T15:41:07.676784Z",
     "iopub.status.busy": "2021-05-21T15:41:07.675916Z",
     "iopub.status.idle": "2021-05-21T15:41:10.098880Z",
     "shell.execute_reply": "2021-05-21T15:41:10.099272Z"
    },
    "id": "ST7PSyk9t1mT"
   },
   "outputs": [
    {
     "name": "stdout",
     "output_type": "stream",
     "text": [
      "ROMEO:  A bet’s greamon’s watched ! \n",
      " \" \n",
      "Iternoon I  \" Asher . \n",
      " \" No one makes cookies like Grandma ,  \"  said Ma as the doorbell rang . \n",
      "It was Joy and Simon with the best if over the big ,  hungry Bear ! \n",
      " Cun ! \n",
      " Time for a bath ,  Biscuit ! \n",
      "  Woof ,  woof ! \n",
      "  Biscuit wants to play . \n",
      "Time for a bath ,  Biscuit ! \n",
      "  Will you go away ? \n",
      " There now ,  go away with your stick . \n",
      "What do you call a bit on the sun ,  \"  said Pig . \n",
      " \" Maybe the sun is hiding behind the barn ,  \"  said Cow . \n",
      " \" What are you doing ? \n",
      " \"   \" We treef ! \n",
      " Leo got to the Club . \n",
      "The tell time for a bath ,  Biscuit ! \n",
      "  Woof ,  woof ! \n",
      "  Biscuit wants to play . \n",
      "Time for a bath ,  Biscuit ! \n",
      "  Will for my went . \n",
      "Bit out the windor without a load ,  they quickly climb And reach the peakin dinoticery things it looked like a Tree . \n",
      " But it wasn 't a Tree . \n",
      "Sometimes it looked like an Ice Cream Cone . \n",
      " But it wasn 't a Pig . \n",
      "Sometimes it looked like a Birthday Cake . \n",
      "Sometimes it looked like a Squirrel . \n",
      " But \n",
      "\n",
      "________________________________________________________________________________\n",
      "\n",
      "Run time: 1.9717159271240234\n"
     ]
    }
   ],
   "source": [
    "start = time.time()\n",
    "states = None\n",
    "next_char = tf.constant(['ROMEO:'])\n",
    "result = [next_char]\n",
    "\n",
    "for n in range(1000):\n",
    "  next_char, states = one_step_model.generate_one_step(next_char, states=states)\n",
    "  result.append(next_char)\n",
    "\n",
    "result = tf.strings.join(result)\n",
    "end = time.time()\n",
    "print(result[0].numpy().decode('utf-8'), '\\n\\n' + '_'*80)\n",
    "print('\\nRun time:', end - start)"
   ]
  },
  {
   "cell_type": "markdown",
   "metadata": {
    "id": "AM2Uma_-yVIq"
   },
   "source": [
    "The easiest thing you can do to improve the results is to train it for longer (try `EPOCHS = 30`).\n",
    "\n",
    "You can also experiment with a different start string, try adding another RNN layer to improve the model's accuracy, or adjust the temperature parameter to generate more or less random predictions."
   ]
  },
  {
   "cell_type": "markdown",
   "metadata": {
    "id": "_OfbI4aULmuj"
   },
   "source": [
    "If you want the model to generate text *faster* the easiest thing you can do is batch the text generation. In the example below the model generates 5 outputs in about the same time it took to generate 1 above. "
   ]
  },
  {
   "cell_type": "code",
   "execution_count": 42,
   "metadata": {
    "execution": {
     "iopub.execute_input": "2021-05-21T15:41:10.105268Z",
     "iopub.status.busy": "2021-05-21T15:41:10.104709Z",
     "iopub.status.idle": "2021-05-21T15:41:12.318073Z",
     "shell.execute_reply": "2021-05-21T15:41:12.318494Z"
    },
    "id": "ZkLu7Y8UCMT7"
   },
   "outputs": [
    {
     "name": "stdout",
     "output_type": "stream",
     "text": [
      "tf.Tensor(\n",
      "[b'ROMEO: He . \\nI am newal . \\n \" Look ! \\n \"  called Min . \\n \" I didn \\'t stop . \\nThe trestle \\'s out ! \\n \"  And as the bridge is growing nex a rainbow just for you ,  but the To we tilk a ruince . \\n \" I am not scared ,  \"  said Harriet . \\n \" It is it ? \\n It is a mirror . \\nLook at me . \\nLook at me . \\nLook at me . \\nLook at me . \\nLook at me . \\nLook at what I can make . \\nI can make an ice cream cake . \\nI know what ! \\n I am glad . \\nHe likes to play with a ball . \\nAnd he likes to dinofle . \\nAnd he can soak not fave to seep That flies love best of ally . \\nThe principal yelled ,   \" Where have you been ,  dino for line of sleaked . \\n \"  Now Robot it won . \\nFox a snow and I wanted to make breakfast just for you . \\nbut the eggs were too slipper . \\nWhy Liot the e that for lone . \\n \" Go home . \\n \"  The cat kept walking . \\n \" Scat ,  cat ! \\n \"  said the dog . \\n \" Scat ,  cat ! \\n \"  said the other cats . \\n \" Go home . \\n \"  So the cat walked and walked . \\nAnd the cat walked and walked . \\n \" Scat ,  cat ! \\n \"  s'\n",
      " b'ROMEO: A AnG my rear . \\nHey ,  my wey ! \\n Time for a bath ,  Biscuit ! \\n  Woof ,  woof ! \\n  Biscuit wants to play . \\nTime for a bath ,  Biscuit ! \\n  Wipe soon pofts . \\nBet it does . \\nBut oo the window . \\nHe fired his gun . \\nBUNF ! \\n The snows came . \\nLeo\\xe2\\x80\\x99s father wasn \\'t watching . \\nBut Loo cat ride pley . \\n\\n\\n\\nI can ? \\n I sup ! \\n I  I\\xe2\\x80\\x99s much ano Kay in the sky \"  . \\n \" I wish I were a bird ! \\n \"  said Fishi. \\nHe amal ,  yes ,  it in ,  dog ,  you . \\nRen ,  Minnie . \\n \" That\\xe2\\x80\\x99s time for you to chin popt pillon out of the Zes . \\n \"   \" I bet you \\'re too scared to ride the roller coaster ,  \"  said George . \\n  \" You don \\'t chicken out . \\n \"  As strays . \\nReceived anchine . \\nThut day on the way home from school ,  Ben stops by the Zig Zag Jazz Club . \\nHe joins in ,  on ,  I wash the street . \\nHe trumbet heas now back through the cand . \\nThe cat walked until he came to a little house . \\nThe tired cat climbed the steps play . \\nThen she shole fad through the lunchroom . \\n \" Scat ,  cat ! \\n \"  said t'\n",
      " b'ROMEO:  CARROTS ! \\n At the beet ,  and in the earbenoo jurped Cowe . \\n \" For it you ,  \"  Bebany toos . \\nThey were going camps . \\nHere he comes . \\nWe were worried . \\nMaybe he was sick . \\nMaybe he needed glasses . \\nSo we the way home for you ,  I call . \\n \" Come back ! \\nThe board went on the rock . \\nThe tube got to go through it ! \\n Squull se the tube . \\nThen she put the hose on home there . \\nI pour and pour ever and over the marker and a carrot do . \\nBut I will be sad if you fly ! \\n The boy was surprised . \\nHe said ,   \" You know ,  \"  said Mama ,   \" you can do all those this away now . \\nI think I made some ice cream soup . \\n\\n\\n\\nThis is my dog ,  Bob . \\nTime for a bath ,  Biscuit ! \\n  Wilm toom the fly home . \\n \" This is where I live ! \\n \"  The reel said . \\n \" That from big ,  \"  he said . \\n \" Chicken . \\n \" No ,  \"  he says . \\n \" That\\xe2\\x80\\x99s time Do to it . \\n \" No ,  \"  said Bailey . \\n \" We could read a book ,  \"  said Papa . \\n \" No ,  \"  said the otter crothes . \\nDoe you go away ? \\n There now , '\n",
      " b'ROMEO: A Ane . \\n \" This is no fun . \\n \"   \" Look ! \\n \"  called Min . \\nSpig little bou . \\nHe likes to play with a ball . \\nAnd he likes to dig for bones . \\n It loase stared and carrots appeanut butter . \\nJelly ,  jelly . \\nPeanut butter ,  peanut butter . \\nJelly ,  jelly . \\nPeanut butter ,  peanut butter . \\nJelly ,  jelly . \\nPeanut butter ,  peanut butter . \\nJelly ,  jelly . \\nPeanut butter ,  peanut butter . \\nJelly ,  jelly\\n\\n\\nIn the evening warred a rice . \\nThe cows on a for . \\nThe tile got into to  . \\nhe little kiss oul . \\nHe asks everyone ,    \" What should I wear ? \\n \"   \" Wear your yellow ? \\n You look sad . \\nMy shell is so plain . \\nI wish my shell were sput Mole into the shed and hit the wall . \\nCRACK ! \\n the chick that wouldn \\'t hant any dain . \\nCrash it a lot of work . \\nBut  . \\nhe lets us carry him . \\nAnd he lets us away . \\nOh ,  I \\'m such a sneaky fox did . \\n \" The find something to eat- \\'t loafed and Sictlanie . \\nSut the pook . \\nHe tilted his head up . \\nWhiff when they were to play with'\n",
      " b'ROMEO: Tig . \\nShip . \\nhill prother\\xe2\\x80\\x99s bonallaw . \\nNo respons eat rocks . \\nI ean . \\nNow I can add some of that . \\nThis is not a cake . \\nThis is a mess . \\nWhat did I make ? \\n It last all around . \\nWhere do not scared . \\nOh-oh ! \\n A snowstorm ! \\n As it wasn\\xe2\\x80\\x99t there . \\nI thought ,  Maybe something to catch- something smart ,  so ge ,  ple swim todat . \\n \" Let \\'s play scared do swim and play and SEE things ! \\n Carrot do ! \\n Do you go the ophent lookits ,  \"  the boy spins his rope . \\nHe throws it . \\nAnd it falls on Toto . \\n \" Thank you ,  \"  Bailey ate hot dogs and lived in a tent . \\nHe went swimming and fishing and hunt for bears and tell ghost stories and fall asleep under the stars . \\nAnd eeting dink . \\nDad says . \\n \" Feed morning ,  what I went to clmbst a tree bor . \\n \" Letsh are they sciat . \\nIt was Joot and his loge . \\n \" I like to got hungry ,  \"  said the girl . \\n \" I think he wants to play ,  \"  said the boy . \\nThe cows give milk . \\nThe chickens lay eggs . \\nThe sheep eat rap . \\nHe wat ho'], shape=(5,), dtype=string) \n",
      "\n",
      "________________________________________________________________________________\n",
      "\n",
      "Run time: 2.193233013153076\n"
     ]
    }
   ],
   "source": [
    "start = time.time()\n",
    "states = None\n",
    "next_char = tf.constant(['ROMEO:', 'ROMEO:', 'ROMEO:', 'ROMEO:', 'ROMEO:'])\n",
    "result = [next_char]\n",
    "\n",
    "for n in range(1000):\n",
    "  next_char, states = one_step_model.generate_one_step(next_char, states=states)\n",
    "  result.append(next_char)\n",
    "\n",
    "result = tf.strings.join(result)\n",
    "end = time.time()\n",
    "print(result, '\\n\\n' + '_'*80)\n",
    "print('\\nRun time:', end - start)"
   ]
  },
  {
   "cell_type": "markdown",
   "metadata": {
    "id": "UlUQzwu6EXam"
   },
   "source": [
    "## Export the generator\n",
    "\n",
    "This single-step model can easily be [saved and restored](https://www.tensorflow.org/guide/saved_model), allowing you to use it anywhere a `tf.saved_model` is accepted."
   ]
  },
  {
   "cell_type": "code",
   "execution_count": 43,
   "metadata": {
    "execution": {
     "iopub.execute_input": "2021-05-21T15:41:12.322819Z",
     "iopub.status.busy": "2021-05-21T15:41:12.322212Z",
     "iopub.status.idle": "2021-05-21T15:41:18.731128Z",
     "shell.execute_reply": "2021-05-21T15:41:18.731494Z"
    },
    "id": "3Grk32H_CzsC"
   },
   "outputs": [
    {
     "name": "stdout",
     "output_type": "stream",
     "text": [
      "WARNING:tensorflow:Skipping full serialization of Keras layer <__main__.OneStep object at 0x7fbe1ae83550>, because it is not built.\n"
     ]
    },
    {
     "name": "stderr",
     "output_type": "stream",
     "text": [
      "WARNING:absl:Found untraced functions such as gru_cell_layer_call_and_return_conditional_losses, gru_cell_layer_call_fn, gru_cell_layer_call_fn, gru_cell_layer_call_and_return_conditional_losses, gru_cell_layer_call_and_return_conditional_losses while saving (showing 5 of 5). These functions will not be directly callable after loading.\n"
     ]
    },
    {
     "name": "stdout",
     "output_type": "stream",
     "text": [
      "WARNING:tensorflow:FOR KERAS USERS: The object that you are saving contains one or more Keras models or layers. If you are loading the SavedModel with `tf.keras.models.load_model`, continue reading (otherwise, you may ignore the following instructions). Please change your code to save with `tf.keras.models.save_model` or `model.save`, and confirm that the file \"keras.metadata\" exists in the export directory. In the future, Keras will only load the SavedModels that have this file. In other words, `tf.saved_model.save` will no longer write SavedModels that can be recovered as Keras models (this will apply in TF 2.5).\n",
      "\n",
      "FOR DEVS: If you are overwriting _tracking_metadata in your class, this property has been used to save metadata in the SavedModel. The metadta field will be deprecated soon, so please move the metadata to a different file.\n"
     ]
    },
    {
     "name": "stderr",
     "output_type": "stream",
     "text": [
      "WARNING:tensorflow:FOR KERAS USERS: The object that you are saving contains one or more Keras models or layers. If you are loading the SavedModel with `tf.keras.models.load_model`, continue reading (otherwise, you may ignore the following instructions). Please change your code to save with `tf.keras.models.save_model` or `model.save`, and confirm that the file \"keras.metadata\" exists in the export directory. In the future, Keras will only load the SavedModels that have this file. In other words, `tf.saved_model.save` will no longer write SavedModels that can be recovered as Keras models (this will apply in TF 2.5).\n",
      "\n",
      "FOR DEVS: If you are overwriting _tracking_metadata in your class, this property has been used to save metadata in the SavedModel. The metadta field will be deprecated soon, so please move the metadata to a different file.\n"
     ]
    },
    {
     "name": "stdout",
     "output_type": "stream",
     "text": [
      "INFO:tensorflow:Assets written to: one_step/assets\n"
     ]
    },
    {
     "name": "stderr",
     "output_type": "stream",
     "text": [
      "INFO:tensorflow:Assets written to: one_step/assets\n"
     ]
    }
   ],
   "source": [
    "tf.saved_model.save(one_step_model, 'one_step')\n",
    "one_step_reloaded = tf.saved_model.load('one_step')"
   ]
  },
  {
   "cell_type": "code",
   "execution_count": 44,
   "metadata": {
    "execution": {
     "iopub.execute_input": "2021-05-21T15:41:18.737600Z",
     "iopub.status.busy": "2021-05-21T15:41:18.736670Z",
     "iopub.status.idle": "2021-05-21T15:41:19.058199Z",
     "shell.execute_reply": "2021-05-21T15:41:19.058579Z"
    },
    "id": "_Z9bb_wX6Uuu"
   },
   "outputs": [
    {
     "name": "stdout",
     "output_type": "stream",
     "text": [
      "ROMEO: Her ,  Mimi said . \n",
      " \" Can Bob speak ? \n",
      " \"  But Bob did not speak . \n",
      " \" We wingr ! \n",
      " \"  chied Hen . \n",
      "Ohe not go you are go . \n",
      "And Cow look at moth ,  \"  said Bess . \n",
      " \" I will look for water ! \n",
      " \"  said Min . \n",
      "Min turtle is Tuttle . \n",
      "This is the egg That went into the cake that Mack ate . \n",
      "This is Pug . \n",
      "Pag lake a shire . \n",
      "I thought ,  Maybe she something to eat- Something tasty . \n",
      "Something slimy . \n",
      "A boy went walking . \n",
      " \" Scat ,  cat ! \n",
      " \"  said the dog . \n",
      " \" Scat ,  cat ! \n",
      " \"  said the other cats . \n",
      " \" Go home . \n",
      " \"  So the cat walked and walked . \n",
      "And the cat walked and walked . \n",
      " \" Scat ,  cat ! \n",
      " \"  said the very ,  very boastful kangaroo . \n",
      " \" I can jump higher . \n",
      "But this smart pig knows that is just another wig . \n",
      "I will leave the wig . \n",
      "I will tlay as I can 't slade . \n",
      "I can read words in a tree . \n",
      "on the floor . \n",
      "The picture and find and thenching something to stop . \n",
      "The engs can play with you ,  Freddy . \n",
      " \"   \" Not now . \n",
      "Can’t you see ? \n",
      " I am eating spaghetti . \n",
      " \"  \n"
     ]
    }
   ],
   "source": [
    "states = None\n",
    "next_char = tf.constant(['ROMEO:'])\n",
    "result = [next_char]\n",
    "\n",
    "for n in range(1000):\n",
    "  next_char, states = one_step_reloaded.generate_one_step(next_char, states=states)\n",
    "  result.append(next_char)\n",
    "\n",
    "print(tf.strings.join(result)[0].numpy().decode(\"utf-8\"))"
   ]
  },
  {
   "cell_type": "markdown",
   "metadata": {
    "id": "Y4QwTjAM6A2O"
   },
   "source": [
    "## Advanced: Customized Training\n",
    "\n",
    "The above training procedure is simple, but does not give you much control.\n",
    "It uses teacher-forcing which prevents bad predictions from being fed back to the model, so the model never learns to recover from mistakes.\n",
    "\n",
    "So now that you've seen how to run the model manually next you'll implement the training loop. This gives a starting point if, for example, you want to implement _curriculum  learning_ to help stabilize the model's open-loop output.\n",
    "\n",
    "The most important part of a custom training loop is the train step function.\n",
    "\n",
    "Use `tf.GradientTape` to track the gradients. You can learn more about this approach by reading the [eager execution guide](https://www.tensorflow.org/guide/eager).\n",
    "\n",
    "The basic procedure is:\n",
    "\n",
    "1. Execute the model and calculate the loss under a `tf.GradientTape`.\n",
    "2. Calculate the updates and apply them to the model using the optimizer."
   ]
  },
  {
   "cell_type": "code",
   "execution_count": 45,
   "metadata": {
    "execution": {
     "iopub.execute_input": "2021-05-21T15:41:19.063557Z",
     "iopub.status.busy": "2021-05-21T15:41:19.062987Z",
     "iopub.status.idle": "2021-05-21T15:41:19.065215Z",
     "shell.execute_reply": "2021-05-21T15:41:19.064776Z"
    },
    "id": "x0pZ101hjwW0"
   },
   "outputs": [],
   "source": [
    "class CustomTraining(MyModel):\n",
    "  @tf.function\n",
    "  def train_step(self, inputs):\n",
    "      inputs, labels = inputs\n",
    "      with tf.GradientTape() as tape:\n",
    "          predictions = self(inputs, training=True)\n",
    "          loss = self.loss(labels, predictions)\n",
    "      grads = tape.gradient(loss, model.trainable_variables)\n",
    "      self.optimizer.apply_gradients(zip(grads, model.trainable_variables))\n",
    "\n",
    "      return {'loss': loss}"
   ]
  },
  {
   "cell_type": "markdown",
   "metadata": {
    "id": "4Oc-eJALcK8B"
   },
   "source": [
    "The above implementation of the `train_step` method follows [Keras' `train_step` conventions](https://www.tensorflow.org/guide/keras/customizing_what_happens_in_fit). This is optional, but it allows you to change the behavior of the train step and still use keras' `Model.compile` and `Model.fit` methods."
   ]
  },
  {
   "cell_type": "code",
   "execution_count": 46,
   "metadata": {
    "execution": {
     "iopub.execute_input": "2021-05-21T15:41:19.069656Z",
     "iopub.status.busy": "2021-05-21T15:41:19.069125Z",
     "iopub.status.idle": "2021-05-21T15:41:19.074818Z",
     "shell.execute_reply": "2021-05-21T15:41:19.075152Z"
    },
    "id": "XKyWiZ_Lj7w5"
   },
   "outputs": [],
   "source": [
    "model = CustomTraining(\n",
    "    vocab_size=len(ids_from_chars.get_vocabulary()),\n",
    "    embedding_dim=embedding_dim,\n",
    "    rnn_units=rnn_units)"
   ]
  },
  {
   "cell_type": "code",
   "execution_count": 47,
   "metadata": {
    "execution": {
     "iopub.execute_input": "2021-05-21T15:41:19.080446Z",
     "iopub.status.busy": "2021-05-21T15:41:19.079917Z",
     "iopub.status.idle": "2021-05-21T15:41:19.083193Z",
     "shell.execute_reply": "2021-05-21T15:41:19.083547Z"
    },
    "id": "U817KUm7knlm"
   },
   "outputs": [],
   "source": [
    "model.compile(optimizer = tf.keras.optimizers.Adam(),\n",
    "              loss=tf.keras.losses.SparseCategoricalCrossentropy(from_logits=True))"
   ]
  },
  {
   "cell_type": "code",
   "execution_count": 48,
   "metadata": {
    "execution": {
     "iopub.execute_input": "2021-05-21T15:41:19.087123Z",
     "iopub.status.busy": "2021-05-21T15:41:19.086527Z",
     "iopub.status.idle": "2021-05-21T15:41:26.289717Z",
     "shell.execute_reply": "2021-05-21T15:41:26.290140Z"
    },
    "id": "o694aoBPnEi9"
   },
   "outputs": [
    {
     "name": "stdout",
     "output_type": "stream",
     "text": [
      "Epoch 1/100\n",
      "11/11 [==============================] - 20s 2s/step - loss: 4.6236\n",
      "Epoch 2/100\n",
      "11/11 [==============================] - 17s 1s/step - loss: 3.5900\n",
      "Epoch 3/100\n",
      "11/11 [==============================] - 20s 2s/step - loss: 3.0651\n",
      "Epoch 4/100\n",
      "11/11 [==============================] - 18s 2s/step - loss: 2.8961\n",
      "Epoch 5/100\n",
      "11/11 [==============================] - 17s 2s/step - loss: 2.7391\n",
      "Epoch 6/100\n",
      "11/11 [==============================] - 19s 2s/step - loss: 2.5614\n",
      "Epoch 7/100\n",
      "11/11 [==============================] - 19s 2s/step - loss: 2.3921\n",
      "Epoch 8/100\n",
      "11/11 [==============================] - 18s 2s/step - loss: 2.2577\n",
      "Epoch 9/100\n",
      "11/11 [==============================] - 16s 1s/step - loss: 2.1792\n",
      "Epoch 10/100\n",
      "11/11 [==============================] - 17s 1s/step - loss: 2.1255\n",
      "Epoch 11/100\n",
      "11/11 [==============================] - 21s 2s/step - loss: 2.0878\n",
      "Epoch 12/100\n",
      "11/11 [==============================] - 21s 2s/step - loss: 2.0527\n",
      "Epoch 13/100\n",
      "11/11 [==============================] - 18s 2s/step - loss: 2.0252\n",
      "Epoch 14/100\n",
      "11/11 [==============================] - 20s 2s/step - loss: 1.9998\n",
      "Epoch 15/100\n",
      "11/11 [==============================] - 18s 2s/step - loss: 1.9687\n",
      "Epoch 16/100\n",
      "11/11 [==============================] - 18s 2s/step - loss: 1.9402\n",
      "Epoch 17/100\n",
      "11/11 [==============================] - 15s 1s/step - loss: 1.9135\n",
      "Epoch 18/100\n",
      "11/11 [==============================] - 16s 1s/step - loss: 1.8815\n",
      "Epoch 19/100\n",
      "11/11 [==============================] - 15s 1s/step - loss: 1.8489\n",
      "Epoch 20/100\n",
      "11/11 [==============================] - 15s 1s/step - loss: 1.8212\n",
      "Epoch 21/100\n",
      "11/11 [==============================] - 15s 1s/step - loss: 1.7921\n",
      "Epoch 22/100\n",
      "11/11 [==============================] - 18s 2s/step - loss: 1.7576\n",
      "Epoch 23/100\n",
      "11/11 [==============================] - 21s 2s/step - loss: 1.7268\n",
      "Epoch 24/100\n",
      "11/11 [==============================] - 19s 2s/step - loss: 1.7020\n",
      "Epoch 25/100\n",
      "11/11 [==============================] - 19s 2s/step - loss: 1.6638\n",
      "Epoch 26/100\n",
      "11/11 [==============================] - 16s 1s/step - loss: 1.6341\n",
      "Epoch 27/100\n",
      "11/11 [==============================] - 16s 1s/step - loss: 1.6054\n",
      "Epoch 28/100\n",
      "11/11 [==============================] - 15s 1s/step - loss: 1.5675\n",
      "Epoch 29/100\n",
      "11/11 [==============================] - 17s 2s/step - loss: 1.5338\n",
      "Epoch 30/100\n",
      "11/11 [==============================] - 16s 1s/step - loss: 1.4995\n",
      "Epoch 31/100\n",
      "11/11 [==============================] - 17s 1s/step - loss: 1.4659\n",
      "Epoch 32/100\n",
      "11/11 [==============================] - 16s 1s/step - loss: 1.4277\n",
      "Epoch 33/100\n",
      "11/11 [==============================] - 17s 2s/step - loss: 1.3953\n",
      "Epoch 34/100\n",
      "11/11 [==============================] - 20s 2s/step - loss: 1.3560\n",
      "Epoch 35/100\n",
      "11/11 [==============================] - 21s 2s/step - loss: 1.3194\n",
      "Epoch 36/100\n",
      "11/11 [==============================] - 22s 2s/step - loss: 1.2787\n",
      "Epoch 37/100\n",
      "11/11 [==============================] - 21s 2s/step - loss: 1.2446\n",
      "Epoch 38/100\n",
      "11/11 [==============================] - 22s 2s/step - loss: 1.2026\n",
      "Epoch 39/100\n",
      "11/11 [==============================] - 20s 2s/step - loss: 1.1685\n",
      "Epoch 40/100\n",
      "11/11 [==============================] - 20s 2s/step - loss: 1.1263\n",
      "Epoch 41/100\n",
      "11/11 [==============================] - 19s 2s/step - loss: 1.0795\n",
      "Epoch 42/100\n",
      "11/11 [==============================] - 16s 1s/step - loss: 1.0442\n",
      "Epoch 43/100\n",
      "11/11 [==============================] - 16s 1s/step - loss: 1.0032\n",
      "Epoch 44/100\n",
      "11/11 [==============================] - 16s 1s/step - loss: 0.9681\n",
      "Epoch 45/100\n",
      "11/11 [==============================] - 16s 1s/step - loss: 0.9293\n",
      "Epoch 46/100\n",
      "11/11 [==============================] - 17s 1s/step - loss: 0.8884\n",
      "Epoch 47/100\n",
      "11/11 [==============================] - 16s 1s/step - loss: 0.8436\n",
      "Epoch 48/100\n",
      "11/11 [==============================] - 16s 1s/step - loss: 0.7995\n",
      "Epoch 49/100\n",
      "11/11 [==============================] - 15s 1s/step - loss: 0.7579\n",
      "Epoch 50/100\n",
      "11/11 [==============================] - 17s 2s/step - loss: 0.7125\n",
      "Epoch 51/100\n",
      "11/11 [==============================] - 17s 2s/step - loss: 0.6666\n",
      "Epoch 52/100\n",
      "11/11 [==============================] - 18s 2s/step - loss: 0.6233\n",
      "Epoch 53/100\n",
      "11/11 [==============================] - 16s 1s/step - loss: 0.5833\n",
      "Epoch 54/100\n",
      "11/11 [==============================] - 16s 1s/step - loss: 0.5386\n",
      "Epoch 55/100\n",
      "11/11 [==============================] - 16s 1s/step - loss: 0.4968\n",
      "Epoch 56/100\n",
      "11/11 [==============================] - 16s 1s/step - loss: 0.4630\n",
      "Epoch 57/100\n",
      "11/11 [==============================] - 16s 1s/step - loss: 0.4220\n",
      "Epoch 58/100\n",
      "11/11 [==============================] - 16s 1s/step - loss: 0.3856\n",
      "Epoch 59/100\n",
      "11/11 [==============================] - 16s 1s/step - loss: 0.3497\n",
      "Epoch 60/100\n",
      "11/11 [==============================] - 16s 1s/step - loss: 0.3186\n",
      "Epoch 61/100\n",
      "11/11 [==============================] - 16s 1s/step - loss: 0.2870\n",
      "Epoch 62/100\n",
      "11/11 [==============================] - 15s 1s/step - loss: 0.2591\n",
      "Epoch 63/100\n",
      "11/11 [==============================] - 16s 1s/step - loss: 0.2351\n",
      "Epoch 64/100\n",
      "11/11 [==============================] - 16s 1s/step - loss: 0.2122\n",
      "Epoch 65/100\n",
      "11/11 [==============================] - 15s 1s/step - loss: 0.1946\n",
      "Epoch 66/100\n",
      "11/11 [==============================] - 15s 1s/step - loss: 0.1787\n",
      "Epoch 67/100\n",
      "11/11 [==============================] - 16s 1s/step - loss: 0.1658\n",
      "Epoch 68/100\n",
      "11/11 [==============================] - 15s 1s/step - loss: 0.1536\n",
      "Epoch 69/100\n",
      "11/11 [==============================] - 15s 1s/step - loss: 0.1435\n",
      "Epoch 70/100\n",
      "11/11 [==============================] - 16s 1s/step - loss: 0.1329\n",
      "Epoch 71/100\n",
      "11/11 [==============================] - 15s 1s/step - loss: 0.1239\n",
      "Epoch 72/100\n",
      "11/11 [==============================] - 16s 1s/step - loss: 0.1155\n",
      "Epoch 73/100\n",
      "11/11 [==============================] - 15s 1s/step - loss: 0.1076\n",
      "Epoch 74/100\n",
      "11/11 [==============================] - 15s 1s/step - loss: 0.1014\n",
      "Epoch 75/100\n",
      "11/11 [==============================] - 17s 2s/step - loss: 0.0973\n",
      "Epoch 76/100\n",
      "11/11 [==============================] - 16s 1s/step - loss: 0.0933\n",
      "Epoch 77/100\n",
      "11/11 [==============================] - 17s 2s/step - loss: 0.0897\n",
      "Epoch 78/100\n",
      "11/11 [==============================] - 17s 2s/step - loss: 0.0863\n",
      "Epoch 79/100\n",
      "11/11 [==============================] - 16s 1s/step - loss: 0.0839\n",
      "Epoch 80/100\n",
      "11/11 [==============================] - 16s 1s/step - loss: 0.0810\n",
      "Epoch 81/100\n",
      "11/11 [==============================] - 19s 2s/step - loss: 0.0769\n",
      "Epoch 82/100\n",
      "11/11 [==============================] - 19s 2s/step - loss: 0.0746\n",
      "Epoch 83/100\n",
      "11/11 [==============================] - 17s 2s/step - loss: 0.0728\n",
      "Epoch 84/100\n",
      "11/11 [==============================] - 16s 1s/step - loss: 0.0711\n",
      "Epoch 85/100\n",
      "11/11 [==============================] - 15s 1s/step - loss: 0.0690\n",
      "Epoch 86/100\n",
      "11/11 [==============================] - 16s 1s/step - loss: 0.0680\n",
      "Epoch 87/100\n",
      "11/11 [==============================] - 16s 1s/step - loss: 0.0664\n",
      "Epoch 88/100\n",
      "11/11 [==============================] - 15s 1s/step - loss: 0.0654\n",
      "Epoch 89/100\n",
      "11/11 [==============================] - 16s 1s/step - loss: 0.0647\n",
      "Epoch 90/100\n",
      "11/11 [==============================] - 16s 1s/step - loss: 0.0634\n",
      "Epoch 91/100\n",
      "11/11 [==============================] - 16s 1s/step - loss: 0.0631\n",
      "Epoch 92/100\n",
      "11/11 [==============================] - 15s 1s/step - loss: 0.0633\n",
      "Epoch 93/100\n",
      "11/11 [==============================] - 15s 1s/step - loss: 0.0616\n",
      "Epoch 94/100\n",
      "11/11 [==============================] - 15s 1s/step - loss: 0.0605\n",
      "Epoch 95/100\n",
      "11/11 [==============================] - 16s 1s/step - loss: 0.0592\n",
      "Epoch 96/100\n",
      "11/11 [==============================] - 16s 1s/step - loss: 0.0567\n",
      "Epoch 97/100\n",
      "11/11 [==============================] - 16s 1s/step - loss: 0.0563\n",
      "Epoch 98/100\n",
      "11/11 [==============================] - 16s 1s/step - loss: 0.0549\n",
      "Epoch 99/100\n",
      "11/11 [==============================] - 15s 1s/step - loss: 0.0545\n",
      "Epoch 100/100\n",
      "11/11 [==============================] - 16s 1s/step - loss: 0.0544\n"
     ]
    },
    {
     "data": {
      "text/plain": [
       "<tensorflow.python.keras.callbacks.History at 0x7fbdf8639590>"
      ]
     },
     "execution_count": 48,
     "metadata": {},
     "output_type": "execute_result"
    }
   ],
   "source": [
    "model.fit(dataset, epochs=100)"
   ]
  },
  {
   "cell_type": "markdown",
   "metadata": {
    "id": "W8nAtKHVoInR"
   },
   "source": [
    "Or if you need more control, you can write your own complete custom training loop:"
   ]
  },
  {
   "cell_type": "code",
   "execution_count": 49,
   "metadata": {
    "execution": {
     "iopub.execute_input": "2021-05-21T15:41:26.297559Z",
     "iopub.status.busy": "2021-05-21T15:41:26.296942Z",
     "iopub.status.idle": "2021-05-21T15:42:21.100689Z",
     "shell.execute_reply": "2021-05-21T15:42:21.100216Z"
    },
    "id": "d4tSNwymzf-q"
   },
   "outputs": [
    {
     "name": "stdout",
     "output_type": "stream",
     "text": [
      "Epoch 1 Batch 0 Loss 0.0509\n",
      "\n",
      "Epoch 1 Loss: 0.0534\n",
      "Time taken for 1 epoch 18.80 sec\n",
      "________________________________________________________________________________\n",
      "Epoch 2 Batch 0 Loss 0.0499\n",
      "\n",
      "Epoch 2 Loss: 0.0534\n",
      "Time taken for 1 epoch 15.94 sec\n",
      "________________________________________________________________________________\n",
      "Epoch 3 Batch 0 Loss 0.0513\n",
      "\n",
      "Epoch 3 Loss: 0.0522\n",
      "Time taken for 1 epoch 16.25 sec\n",
      "________________________________________________________________________________\n",
      "Epoch 4 Batch 0 Loss 0.0515\n",
      "\n",
      "Epoch 4 Loss: 0.0518\n",
      "Time taken for 1 epoch 19.30 sec\n",
      "________________________________________________________________________________\n",
      "Epoch 5 Batch 0 Loss 0.0452\n",
      "\n",
      "Epoch 5 Loss: 0.0511\n",
      "Time taken for 1 epoch 18.17 sec\n",
      "________________________________________________________________________________\n",
      "Epoch 6 Batch 0 Loss 0.0466\n",
      "\n",
      "Epoch 6 Loss: 0.0509\n",
      "Time taken for 1 epoch 16.81 sec\n",
      "________________________________________________________________________________\n",
      "Epoch 7 Batch 0 Loss 0.0509\n",
      "\n",
      "Epoch 7 Loss: 0.0503\n",
      "Time taken for 1 epoch 16.09 sec\n",
      "________________________________________________________________________________\n",
      "Epoch 8 Batch 0 Loss 0.0485\n",
      "\n",
      "Epoch 8 Loss: 0.0504\n",
      "Time taken for 1 epoch 16.92 sec\n",
      "________________________________________________________________________________\n",
      "Epoch 9 Batch 0 Loss 0.0491\n",
      "\n",
      "Epoch 9 Loss: 0.0499\n",
      "Time taken for 1 epoch 15.51 sec\n",
      "________________________________________________________________________________\n",
      "Epoch 10 Batch 0 Loss 0.0493\n",
      "\n",
      "Epoch 10 Loss: 0.0499\n",
      "Time taken for 1 epoch 15.70 sec\n",
      "________________________________________________________________________________\n",
      "Epoch 11 Batch 0 Loss 0.0471\n",
      "\n",
      "Epoch 11 Loss: 0.0500\n",
      "Time taken for 1 epoch 14.76 sec\n",
      "________________________________________________________________________________\n",
      "Epoch 12 Batch 0 Loss 0.0442\n",
      "\n",
      "Epoch 12 Loss: 0.0494\n",
      "Time taken for 1 epoch 15.36 sec\n",
      "________________________________________________________________________________\n",
      "Epoch 13 Batch 0 Loss 0.0471\n",
      "\n",
      "Epoch 13 Loss: 0.0492\n",
      "Time taken for 1 epoch 15.61 sec\n",
      "________________________________________________________________________________\n",
      "Epoch 14 Batch 0 Loss 0.0470\n",
      "\n",
      "Epoch 14 Loss: 0.0487\n",
      "Time taken for 1 epoch 16.35 sec\n",
      "________________________________________________________________________________\n",
      "Epoch 15 Batch 0 Loss 0.0460\n",
      "\n",
      "Epoch 15 Loss: 0.0487\n",
      "Time taken for 1 epoch 16.02 sec\n",
      "________________________________________________________________________________\n",
      "Epoch 16 Batch 0 Loss 0.0499\n",
      "\n",
      "Epoch 16 Loss: 0.0486\n",
      "Time taken for 1 epoch 15.80 sec\n",
      "________________________________________________________________________________\n",
      "Epoch 17 Batch 0 Loss 0.0443\n",
      "\n",
      "Epoch 17 Loss: 0.0480\n",
      "Time taken for 1 epoch 16.41 sec\n",
      "________________________________________________________________________________\n",
      "Epoch 18 Batch 0 Loss 0.0482\n",
      "\n",
      "Epoch 18 Loss: 0.0479\n",
      "Time taken for 1 epoch 14.77 sec\n",
      "________________________________________________________________________________\n",
      "Epoch 19 Batch 0 Loss 0.0438\n",
      "\n",
      "Epoch 19 Loss: 0.0483\n",
      "Time taken for 1 epoch 15.61 sec\n",
      "________________________________________________________________________________\n",
      "Epoch 20 Batch 0 Loss 0.0451\n",
      "\n",
      "Epoch 20 Loss: 0.0487\n",
      "Time taken for 1 epoch 15.90 sec\n",
      "________________________________________________________________________________\n",
      "Epoch 21 Batch 0 Loss 0.0429\n",
      "\n",
      "Epoch 21 Loss: 0.0495\n",
      "Time taken for 1 epoch 15.25 sec\n",
      "________________________________________________________________________________\n",
      "Epoch 22 Batch 0 Loss 0.0458\n",
      "\n",
      "Epoch 22 Loss: 0.0492\n",
      "Time taken for 1 epoch 16.14 sec\n",
      "________________________________________________________________________________\n",
      "Epoch 23 Batch 0 Loss 0.0435\n",
      "\n",
      "Epoch 23 Loss: 0.0497\n",
      "Time taken for 1 epoch 16.31 sec\n",
      "________________________________________________________________________________\n",
      "Epoch 24 Batch 0 Loss 0.0460\n",
      "\n",
      "Epoch 24 Loss: 0.0511\n",
      "Time taken for 1 epoch 16.54 sec\n",
      "________________________________________________________________________________\n",
      "Epoch 25 Batch 0 Loss 0.0476\n",
      "\n",
      "Epoch 25 Loss: 0.0527\n",
      "Time taken for 1 epoch 17.68 sec\n",
      "________________________________________________________________________________\n",
      "Epoch 26 Batch 0 Loss 0.0523\n",
      "\n",
      "Epoch 26 Loss: 0.0535\n",
      "Time taken for 1 epoch 15.55 sec\n",
      "________________________________________________________________________________\n",
      "Epoch 27 Batch 0 Loss 0.0497\n",
      "\n",
      "Epoch 27 Loss: 0.0548\n",
      "Time taken for 1 epoch 15.54 sec\n",
      "________________________________________________________________________________\n",
      "Epoch 28 Batch 0 Loss 0.0544\n",
      "\n",
      "Epoch 28 Loss: 0.0562\n",
      "Time taken for 1 epoch 17.59 sec\n",
      "________________________________________________________________________________\n",
      "Epoch 29 Batch 0 Loss 0.0547\n",
      "\n",
      "Epoch 29 Loss: 0.0612\n",
      "Time taken for 1 epoch 16.99 sec\n",
      "________________________________________________________________________________\n",
      "Epoch 30 Batch 0 Loss 0.0559\n",
      "\n",
      "Epoch 30 Loss: 0.0621\n",
      "Time taken for 1 epoch 16.28 sec\n",
      "________________________________________________________________________________\n",
      "Epoch 31 Batch 0 Loss 0.0566\n",
      "\n",
      "Epoch 31 Loss: 0.0632\n",
      "Time taken for 1 epoch 15.95 sec\n",
      "________________________________________________________________________________\n",
      "Epoch 32 Batch 0 Loss 0.0587\n",
      "\n",
      "Epoch 32 Loss: 0.0613\n",
      "Time taken for 1 epoch 16.29 sec\n",
      "________________________________________________________________________________\n",
      "Epoch 33 Batch 0 Loss 0.0566\n",
      "\n",
      "Epoch 33 Loss: 0.0597\n",
      "Time taken for 1 epoch 16.51 sec\n",
      "________________________________________________________________________________\n",
      "Epoch 34 Batch 0 Loss 0.0521\n",
      "\n",
      "Epoch 34 Loss: 0.0572\n",
      "Time taken for 1 epoch 18.24 sec\n",
      "________________________________________________________________________________\n",
      "Epoch 35 Batch 0 Loss 0.0520\n",
      "\n",
      "Epoch 35 Loss: 0.0554\n",
      "Time taken for 1 epoch 16.14 sec\n",
      "________________________________________________________________________________\n",
      "Epoch 36 Batch 0 Loss 0.0490\n",
      "\n",
      "Epoch 36 Loss: 0.0529\n",
      "Time taken for 1 epoch 15.69 sec\n",
      "________________________________________________________________________________\n",
      "Epoch 37 Batch 0 Loss 0.0512\n",
      "\n",
      "Epoch 37 Loss: 0.0504\n",
      "Time taken for 1 epoch 16.05 sec\n",
      "________________________________________________________________________________\n",
      "Epoch 38 Batch 0 Loss 0.0455\n",
      "\n",
      "Epoch 38 Loss: 0.0488\n",
      "Time taken for 1 epoch 15.96 sec\n",
      "________________________________________________________________________________\n",
      "Epoch 39 Batch 0 Loss 0.0418\n",
      "\n",
      "Epoch 39 Loss: 0.0466\n",
      "Time taken for 1 epoch 16.06 sec\n",
      "________________________________________________________________________________\n",
      "Epoch 40 Batch 0 Loss 0.0431\n",
      "\n",
      "Epoch 40 Loss: 0.0454\n",
      "Time taken for 1 epoch 15.33 sec\n",
      "________________________________________________________________________________\n",
      "Epoch 41 Batch 0 Loss 0.0478\n",
      "\n",
      "Epoch 41 Loss: 0.0457\n",
      "Time taken for 1 epoch 16.27 sec\n",
      "________________________________________________________________________________\n",
      "Epoch 42 Batch 0 Loss 0.0460\n",
      "\n",
      "Epoch 42 Loss: 0.0447\n",
      "Time taken for 1 epoch 17.00 sec\n",
      "________________________________________________________________________________\n",
      "Epoch 43 Batch 0 Loss 0.0436\n",
      "\n",
      "Epoch 43 Loss: 0.0444\n",
      "Time taken for 1 epoch 16.12 sec\n",
      "________________________________________________________________________________\n",
      "Epoch 44 Batch 0 Loss 0.0401\n",
      "\n",
      "Epoch 44 Loss: 0.0443\n",
      "Time taken for 1 epoch 16.48 sec\n",
      "________________________________________________________________________________\n",
      "Epoch 45 Batch 0 Loss 0.0425\n",
      "\n",
      "Epoch 45 Loss: 0.0437\n",
      "Time taken for 1 epoch 15.12 sec\n",
      "________________________________________________________________________________\n",
      "Epoch 46 Batch 0 Loss 0.0407\n",
      "\n",
      "Epoch 46 Loss: 0.0436\n",
      "Time taken for 1 epoch 17.40 sec\n",
      "________________________________________________________________________________\n",
      "Epoch 47 Batch 0 Loss 0.0404\n",
      "\n",
      "Epoch 47 Loss: 0.0431\n",
      "Time taken for 1 epoch 16.35 sec\n",
      "________________________________________________________________________________\n",
      "Epoch 48 Batch 0 Loss 0.0430\n",
      "\n",
      "Epoch 48 Loss: 0.0427\n",
      "Time taken for 1 epoch 15.90 sec\n",
      "________________________________________________________________________________\n",
      "Epoch 49 Batch 0 Loss 0.0423\n",
      "\n",
      "Epoch 49 Loss: 0.0425\n",
      "Time taken for 1 epoch 16.80 sec\n",
      "________________________________________________________________________________\n",
      "Epoch 50 Batch 0 Loss 0.0395\n",
      "\n",
      "Epoch 50 Loss: 0.0426\n",
      "Time taken for 1 epoch 16.70 sec\n",
      "________________________________________________________________________________\n"
     ]
    }
   ],
   "source": [
    "EPOCHS = 50\n",
    "\n",
    "mean = tf.metrics.Mean()\n",
    "\n",
    "for epoch in range(EPOCHS):\n",
    "    start = time.time()\n",
    "\n",
    "    mean.reset_states()\n",
    "    for (batch_n, (inp, target)) in enumerate(dataset):\n",
    "        logs = model.train_step([inp, target])\n",
    "        mean.update_state(logs['loss'])\n",
    "\n",
    "        if batch_n % 50 == 0:\n",
    "            template = f\"Epoch {epoch+1} Batch {batch_n} Loss {logs['loss']:.4f}\"\n",
    "            print(template)\n",
    "\n",
    "    # saving (checkpoint) the model every 5 epochs\n",
    "    if (epoch + 1) % 5 == 0:\n",
    "        model.save_weights(checkpoint_prefix.format(epoch=epoch))\n",
    "\n",
    "    print()\n",
    "    print(f'Epoch {epoch+1} Loss: {mean.result().numpy():.4f}')\n",
    "    print(f'Time taken for 1 epoch {time.time() - start:.2f} sec')\n",
    "    print(\"_\"*80)\n",
    "\n",
    "model.save_weights(checkpoint_prefix.format(epoch=epoch))"
   ]
  },
  {
   "cell_type": "code",
   "execution_count": 61,
   "metadata": {},
   "outputs": [
    {
     "name": "stdout",
     "output_type": "stream",
     "text": [
      "ROMEO: A bary know . \n",
      "The joard wish who lives acrost the street . \n",
      "Here he comes . \n",
      "We were worried . \n",
      "Maybe he was sick . \n",
      "Maybe he needed glasses . \n",
      "So we the way home  I got hungry . \n",
      "I wanted to set The turew intot the toing . \n",
      "That aft roas in the country twan . \n",
      "You are right . \n",
      "Your she latch a turle beormes . \n",
      "Pete puts on HIS favorite shirt . \n",
      "Put puts on HIS favorite pants . \n",
      "Pete puts on HIS favorite shores . \n",
      "Pete puts on HIS favorite shoes . \n",
      "Pete puts on his sunglasses . \n",
      "Pete says now ,  good as Great . \n",
      "Ald he lets us great . \n",
      "And leave the wop . \n",
      "The place that fou do go on the the wet . \n",
      "The bed the sun came out again from behind the parn . \n",
      "They donotilo twey was a swortfish . \n",
      "But on the floor and Mash them ,  mash them . \n",
      "Peanut butter ,  peanut butter . \n",
      "Jelly ,  jelly\n",
      "\n",
      "\n",
      "In the evening warred to mo . \n",
      "Fon 't a Rabbit . \n",
      "I am nox a croys…  \"  said Han . \n",
      " \" Mor ? \n",
      " Moo ,  \"  said Pig . \n",
      "Dog my very out aftents to sheep bird . \n",
      "see ? \n",
      " I love it . \n",
      "I love it . \n",
      "I do . \n",
      "I \n",
      "\n",
      "____________________________________________________________________________________________________\n",
      "\n",
      "Run time: 1.1546940803527832\n"
     ]
    }
   ],
   "source": [
    "start = time.time()\n",
    "states = None\n",
    "next_char = tf.constant(['ROMEO:'])\n",
    "result = [next_char]\n",
    "\n",
    "for n in range(1000):\n",
    "  next_char, states = one_step_model.generate_one_step(next_char, states=states)\n",
    "  result.append(next_char)\n",
    "\n",
    "result = tf.strings.join(result)\n",
    "end = time.time()\n",
    "print(result[0].numpy().decode('utf-8'), '\\n\\n' + '_'*100)\n",
    "print('\\nRun time:', end - start)"
   ]
  },
  {
   "cell_type": "code",
   "execution_count": null,
   "metadata": {},
   "outputs": [],
   "source": []
  }
 ],
 "metadata": {
  "accelerator": "GPU",
  "colab": {
   "collapsed_sections": [],
   "name": "text_generation.ipynb",
   "toc_visible": true
  },
  "kernelspec": {
   "display_name": "Python 3",
   "language": "python",
   "name": "python3"
  },
  "language_info": {
   "codemirror_mode": {
    "name": "ipython",
    "version": 3
   },
   "file_extension": ".py",
   "mimetype": "text/x-python",
   "name": "python",
   "nbconvert_exporter": "python",
   "pygments_lexer": "ipython3",
   "version": "3.7.6"
  }
 },
 "nbformat": 4,
 "nbformat_minor": 1
}
