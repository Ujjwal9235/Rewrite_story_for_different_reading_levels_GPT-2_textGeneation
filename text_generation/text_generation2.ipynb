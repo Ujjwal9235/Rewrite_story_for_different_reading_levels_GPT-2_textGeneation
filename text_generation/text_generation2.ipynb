{
 "cells": [
  {
   "cell_type": "markdown",
   "metadata": {
    "id": "t09eeeR5prIJ"
   },
   "source": [
    "##### Copyright 2019 The TensorFlow Authors."
   ]
  },
  {
   "cell_type": "code",
   "execution_count": 1,
   "metadata": {
    "cellView": "form",
    "execution": {
     "iopub.execute_input": "2021-05-21T15:39:05.719478Z",
     "iopub.status.busy": "2021-05-21T15:39:05.718909Z",
     "iopub.status.idle": "2021-05-21T15:39:05.720850Z",
     "shell.execute_reply": "2021-05-21T15:39:05.721219Z"
    },
    "id": "GCCk8_dHpuNf"
   },
   "outputs": [],
   "source": [
    "#@title Licensed under the Apache License, Version 2.0 (the \"License\");\n",
    "# you may not use this file except in compliance with the License.\n",
    "# You may obtain a copy of the License at\n",
    "#\n",
    "# https://www.apache.org/licenses/LICENSE-2.0\n",
    "#\n",
    "# Unless required by applicable law or agreed to in writing, software\n",
    "# distributed under the License is distributed on an \"AS IS\" BASIS,\n",
    "# WITHOUT WARRANTIES OR CONDITIONS OF ANY KIND, either express or implied.\n",
    "# See the License for the specific language governing permissions and\n",
    "# limitations under the License."
   ]
  },
  {
   "cell_type": "code",
   "execution_count": 3,
   "metadata": {},
   "outputs": [
    {
     "name": "stdout",
     "output_type": "stream",
     "text": [
      "Collecting tensorflow\n",
      "  Downloading tensorflow-2.5.0-cp37-cp37m-macosx_10_11_x86_64.whl (195.6 MB)\n",
      "\u001b[K     |████████████████████████████████| 195.6 MB 82 kB/s s eta 0:00:01          | 28.4 MB 4.0 MB/s eta 0:00:42\n",
      "\u001b[?25hCollecting grpcio~=1.34.0\n",
      "  Downloading grpcio-1.34.1-cp37-cp37m-macosx_10_10_x86_64.whl (3.7 MB)\n",
      "\u001b[K     |████████████████████████████████| 3.7 MB 38.0 MB/s eta 0:00:01\n",
      "\u001b[?25hCollecting typing-extensions~=3.7.4\n",
      "  Using cached typing_extensions-3.7.4.3-py3-none-any.whl (22 kB)\n",
      "Collecting absl-py~=0.10\n",
      "  Using cached absl_py-0.12.0-py3-none-any.whl (129 kB)\n",
      "Collecting keras-nightly~=2.5.0.dev\n",
      "  Using cached keras_nightly-2.5.0.dev2021032900-py2.py3-none-any.whl (1.2 MB)\n",
      "Collecting wheel~=0.35\n",
      "  Using cached wheel-0.36.2-py2.py3-none-any.whl (35 kB)\n",
      "Collecting flatbuffers~=1.12.0\n",
      "  Using cached flatbuffers-1.12-py2.py3-none-any.whl (15 kB)\n",
      "Collecting astunparse~=1.6.3\n",
      "  Using cached astunparse-1.6.3-py2.py3-none-any.whl (12 kB)\n",
      "Collecting opt-einsum~=3.3.0\n",
      "  Using cached opt_einsum-3.3.0-py3-none-any.whl (65 kB)\n",
      "Collecting tensorflow-estimator<2.6.0,>=2.5.0rc0\n",
      "  Using cached tensorflow_estimator-2.5.0-py2.py3-none-any.whl (462 kB)\n",
      "Collecting tensorboard~=2.5\n",
      "  Using cached tensorboard-2.5.0-py3-none-any.whl (6.0 MB)\n",
      "Collecting numpy~=1.19.2\n",
      "  Downloading numpy-1.19.5-cp37-cp37m-macosx_10_9_x86_64.whl (15.6 MB)\n",
      "\u001b[K     |████████████████████████████████| 15.6 MB 19.8 MB/s eta 0:00:01\n",
      "\u001b[?25hCollecting h5py~=3.1.0\n",
      "  Downloading h5py-3.1.0-cp37-cp37m-macosx_10_9_x86_64.whl (2.9 MB)\n",
      "\u001b[K     |████████████████████████████████| 2.9 MB 46.8 MB/s eta 0:00:01\n",
      "\u001b[?25hCollecting wrapt~=1.12.1\n",
      "  Using cached wrapt-1.12.1.tar.gz (27 kB)\n",
      "Collecting protobuf>=3.9.2\n",
      "  Downloading protobuf-3.17.1-cp37-cp37m-macosx_10_9_x86_64.whl (959 kB)\n",
      "\u001b[K     |████████████████████████████████| 959 kB 21.7 MB/s eta 0:00:01\n",
      "\u001b[?25hCollecting keras-preprocessing~=1.1.2\n",
      "  Using cached Keras_Preprocessing-1.1.2-py2.py3-none-any.whl (42 kB)\n",
      "Collecting google-pasta~=0.2\n",
      "  Using cached google_pasta-0.2.0-py3-none-any.whl (57 kB)\n",
      "Collecting six~=1.15.0\n",
      "  Using cached six-1.15.0-py2.py3-none-any.whl (10 kB)\n",
      "Collecting termcolor~=1.1.0\n",
      "  Using cached termcolor-1.1.0.tar.gz (3.9 kB)\n",
      "Collecting gast==0.4.0\n",
      "  Using cached gast-0.4.0-py3-none-any.whl (9.8 kB)\n",
      "Requirement already satisfied: requests<3,>=2.21.0 in /Users/tianyq/opt/anaconda3/lib/python3.7/site-packages (from tensorboard~=2.5->tensorflow) (2.22.0)\n",
      "Requirement already satisfied: werkzeug>=0.11.15 in /Users/tianyq/opt/anaconda3/lib/python3.7/site-packages (from tensorboard~=2.5->tensorflow) (1.0.0)\n",
      "Collecting google-auth<2,>=1.6.3\n",
      "  Downloading google_auth-1.30.1-py2.py3-none-any.whl (146 kB)\n",
      "\u001b[K     |████████████████████████████████| 146 kB 37.7 MB/s eta 0:00:01\n",
      "\u001b[?25hCollecting tensorboard-plugin-wit>=1.6.0\n",
      "  Using cached tensorboard_plugin_wit-1.8.0-py3-none-any.whl (781 kB)\n",
      "Collecting markdown>=2.6.8\n",
      "  Using cached Markdown-3.3.4-py3-none-any.whl (97 kB)\n",
      "Collecting google-auth-oauthlib<0.5,>=0.4.1\n",
      "  Using cached google_auth_oauthlib-0.4.4-py2.py3-none-any.whl (18 kB)\n",
      "Requirement already satisfied: setuptools>=41.0.0 in /Users/tianyq/opt/anaconda3/lib/python3.7/site-packages (from tensorboard~=2.5->tensorflow) (46.0.0.post20200309)\n",
      "Collecting tensorboard-data-server<0.7.0,>=0.6.0\n",
      "  Using cached tensorboard_data_server-0.6.1-py3-none-macosx_10_9_x86_64.whl (3.5 MB)\n",
      "Collecting cached-property; python_version < \"3.8\"\n",
      "  Using cached cached_property-1.5.2-py2.py3-none-any.whl (7.6 kB)\n",
      "Requirement already satisfied: certifi>=2017.4.17 in /Users/tianyq/opt/anaconda3/lib/python3.7/site-packages (from requests<3,>=2.21.0->tensorboard~=2.5->tensorflow) (2019.11.28)\n",
      "Requirement already satisfied: idna<2.9,>=2.5 in /Users/tianyq/opt/anaconda3/lib/python3.7/site-packages (from requests<3,>=2.21.0->tensorboard~=2.5->tensorflow) (2.8)\n",
      "Requirement already satisfied: urllib3!=1.25.0,!=1.25.1,<1.26,>=1.21.1 in /Users/tianyq/opt/anaconda3/lib/python3.7/site-packages (from requests<3,>=2.21.0->tensorboard~=2.5->tensorflow) (1.25.8)\n",
      "Requirement already satisfied: chardet<3.1.0,>=3.0.2 in /Users/tianyq/opt/anaconda3/lib/python3.7/site-packages (from requests<3,>=2.21.0->tensorboard~=2.5->tensorflow) (3.0.4)\n",
      "Collecting cachetools<5.0,>=2.0.0\n",
      "  Using cached cachetools-4.2.2-py3-none-any.whl (11 kB)\n",
      "Collecting rsa<5,>=3.1.4; python_version >= \"3.6\"\n",
      "  Using cached rsa-4.7.2-py3-none-any.whl (34 kB)\n",
      "Collecting pyasn1-modules>=0.2.1\n",
      "  Using cached pyasn1_modules-0.2.8-py2.py3-none-any.whl (155 kB)\n",
      "Requirement already satisfied: importlib-metadata; python_version < \"3.8\" in /Users/tianyq/opt/anaconda3/lib/python3.7/site-packages (from markdown>=2.6.8->tensorboard~=2.5->tensorflow) (1.5.0)\n",
      "Collecting requests-oauthlib>=0.7.0\n",
      "  Using cached requests_oauthlib-1.3.0-py2.py3-none-any.whl (23 kB)\n",
      "Collecting pyasn1>=0.1.3\n",
      "  Using cached pyasn1-0.4.8-py2.py3-none-any.whl (77 kB)\n",
      "Requirement already satisfied: zipp>=0.5 in /Users/tianyq/opt/anaconda3/lib/python3.7/site-packages (from importlib-metadata; python_version < \"3.8\"->markdown>=2.6.8->tensorboard~=2.5->tensorflow) (2.2.0)\n",
      "Collecting oauthlib>=3.0.0\n",
      "  Using cached oauthlib-3.1.0-py2.py3-none-any.whl (147 kB)\n",
      "Building wheels for collected packages: wrapt, termcolor\n",
      "  Building wheel for wrapt (setup.py) ... \u001b[?25ldone\n",
      "\u001b[?25h  Created wheel for wrapt: filename=wrapt-1.12.1-cp37-cp37m-macosx_10_9_x86_64.whl size=32520 sha256=229f0857382bb94d5f85a09555d35ee0223ced4413bd750dfc6cc34a8d3bee1c\n",
      "  Stored in directory: /Users/tianyq/Library/Caches/pip/wheels/62/76/4c/aa25851149f3f6d9785f6c869387ad82b3fd37582fa8147ac6\n",
      "  Building wheel for termcolor (setup.py) ... \u001b[?25ldone\n",
      "\u001b[?25h  Created wheel for termcolor: filename=termcolor-1.1.0-py3-none-any.whl size=4830 sha256=59b6d01f884c74301c0da5670da47fa8b5cf4ffb4dc16c06f42ebae166ae16c5\n",
      "  Stored in directory: /Users/tianyq/Library/Caches/pip/wheels/3f/e3/ec/8a8336ff196023622fbcb36de0c5a5c218cbb24111d1d4c7f2\n",
      "Successfully built wrapt termcolor\n",
      "\u001b[31mERROR: pytest-astropy 0.8.0 requires pytest-cov>=2.0, which is not installed.\u001b[0m\n",
      "\u001b[31mERROR: pytest-astropy 0.8.0 requires pytest-filter-subpackage>=0.1, which is not installed.\u001b[0m\n",
      "\u001b[31mERROR: astroid 2.3.3 requires typed-ast<1.5,>=1.4.0; implementation_name == \"cpython\" and python_version < \"3.8\", which is not installed.\u001b[0m\n",
      "\u001b[31mERROR: astroid 2.3.3 has requirement wrapt==1.11.*, but you'll have wrapt 1.12.1 which is incompatible.\u001b[0m\n",
      "Installing collected packages: six, grpcio, typing-extensions, absl-py, keras-nightly, wheel, flatbuffers, astunparse, numpy, opt-einsum, tensorflow-estimator, protobuf, cachetools, pyasn1, rsa, pyasn1-modules, google-auth, tensorboard-plugin-wit, markdown, oauthlib, requests-oauthlib, google-auth-oauthlib, tensorboard-data-server, tensorboard, cached-property, h5py, wrapt, keras-preprocessing, google-pasta, termcolor, gast, tensorflow\n",
      "  Attempting uninstall: six\n",
      "    Found existing installation: six 1.14.0\n",
      "    Uninstalling six-1.14.0:\n",
      "      Successfully uninstalled six-1.14.0\n",
      "  Attempting uninstall: wheel\n",
      "    Found existing installation: wheel 0.34.2\n",
      "    Uninstalling wheel-0.34.2:\n",
      "      Successfully uninstalled wheel-0.34.2\n",
      "  Attempting uninstall: numpy\n",
      "    Found existing installation: numpy 1.18.1\n",
      "    Uninstalling numpy-1.18.1:\n",
      "      Successfully uninstalled numpy-1.18.1\n",
      "  Attempting uninstall: h5py\n",
      "    Found existing installation: h5py 2.10.0\n",
      "    Uninstalling h5py-2.10.0:\n",
      "      Successfully uninstalled h5py-2.10.0\n",
      "  Attempting uninstall: wrapt\n",
      "    Found existing installation: wrapt 1.11.2\n",
      "    Uninstalling wrapt-1.11.2:\n",
      "      Successfully uninstalled wrapt-1.11.2\n",
      "Successfully installed absl-py-0.12.0 astunparse-1.6.3 cached-property-1.5.2 cachetools-4.2.2 flatbuffers-1.12 gast-0.4.0 google-auth-1.30.1 google-auth-oauthlib-0.4.4 google-pasta-0.2.0 grpcio-1.34.1 h5py-3.1.0 keras-nightly-2.5.0.dev2021032900 keras-preprocessing-1.1.2 markdown-3.3.4 numpy-1.19.5 oauthlib-3.1.0 opt-einsum-3.3.0 protobuf-3.17.1 pyasn1-0.4.8 pyasn1-modules-0.2.8 requests-oauthlib-1.3.0 rsa-4.7.2 six-1.15.0 tensorboard-2.5.0 tensorboard-data-server-0.6.1 tensorboard-plugin-wit-1.8.0 tensorflow-2.5.0 tensorflow-estimator-2.5.0 termcolor-1.1.0 typing-extensions-3.7.4.3 wheel-0.36.2 wrapt-1.12.1\n",
      "\u001b[33mWARNING: You are using pip version 20.1.1; however, version 21.1.1 is available.\n",
      "You should consider upgrading via the '/Users/tianyq/opt/anaconda3/bin/python -m pip install --upgrade pip' command.\u001b[0m\n"
     ]
    },
    {
     "name": "stdout",
     "output_type": "stream",
     "text": [
      "Note: you may need to restart the kernel to use updated packages.\n"
     ]
    }
   ],
   "source": [
    "pip install tensorflow"
   ]
  },
  {
   "cell_type": "markdown",
   "metadata": {
    "id": "ovpZyIhNIgoq"
   },
   "source": [
    "# Text generation with an RNN"
   ]
  },
  {
   "cell_type": "markdown",
   "metadata": {
    "id": "hcD2nPQvPOFM"
   },
   "source": [
    "<table class=\"tfo-notebook-buttons\" align=\"left\">\n",
    "  <td>\n",
    "    <a target=\"_blank\" href=\"https://www.tensorflow.org/text/tutorials/text_generation\"><img src=\"https://www.tensorflow.org/images/tf_logo_32px.png\" />View on TensorFlow.org</a>\n",
    "  </td>\n",
    "  <td>\n",
    "    <a target=\"_blank\" href=\"https://colab.research.google.com/github/tensorflow/text/blob/master/docs/tutorials/text_generation.ipynb\"><img src=\"https://www.tensorflow.org/images/colab_logo_32px.png\" />Run in Google Colab</a>\n",
    "  </td>\n",
    "  <td>\n",
    "    <a target=\"_blank\" href=\"https://github.com/tensorflow/text/blob/master/docs/tutorials/text_generation.ipynb\"><img src=\"https://www.tensorflow.org/images/GitHub-Mark-32px.png\" />View source on GitHub</a>\n",
    "  </td>\n",
    "  <td>\n",
    "    <a href=\"https://storage.googleapis.com/tensorflow_docs/text/docs/tutorials/text_generation.ipynb\"><img src=\"https://www.tensorflow.org/images/download_logo_32px.png\" />Download notebook</a>\n",
    "  </td>\n",
    "</table>"
   ]
  },
  {
   "cell_type": "markdown",
   "metadata": {
    "id": "BwpJ5IffzRG6"
   },
   "source": [
    "This tutorial demonstrates how to generate text using a character-based RNN. You will work with a dataset of Shakespeare's writing from Andrej Karpathy's [The Unreasonable Effectiveness of Recurrent Neural Networks](http://karpathy.github.io/2015/05/21/rnn-effectiveness/). Given a sequence of characters from this data (\"Shakespear\"), train a model to predict the next character in the sequence (\"e\"). Longer sequences of text can be generated by calling the model repeatedly.\n",
    "\n",
    "Note: Enable GPU acceleration to execute this notebook faster. In Colab: *Runtime > Change runtime type > Hardware accelerator > GPU*.\n",
    "\n",
    "This tutorial includes runnable code implemented using [tf.keras](https://www.tensorflow.org/guide/keras/sequential_model) and [eager execution](https://www.tensorflow.org/guide/eager). The following is the sample output when the model in this tutorial trained for 30 epochs, and started with the prompt \"Q\":"
   ]
  },
  {
   "cell_type": "markdown",
   "metadata": {
    "id": "HcygKkEVZBaa"
   },
   "source": [
    "<pre>\n",
    "QUEENE:\n",
    "I had thought thou hadst a Roman; for the oracle,\n",
    "Thus by All bids the man against the word,\n",
    "Which are so weak of care, by old care done;\n",
    "Your children were in your holy love,\n",
    "And the precipitation through the bleeding throne.\n",
    "\n",
    "BISHOP OF ELY:\n",
    "Marry, and will, my lord, to weep in such a one were prettiest;\n",
    "Yet now I was adopted heir\n",
    "Of the world's lamentable day,\n",
    "To watch the next way with his father with his face?\n",
    "\n",
    "ESCALUS:\n",
    "The cause why then we are all resolved more sons.\n",
    "\n",
    "VOLUMNIA:\n",
    "O, no, no, no, no, no, no, no, no, no, no, no, no, no, no, no, no, no, no, no, no, it is no sin it should be dead,\n",
    "And love and pale as any will to that word.\n",
    "\n",
    "QUEEN ELIZABETH:\n",
    "But how long have I heard the soul for this world,\n",
    "And show his hands of life be proved to stand.\n",
    "\n",
    "PETRUCHIO:\n",
    "I say he look'd on, if I must be content\n",
    "To stay him from the fatal of our country's bliss.\n",
    "His lordship pluck'd from this sentence then for prey,\n",
    "And then let us twain, being the moon,\n",
    "were she such a case as fills m\n",
    "</pre>"
   ]
  },
  {
   "cell_type": "markdown",
   "metadata": {
    "id": "_bGsCP9DZFQ5"
   },
   "source": [
    "While some of the sentences are grammatical, most do not make sense. The model has not learned the meaning of words, but consider:\n",
    "\n",
    "* The model is character-based. When training started, the model did not know how to spell an English word, or that words were even a unit of text.\n",
    "\n",
    "* The structure of the output resembles a play—blocks of text generally begin with a speaker name, in all capital letters similar to the dataset.\n",
    "\n",
    "* As demonstrated below, the model is trained on small batches of text (100 characters each), and is still able to generate a longer sequence of text with coherent structure."
   ]
  },
  {
   "cell_type": "markdown",
   "metadata": {
    "id": "srXC6pLGLwS6"
   },
   "source": [
    "## Setup"
   ]
  },
  {
   "cell_type": "markdown",
   "metadata": {
    "id": "WGyKZj3bzf9p"
   },
   "source": [
    "### Import TensorFlow and other libraries"
   ]
  },
  {
   "cell_type": "code",
   "execution_count": 1,
   "metadata": {
    "execution": {
     "iopub.execute_input": "2021-05-21T15:39:05.728876Z",
     "iopub.status.busy": "2021-05-21T15:39:05.728288Z",
     "iopub.status.idle": "2021-05-21T15:39:12.383242Z",
     "shell.execute_reply": "2021-05-21T15:39:12.383622Z"
    },
    "id": "yG_n40gFzf9s"
   },
   "outputs": [],
   "source": [
    "import tensorflow as tf\n",
    "from tensorflow.keras.layers.experimental import preprocessing\n",
    "\n",
    "import numpy as np\n",
    "import os\n",
    "import time"
   ]
  },
  {
   "cell_type": "markdown",
   "metadata": {
    "id": "EHDoRoc5PKWz"
   },
   "source": [
    "### Download the Shakespeare dataset\n",
    "\n",
    "Change the following line to run this code on your own data."
   ]
  },
  {
   "cell_type": "code",
   "execution_count": 137,
   "metadata": {
    "execution": {
     "iopub.execute_input": "2021-05-21T15:39:12.388508Z",
     "iopub.status.busy": "2021-05-21T15:39:12.387197Z",
     "iopub.status.idle": "2021-05-21T15:39:12.416004Z",
     "shell.execute_reply": "2021-05-21T15:39:12.416359Z"
    },
    "id": "pD_55cOxLkAb"
   },
   "outputs": [],
   "source": [
    "path_to_file = 'train2_RNN.txt'#tf.keras.utils.get_file('story.train.2.txt','https://storage.cloud.google.com/cs229data/story.train.2.txt')"
   ]
  },
  {
   "cell_type": "markdown",
   "metadata": {
    "id": "UHjdCjDuSvX_"
   },
   "source": [
    "### Read the data\n",
    "\n",
    "First, look in the text:"
   ]
  },
  {
   "cell_type": "code",
   "execution_count": 138,
   "metadata": {
    "execution": {
     "iopub.execute_input": "2021-05-21T15:39:12.420329Z",
     "iopub.status.busy": "2021-05-21T15:39:12.419756Z",
     "iopub.status.idle": "2021-05-21T15:39:12.423767Z",
     "shell.execute_reply": "2021-05-21T15:39:12.423338Z"
    },
    "id": "aavnuByVymwK"
   },
   "outputs": [
    {
     "name": "stdout",
     "output_type": "stream",
     "text": [
      "Length of text: 17131 characters\n"
     ]
    }
   ],
   "source": [
    "# Read, then decode for py2 compat.\n",
    "text = open(path_to_file, 'rb').read().decode(encoding='utf-8')\n",
    "# length of text is the number of characters in it\n",
    "print(f'Length of text: {len(text)} characters')"
   ]
  },
  {
   "cell_type": "code",
   "execution_count": 140,
   "metadata": {
    "execution": {
     "iopub.execute_input": "2021-05-21T15:39:12.427458Z",
     "iopub.status.busy": "2021-05-21T15:39:12.426808Z",
     "iopub.status.idle": "2021-05-21T15:39:12.429139Z",
     "shell.execute_reply": "2021-05-21T15:39:12.429508Z"
    },
    "id": "Duhg9NrUymwO"
   },
   "outputs": [
    {
     "name": "stdout",
     "output_type": "stream",
     "text": [
      "This is Mudge.\n",
      "He is Henry’s puppy.\n",
      "Mudge wants Henry’s snack.\n",
      "\"No, Mudge,\" says Henry.\n",
      "Mudge gets on Henry’s lap.\n",
      "\"No, Mudge,\" says Henry.\n",
      "Mudge wants Henry’s snack.\n",
      "Mudge gets on Henry’s head.\n",
      "\"No, Mudge,\" says Henry.\n",
      "Mudge wants Henry’s snack.\n",
      "Mud\n"
     ]
    }
   ],
   "source": [
    "# Take a look at the first 250 characters in text\n",
    "print(text[:250])"
   ]
  },
  {
   "cell_type": "code",
   "execution_count": 141,
   "metadata": {
    "execution": {
     "iopub.execute_input": "2021-05-21T15:39:12.443162Z",
     "iopub.status.busy": "2021-05-21T15:39:12.442352Z",
     "iopub.status.idle": "2021-05-21T15:39:12.444795Z",
     "shell.execute_reply": "2021-05-21T15:39:12.445205Z"
    },
    "id": "IlCgQBRVymwR"
   },
   "outputs": [
    {
     "name": "stdout",
     "output_type": "stream",
     "text": [
      "65 unique characters\n"
     ]
    }
   ],
   "source": [
    "# The unique characters in the file\n",
    "vocab = sorted(set(text))\n",
    "print(f'{len(vocab)} unique characters')"
   ]
  },
  {
   "cell_type": "markdown",
   "metadata": {
    "id": "rNnrKn_lL-IJ"
   },
   "source": [
    "## Process the text"
   ]
  },
  {
   "cell_type": "markdown",
   "metadata": {
    "id": "LFjSVAlWzf-N"
   },
   "source": [
    "### Vectorize the text\n",
    "\n",
    "Before training, you need to convert the strings to a numerical representation. \n",
    "\n",
    "The `preprocessing.StringLookup` layer can convert each character into a numeric ID. It just needs the text to be split into tokens first."
   ]
  },
  {
   "cell_type": "code",
   "execution_count": 142,
   "metadata": {
    "execution": {
     "iopub.execute_input": "2021-05-21T15:39:13.132938Z",
     "iopub.status.busy": "2021-05-21T15:39:13.131972Z",
     "iopub.status.idle": "2021-05-21T15:39:13.416434Z",
     "shell.execute_reply": "2021-05-21T15:39:13.416805Z"
    },
    "id": "a86OoYtO01go"
   },
   "outputs": [
    {
     "data": {
      "text/plain": [
       "<tf.RaggedTensor [[b'a', b'b', b'c', b'd', b'e', b'f', b'g'], [b'x', b'y', b'z']]>"
      ]
     },
     "execution_count": 142,
     "metadata": {},
     "output_type": "execute_result"
    }
   ],
   "source": [
    "example_texts = ['abcdefg', 'xyz']\n",
    "\n",
    "chars = tf.strings.unicode_split(example_texts, input_encoding='UTF-8')\n",
    "chars"
   ]
  },
  {
   "cell_type": "markdown",
   "metadata": {
    "id": "1s4f1q3iqY8f"
   },
   "source": [
    "Now create the `preprocessing.StringLookup` layer:"
   ]
  },
  {
   "cell_type": "code",
   "execution_count": 143,
   "metadata": {
    "execution": {
     "iopub.execute_input": "2021-05-21T15:39:13.421521Z",
     "iopub.status.busy": "2021-05-21T15:39:13.420624Z",
     "iopub.status.idle": "2021-05-21T15:39:13.431949Z",
     "shell.execute_reply": "2021-05-21T15:39:13.431508Z"
    },
    "id": "6GMlCe3qzaL9"
   },
   "outputs": [],
   "source": [
    "ids_from_chars = preprocessing.StringLookup(\n",
    "    vocabulary=list(vocab), mask_token=None)"
   ]
  },
  {
   "cell_type": "markdown",
   "metadata": {
    "id": "ZmX_jbgQqfOi"
   },
   "source": [
    "It converts form tokens to character IDs:"
   ]
  },
  {
   "cell_type": "code",
   "execution_count": 144,
   "metadata": {
    "execution": {
     "iopub.execute_input": "2021-05-21T15:39:13.437328Z",
     "iopub.status.busy": "2021-05-21T15:39:13.436400Z",
     "iopub.status.idle": "2021-05-21T15:39:13.440578Z",
     "shell.execute_reply": "2021-05-21T15:39:13.440931Z"
    },
    "id": "WLv5Q_2TC2pc"
   },
   "outputs": [
    {
     "data": {
      "text/plain": [
       "<tf.RaggedTensor [[38, 39, 40, 41, 42, 43, 44], [61, 62, 63]]>"
      ]
     },
     "execution_count": 144,
     "metadata": {},
     "output_type": "execute_result"
    }
   ],
   "source": [
    "ids = ids_from_chars(chars)\n",
    "ids"
   ]
  },
  {
   "cell_type": "markdown",
   "metadata": {
    "id": "tZfqhkYCymwX"
   },
   "source": [
    "Since the goal of this tutorial is to generate text, it will also be important to invert this representation and recover human-readable strings from it. For this you can use `preprocessing.StringLookup(..., invert=True)`.  "
   ]
  },
  {
   "cell_type": "markdown",
   "metadata": {
    "id": "uenivzwqsDhp"
   },
   "source": [
    "Note: Here instead of passing the original vocabulary generated with `sorted(set(text))` use the `get_vocabulary()` method of the `preprocessing.StringLookup` layer so that the `[UNK]` tokens is set the same way."
   ]
  },
  {
   "cell_type": "code",
   "execution_count": 145,
   "metadata": {
    "execution": {
     "iopub.execute_input": "2021-05-21T15:39:13.447009Z",
     "iopub.status.busy": "2021-05-21T15:39:13.446149Z",
     "iopub.status.idle": "2021-05-21T15:39:13.449830Z",
     "shell.execute_reply": "2021-05-21T15:39:13.449359Z"
    },
    "id": "Wd2m3mqkDjRj"
   },
   "outputs": [],
   "source": [
    "chars_from_ids = tf.keras.layers.experimental.preprocessing.StringLookup(\n",
    "    vocabulary=ids_from_chars.get_vocabulary(), invert=True, mask_token=None)"
   ]
  },
  {
   "cell_type": "markdown",
   "metadata": {
    "id": "pqTDDxS-s-H8"
   },
   "source": [
    "This layer recovers the characters from the vectors of IDs, and returns them as a `tf.RaggedTensor` of characters:"
   ]
  },
  {
   "cell_type": "code",
   "execution_count": 146,
   "metadata": {
    "execution": {
     "iopub.execute_input": "2021-05-21T15:39:13.454099Z",
     "iopub.status.busy": "2021-05-21T15:39:13.453140Z",
     "iopub.status.idle": "2021-05-21T15:39:13.457289Z",
     "shell.execute_reply": "2021-05-21T15:39:13.457643Z"
    },
    "id": "c2GCh0ySD44s"
   },
   "outputs": [
    {
     "data": {
      "text/plain": [
       "<tf.RaggedTensor [[b'a', b'b', b'c', b'd', b'e', b'f', b'g'], [b'x', b'y', b'z']]>"
      ]
     },
     "execution_count": 146,
     "metadata": {},
     "output_type": "execute_result"
    }
   ],
   "source": [
    "chars = chars_from_ids(ids)\n",
    "chars"
   ]
  },
  {
   "cell_type": "markdown",
   "metadata": {
    "id": "-FeW5gqutT3o"
   },
   "source": [
    "You can `tf.strings.reduce_join` to join the characters back into strings. "
   ]
  },
  {
   "cell_type": "code",
   "execution_count": 147,
   "metadata": {
    "execution": {
     "iopub.execute_input": "2021-05-21T15:39:13.462139Z",
     "iopub.status.busy": "2021-05-21T15:39:13.461192Z",
     "iopub.status.idle": "2021-05-21T15:39:13.472949Z",
     "shell.execute_reply": "2021-05-21T15:39:13.473309Z"
    },
    "id": "zxYI-PeltqKP"
   },
   "outputs": [
    {
     "data": {
      "text/plain": [
       "array([b'abcdefg', b'xyz'], dtype=object)"
      ]
     },
     "execution_count": 147,
     "metadata": {},
     "output_type": "execute_result"
    }
   ],
   "source": [
    "tf.strings.reduce_join(chars, axis=-1).numpy()"
   ]
  },
  {
   "cell_type": "code",
   "execution_count": 148,
   "metadata": {
    "execution": {
     "iopub.execute_input": "2021-05-21T15:39:13.477304Z",
     "iopub.status.busy": "2021-05-21T15:39:13.476488Z",
     "iopub.status.idle": "2021-05-21T15:39:13.478890Z",
     "shell.execute_reply": "2021-05-21T15:39:13.478469Z"
    },
    "id": "w5apvBDn9Ind"
   },
   "outputs": [],
   "source": [
    "def text_from_ids(ids):\n",
    "  return tf.strings.reduce_join(chars_from_ids(ids), axis=-1)"
   ]
  },
  {
   "cell_type": "markdown",
   "metadata": {
    "id": "bbmsf23Bymwe"
   },
   "source": [
    "### The prediction task"
   ]
  },
  {
   "cell_type": "markdown",
   "metadata": {
    "id": "wssHQ1oGymwe"
   },
   "source": [
    "Given a character, or a sequence of characters, what is the most probable next character? This is the task you're training the model to perform. The input to the model will be a sequence of characters, and you train the model to predict the output—the following character at each time step.\n",
    "\n",
    "Since RNNs maintain an internal state that depends on the previously seen elements, given all the characters computed until this moment, what is the next character?\n"
   ]
  },
  {
   "cell_type": "markdown",
   "metadata": {
    "id": "hgsVvVxnymwf"
   },
   "source": [
    "### Create training examples and targets\n",
    "\n",
    "Next divide the text into example sequences. Each input sequence will contain `seq_length` characters from the text.\n",
    "\n",
    "For each input sequence, the corresponding targets contain the same length of text, except shifted one character to the right.\n",
    "\n",
    "So break the text into chunks of `seq_length+1`. For example, say `seq_length` is 4 and our text is \"Hello\". The input sequence would be \"Hell\", and the target sequence \"ello\".\n",
    "\n",
    "To do this first use the `tf.data.Dataset.from_tensor_slices` function to convert the text vector into a stream of character indices."
   ]
  },
  {
   "cell_type": "code",
   "execution_count": 149,
   "metadata": {
    "execution": {
     "iopub.execute_input": "2021-05-21T15:39:13.484168Z",
     "iopub.status.busy": "2021-05-21T15:39:13.483339Z",
     "iopub.status.idle": "2021-05-21T15:39:13.949582Z",
     "shell.execute_reply": "2021-05-21T15:39:13.949126Z"
    },
    "id": "UopbsKi88tm5"
   },
   "outputs": [
    {
     "data": {
      "text/plain": [
       "<tf.Tensor: shape=(17131,), dtype=int64, numpy=array([32, 45, 46, ...,  1,  1,  1])>"
      ]
     },
     "execution_count": 149,
     "metadata": {},
     "output_type": "execute_result"
    }
   ],
   "source": [
    "all_ids = ids_from_chars(tf.strings.unicode_split(text, 'UTF-8'))\n",
    "all_ids"
   ]
  },
  {
   "cell_type": "code",
   "execution_count": 150,
   "metadata": {
    "execution": {
     "iopub.execute_input": "2021-05-21T15:39:13.954444Z",
     "iopub.status.busy": "2021-05-21T15:39:13.953552Z",
     "iopub.status.idle": "2021-05-21T15:39:13.955998Z",
     "shell.execute_reply": "2021-05-21T15:39:13.955543Z"
    },
    "id": "qmxrYDCTy-eL"
   },
   "outputs": [],
   "source": [
    "ids_dataset = tf.data.Dataset.from_tensor_slices(all_ids)"
   ]
  },
  {
   "cell_type": "code",
   "execution_count": 151,
   "metadata": {
    "execution": {
     "iopub.execute_input": "2021-05-21T15:39:13.960409Z",
     "iopub.status.busy": "2021-05-21T15:39:13.959504Z",
     "iopub.status.idle": "2021-05-21T15:39:13.974499Z",
     "shell.execute_reply": "2021-05-21T15:39:13.974863Z"
    },
    "id": "cjH5v45-yqqH"
   },
   "outputs": [
    {
     "name": "stdout",
     "output_type": "stream",
     "text": [
      "T\n",
      "h\n",
      "i\n",
      "s\n",
      " \n",
      "i\n",
      "s\n",
      " \n",
      "M\n",
      "u\n"
     ]
    }
   ],
   "source": [
    "for ids in ids_dataset.take(10):\n",
    "    print(chars_from_ids(ids).numpy().decode('utf-8'))"
   ]
  },
  {
   "cell_type": "code",
   "execution_count": 152,
   "metadata": {
    "execution": {
     "iopub.execute_input": "2021-05-21T15:39:13.978806Z",
     "iopub.status.busy": "2021-05-21T15:39:13.977995Z",
     "iopub.status.idle": "2021-05-21T15:39:13.980050Z",
     "shell.execute_reply": "2021-05-21T15:39:13.980399Z"
    },
    "id": "C-G2oaTxy6km"
   },
   "outputs": [],
   "source": [
    "seq_length = 100\n",
    "examples_per_epoch = len(text)//(seq_length+1)"
   ]
  },
  {
   "cell_type": "markdown",
   "metadata": {
    "id": "-ZSYAcQV8OGP"
   },
   "source": [
    "The `batch` method lets you easily convert these individual characters to sequences of the desired size."
   ]
  },
  {
   "cell_type": "code",
   "execution_count": 153,
   "metadata": {
    "execution": {
     "iopub.execute_input": "2021-05-21T15:39:13.985361Z",
     "iopub.status.busy": "2021-05-21T15:39:13.984423Z",
     "iopub.status.idle": "2021-05-21T15:39:13.994211Z",
     "shell.execute_reply": "2021-05-21T15:39:13.994562Z"
    },
    "id": "BpdjRO2CzOfZ"
   },
   "outputs": [
    {
     "name": "stdout",
     "output_type": "stream",
     "text": [
      "tf.Tensor(\n",
      "[b'T' b'h' b'i' b's' b' ' b'i' b's' b' ' b'M' b'u' b'd' b'g' b'e' b'.'\n",
      " b'\\n' b'H' b'e' b' ' b'i' b's' b' ' b'H' b'e' b'n' b'r' b'y'\n",
      " b'\\xe2\\x80\\x99' b's' b' ' b'p' b'u' b'p' b'p' b'y' b'.' b'\\n' b'M' b'u'\n",
      " b'd' b'g' b'e' b' ' b'w' b'a' b'n' b't' b's' b' ' b'H' b'e' b'n' b'r'\n",
      " b'y' b'\\xe2\\x80\\x99' b's' b' ' b's' b'n' b'a' b'c' b'k' b'.' b'\\n' b'\"'\n",
      " b'N' b'o' b',' b' ' b'M' b'u' b'd' b'g' b'e' b',' b'\"' b' ' b's' b'a'\n",
      " b'y' b's' b' ' b'H' b'e' b'n' b'r' b'y' b'.' b'\\n' b'M' b'u' b'd' b'g'\n",
      " b'e' b' ' b'g' b'e' b't' b's' b' ' b'o' b'n'], shape=(101,), dtype=string)\n"
     ]
    }
   ],
   "source": [
    "sequences = ids_dataset.batch(seq_length+1, drop_remainder=True)\n",
    "\n",
    "for seq in sequences.take(1):\n",
    "  print(chars_from_ids(seq))"
   ]
  },
  {
   "cell_type": "markdown",
   "metadata": {
    "id": "5PHW902-4oZt"
   },
   "source": [
    "It's easier to see what this is doing if you join the tokens back into strings:"
   ]
  },
  {
   "cell_type": "code",
   "execution_count": 154,
   "metadata": {
    "execution": {
     "iopub.execute_input": "2021-05-21T15:39:13.998892Z",
     "iopub.status.busy": "2021-05-21T15:39:13.997987Z",
     "iopub.status.idle": "2021-05-21T15:39:14.009585Z",
     "shell.execute_reply": "2021-05-21T15:39:14.009936Z"
    },
    "id": "QO32cMWu4a06"
   },
   "outputs": [
    {
     "name": "stdout",
     "output_type": "stream",
     "text": [
      "b'This is Mudge.\\nHe is Henry\\xe2\\x80\\x99s puppy.\\nMudge wants Henry\\xe2\\x80\\x99s snack.\\n\"No, Mudge,\" says Henry.\\nMudge gets on'\n",
      "b' Henry\\xe2\\x80\\x99s lap.\\n\"No, Mudge,\" says Henry.\\nMudge wants Henry\\xe2\\x80\\x99s snack.\\nMudge gets on Henry\\xe2\\x80\\x99s head.\\n\"No, Mu'\n",
      "b'dge,\" says Henry.\\nMudge wants Henry\\xe2\\x80\\x99s snack.\\nMudge drools.\\n\"Aw, Mudge,\" says Henry.\\nMudge looks cute.'\n",
      "b'\\nMudge looks very, very cute.\\nMudge looks too cute.\\n\"Mudge, you are TOO cute,\" says Henry.\\nHenry gets'\n",
      "b' a snack for Mudge.\\nIt is a CRACKER.\\nMudge LOVES crackers.\\nNow Henry has a snack.\\nAnd Mudge has a sna'\n"
     ]
    }
   ],
   "source": [
    "for seq in sequences.take(5):\n",
    "  print(text_from_ids(seq).numpy())"
   ]
  },
  {
   "cell_type": "markdown",
   "metadata": {
    "id": "UbLcIPBj_mWZ"
   },
   "source": [
    "For training you'll need a dataset of `(input, label)` pairs. Where `input` and \n",
    "`label` are sequences. At each time step the input is the current character and the label is the next character. \n",
    "\n",
    "Here's a function that takes a sequence as input, duplicates, and shifts it to align the input and label for each timestep:"
   ]
  },
  {
   "cell_type": "code",
   "execution_count": 155,
   "metadata": {
    "execution": {
     "iopub.execute_input": "2021-05-21T15:39:14.014112Z",
     "iopub.status.busy": "2021-05-21T15:39:14.013321Z",
     "iopub.status.idle": "2021-05-21T15:39:14.015353Z",
     "shell.execute_reply": "2021-05-21T15:39:14.015722Z"
    },
    "id": "9NGu-FkO_kYU"
   },
   "outputs": [],
   "source": [
    "def split_input_target(sequence):\n",
    "    input_text = sequence[:-1]\n",
    "    target_text = sequence[1:]\n",
    "    return input_text, target_text"
   ]
  },
  {
   "cell_type": "code",
   "execution_count": 156,
   "metadata": {
    "execution": {
     "iopub.execute_input": "2021-05-21T15:39:14.019967Z",
     "iopub.status.busy": "2021-05-21T15:39:14.019300Z",
     "iopub.status.idle": "2021-05-21T15:39:14.022336Z",
     "shell.execute_reply": "2021-05-21T15:39:14.021876Z"
    },
    "id": "WxbDTJTw5u_P"
   },
   "outputs": [
    {
     "data": {
      "text/plain": [
       "(['T', 'e', 'n', 's', 'o', 'r', 'f', 'l', 'o'],\n",
       " ['e', 'n', 's', 'o', 'r', 'f', 'l', 'o', 'w'])"
      ]
     },
     "execution_count": 156,
     "metadata": {},
     "output_type": "execute_result"
    }
   ],
   "source": [
    "split_input_target(list(\"Tensorflow\"))"
   ]
  },
  {
   "cell_type": "code",
   "execution_count": 157,
   "metadata": {
    "execution": {
     "iopub.execute_input": "2021-05-21T15:39:14.047572Z",
     "iopub.status.busy": "2021-05-21T15:39:14.026246Z",
     "iopub.status.idle": "2021-05-21T15:39:14.068996Z",
     "shell.execute_reply": "2021-05-21T15:39:14.068466Z"
    },
    "id": "B9iKPXkw5xwa"
   },
   "outputs": [],
   "source": [
    "dataset = sequences.map(split_input_target)"
   ]
  },
  {
   "cell_type": "code",
   "execution_count": 158,
   "metadata": {
    "execution": {
     "iopub.execute_input": "2021-05-21T15:39:14.073415Z",
     "iopub.status.busy": "2021-05-21T15:39:14.072811Z",
     "iopub.status.idle": "2021-05-21T15:39:14.094920Z",
     "shell.execute_reply": "2021-05-21T15:39:14.094369Z"
    },
    "id": "GNbw-iR0ymwj"
   },
   "outputs": [
    {
     "name": "stdout",
     "output_type": "stream",
     "text": [
      "Input : b'This is Mudge.\\nHe is Henry\\xe2\\x80\\x99s puppy.\\nMudge wants Henry\\xe2\\x80\\x99s snack.\\n\"No, Mudge,\" says Henry.\\nMudge gets o'\n",
      "Target: b'his is Mudge.\\nHe is Henry\\xe2\\x80\\x99s puppy.\\nMudge wants Henry\\xe2\\x80\\x99s snack.\\n\"No, Mudge,\" says Henry.\\nMudge gets on'\n"
     ]
    }
   ],
   "source": [
    "for input_example, target_example in dataset.take(1):\n",
    "    print(\"Input :\", text_from_ids(input_example).numpy())\n",
    "    print(\"Target:\", text_from_ids(target_example).numpy())"
   ]
  },
  {
   "cell_type": "markdown",
   "metadata": {
    "id": "MJdfPmdqzf-R"
   },
   "source": [
    "### Create training batches\n",
    "\n",
    "You used `tf.data` to split the text into manageable sequences. But before feeding this data into the model, you need to shuffle the data and pack it into batches."
   ]
  },
  {
   "cell_type": "code",
   "execution_count": 159,
   "metadata": {
    "execution": {
     "iopub.execute_input": "2021-05-21T15:39:14.099225Z",
     "iopub.status.busy": "2021-05-21T15:39:14.098646Z",
     "iopub.status.idle": "2021-05-21T15:39:14.103411Z",
     "shell.execute_reply": "2021-05-21T15:39:14.103759Z"
    },
    "id": "p2pGotuNzf-S"
   },
   "outputs": [
    {
     "data": {
      "text/plain": [
       "<PrefetchDataset shapes: ((64, 100), (64, 100)), types: (tf.int64, tf.int64)>"
      ]
     },
     "execution_count": 159,
     "metadata": {},
     "output_type": "execute_result"
    }
   ],
   "source": [
    "# Batch size\n",
    "BATCH_SIZE = 64\n",
    "\n",
    "# Buffer size to shuffle the dataset\n",
    "# (TF data is designed to work with possibly infinite sequences,\n",
    "# so it doesn't attempt to shuffle the entire sequence in memory. Instead,\n",
    "# it maintains a buffer in which it shuffles elements).\n",
    "BUFFER_SIZE = 10000\n",
    "\n",
    "dataset = (\n",
    "    dataset\n",
    "    .shuffle(BUFFER_SIZE)\n",
    "    .batch(BATCH_SIZE, drop_remainder=True)\n",
    "    .prefetch(tf.data.experimental.AUTOTUNE))\n",
    "\n",
    "dataset"
   ]
  },
  {
   "cell_type": "markdown",
   "metadata": {
    "id": "r6oUuElIMgVx"
   },
   "source": [
    "## Build The Model"
   ]
  },
  {
   "cell_type": "markdown",
   "metadata": {
    "id": "m8gPwEjRzf-Z"
   },
   "source": [
    "This section defines the model as a `keras.Model` subclass (For details see [Making new Layers and Models via subclassing](https://www.tensorflow.org/guide/keras/custom_layers_and_models)). \n",
    "\n",
    "This model has three layers:\n",
    "\n",
    "* `tf.keras.layers.Embedding`: The input layer. A trainable lookup table that will map each character-ID to a vector with `embedding_dim` dimensions;\n",
    "* `tf.keras.layers.GRU`: A type of RNN with size `units=rnn_units` (You can also use an LSTM layer here.)\n",
    "* `tf.keras.layers.Dense`: The output layer, with `vocab_size` outputs. It outputs one logit for each character in the vocabulary. These are the log-likelihood of each character according to the model."
   ]
  },
  {
   "cell_type": "code",
   "execution_count": 160,
   "metadata": {
    "execution": {
     "iopub.execute_input": "2021-05-21T15:39:14.107715Z",
     "iopub.status.busy": "2021-05-21T15:39:14.107144Z",
     "iopub.status.idle": "2021-05-21T15:39:14.108916Z",
     "shell.execute_reply": "2021-05-21T15:39:14.109246Z"
    },
    "id": "zHT8cLh7EAsg"
   },
   "outputs": [],
   "source": [
    "# Length of the vocabulary in chars\n",
    "vocab_size = len(vocab)\n",
    "\n",
    "# The embedding dimension\n",
    "embedding_dim = 256\n",
    "\n",
    "# Number of RNN units\n",
    "rnn_units = 1024"
   ]
  },
  {
   "cell_type": "code",
   "execution_count": 161,
   "metadata": {
    "execution": {
     "iopub.execute_input": "2021-05-21T15:39:14.115265Z",
     "iopub.status.busy": "2021-05-21T15:39:14.114684Z",
     "iopub.status.idle": "2021-05-21T15:39:14.116921Z",
     "shell.execute_reply": "2021-05-21T15:39:14.116501Z"
    },
    "id": "wj8HQ2w8z4iO"
   },
   "outputs": [],
   "source": [
    "class MyModel(tf.keras.Model):\n",
    "  def __init__(self, vocab_size, embedding_dim, rnn_units):\n",
    "    super().__init__(self)\n",
    "    self.embedding = tf.keras.layers.Embedding(vocab_size, embedding_dim)\n",
    "    self.gru = tf.keras.layers.GRU(rnn_units,\n",
    "                                   return_sequences=True,\n",
    "                                   return_state=True)\n",
    "    self.dense = tf.keras.layers.Dense(vocab_size)\n",
    "\n",
    "  def call(self, inputs, states=None, return_state=False, training=False):\n",
    "    x = inputs\n",
    "    x = self.embedding(x, training=training)\n",
    "    if states is None:\n",
    "      states = self.gru.get_initial_state(x)\n",
    "    x, states = self.gru(x, initial_state=states, training=training)\n",
    "    x = self.dense(x, training=training)\n",
    "\n",
    "    if return_state:\n",
    "      return x, states\n",
    "    else:\n",
    "      return x"
   ]
  },
  {
   "cell_type": "code",
   "execution_count": 162,
   "metadata": {
    "execution": {
     "iopub.execute_input": "2021-05-21T15:39:14.121700Z",
     "iopub.status.busy": "2021-05-21T15:39:14.121149Z",
     "iopub.status.idle": "2021-05-21T15:39:14.131846Z",
     "shell.execute_reply": "2021-05-21T15:39:14.131312Z"
    },
    "id": "IX58Xj9z47Aw"
   },
   "outputs": [],
   "source": [
    "model = MyModel(\n",
    "    # Be sure the vocabulary size matches the `StringLookup` layers.\n",
    "    vocab_size=len(ids_from_chars.get_vocabulary()),\n",
    "    embedding_dim=embedding_dim,\n",
    "    rnn_units=rnn_units)"
   ]
  },
  {
   "cell_type": "markdown",
   "metadata": {
    "id": "RkA5upJIJ7W7"
   },
   "source": [
    "For each character the model looks up the embedding, runs the GRU one timestep with the embedding as input, and applies the dense layer to generate logits predicting the log-likelihood of the next character:\n",
    "\n",
    "![A drawing of the data passing through the model](images/text_generation_training.png)"
   ]
  },
  {
   "cell_type": "markdown",
   "metadata": {
    "id": "gKbfm04amhXk"
   },
   "source": [
    "Note: For training you could use a `keras.Sequential` model here. To  generate text later you'll need to manage the RNN's internal state. It's simpler to include the state input and output options upfront, than it is to rearrange the model architecture later. For more details see the [Keras RNN guide](https://www.tensorflow.org/guide/keras/rnn#rnn_state_reuse)."
   ]
  },
  {
   "cell_type": "markdown",
   "metadata": {
    "id": "-ubPo0_9Prjb"
   },
   "source": [
    "## Try the model\n",
    "\n",
    "Now run the model to see that it behaves as expected.\n",
    "\n",
    "First check the shape of the output:"
   ]
  },
  {
   "cell_type": "code",
   "execution_count": 163,
   "metadata": {
    "execution": {
     "iopub.execute_input": "2021-05-21T15:39:14.136141Z",
     "iopub.status.busy": "2021-05-21T15:39:14.135567Z",
     "iopub.status.idle": "2021-05-21T15:39:18.353467Z",
     "shell.execute_reply": "2021-05-21T15:39:18.352940Z"
    },
    "id": "C-_70kKAPrPU"
   },
   "outputs": [
    {
     "name": "stdout",
     "output_type": "stream",
     "text": [
      "(64, 100, 66) # (batch_size, sequence_length, vocab_size)\n"
     ]
    }
   ],
   "source": [
    "for input_example_batch, target_example_batch in dataset.take(1):\n",
    "    example_batch_predictions = model(input_example_batch)\n",
    "    print(example_batch_predictions.shape, \"# (batch_size, sequence_length, vocab_size)\")"
   ]
  },
  {
   "cell_type": "markdown",
   "metadata": {
    "id": "Q6NzLBi4VM4o"
   },
   "source": [
    "In the above example the sequence length of the input is `100` but the model can be run on inputs of any length:"
   ]
  },
  {
   "cell_type": "code",
   "execution_count": 164,
   "metadata": {
    "execution": {
     "iopub.execute_input": "2021-05-21T15:39:18.358737Z",
     "iopub.status.busy": "2021-05-21T15:39:18.358125Z",
     "iopub.status.idle": "2021-05-21T15:39:18.361594Z",
     "shell.execute_reply": "2021-05-21T15:39:18.361954Z"
    },
    "id": "vPGmAAXmVLGC"
   },
   "outputs": [
    {
     "name": "stdout",
     "output_type": "stream",
     "text": [
      "Model: \"my_model_2\"\n",
      "_________________________________________________________________\n",
      "Layer (type)                 Output Shape              Param #   \n",
      "=================================================================\n",
      "embedding_4 (Embedding)      multiple                  16896     \n",
      "_________________________________________________________________\n",
      "gru_4 (GRU)                  multiple                  3938304   \n",
      "_________________________________________________________________\n",
      "dense_4 (Dense)              multiple                  67650     \n",
      "=================================================================\n",
      "Total params: 4,022,850\n",
      "Trainable params: 4,022,850\n",
      "Non-trainable params: 0\n",
      "_________________________________________________________________\n"
     ]
    }
   ],
   "source": [
    "model.summary()"
   ]
  },
  {
   "cell_type": "markdown",
   "metadata": {
    "id": "uwv0gEkURfx1"
   },
   "source": [
    "To get actual predictions from the model you need to sample from the output distribution, to get actual character indices. This distribution is defined by the logits over the character vocabulary.\n",
    "\n",
    "Note: It is important to _sample_ from this distribution as taking the _argmax_ of the distribution can easily get the model stuck in a loop.\n",
    "\n",
    "Try it for the first example in the batch:"
   ]
  },
  {
   "cell_type": "code",
   "execution_count": 165,
   "metadata": {
    "execution": {
     "iopub.execute_input": "2021-05-21T15:39:18.366257Z",
     "iopub.status.busy": "2021-05-21T15:39:18.365603Z",
     "iopub.status.idle": "2021-05-21T15:39:18.368559Z",
     "shell.execute_reply": "2021-05-21T15:39:18.368909Z"
    },
    "id": "4V4MfFg0RQJg"
   },
   "outputs": [],
   "source": [
    "sampled_indices = tf.random.categorical(example_batch_predictions[0], num_samples=1)\n",
    "sampled_indices = tf.squeeze(sampled_indices, axis=-1).numpy()"
   ]
  },
  {
   "cell_type": "markdown",
   "metadata": {
    "id": "QM1Vbxs_URw5"
   },
   "source": [
    "This gives us, at each timestep, a prediction of the next character index:"
   ]
  },
  {
   "cell_type": "code",
   "execution_count": 166,
   "metadata": {
    "execution": {
     "iopub.execute_input": "2021-05-21T15:39:18.373244Z",
     "iopub.status.busy": "2021-05-21T15:39:18.372607Z",
     "iopub.status.idle": "2021-05-21T15:39:18.375607Z",
     "shell.execute_reply": "2021-05-21T15:39:18.375990Z"
    },
    "id": "YqFMUQc_UFgM"
   },
   "outputs": [
    {
     "data": {
      "text/plain": [
       "array([15,  7, 10, 25, 47, 44, 39, 64, 18,  4, 48, 45,  4, 48, 33, 46, 53,\n",
       "        1,  3,  9, 44,  4, 25, 62, 52, 55, 29, 52, 29, 20,  1, 49, 48, 58,\n",
       "       21,  2, 43, 40, 62, 32, 61, 42, 28, 22,  7,  1, 43, 52,  0, 32, 14,\n",
       "       38, 32, 34, 30, 21, 10,  3, 41, 51,  6, 21, 34, 28, 47, 57, 49, 38,\n",
       "       52, 40, 53, 34, 61, 51, 51, 28, 52, 54, 11, 55, 28, 31, 58, 28, 16,\n",
       "       16, 65, 40, 56, 35, 16, 59, 14, 29,  6, 64, 33, 27, 20, 54])"
      ]
     },
     "execution_count": 166,
     "metadata": {},
     "output_type": "execute_result"
    }
   ],
   "source": [
    "sampled_indices"
   ]
  },
  {
   "cell_type": "markdown",
   "metadata": {
    "id": "LfLtsP3mUhCG"
   },
   "source": [
    "Decode these to see the text predicted by this untrained model:"
   ]
  },
  {
   "cell_type": "code",
   "execution_count": 167,
   "metadata": {
    "execution": {
     "iopub.execute_input": "2021-05-21T15:39:18.379912Z",
     "iopub.status.busy": "2021-05-21T15:39:18.379267Z",
     "iopub.status.idle": "2021-05-21T15:39:18.384658Z",
     "shell.execute_reply": "2021-05-21T15:39:18.384233Z"
    },
    "id": "xWcFwPwLSo05"
   },
   "outputs": [
    {
     "name": "stdout",
     "output_type": "stream",
     "text": [
      "Input:\n",
      " b' The driver sheep forgets to steer.\\nJeep in a heap Sheep weep.\\nSheep sweep the heap.\\nJeep for sale \\xe2\\x80\\x94'\n",
      "\n",
      "Next Char Predictions:\n",
      " b'C-2Mjgb\\xe2\\x80\\x94F\"kh\"kUip\\n!1g\"MyorQoQH\\nlkuI fcyTxePJ-\\nfo[UNK]TBaTVRI2!dn,IVPjtlaocpVxnnPoq3rPSuPDD\\xe2\\x80\\x99csWDvBQ,\\xe2\\x80\\x94UOHq'\n"
     ]
    }
   ],
   "source": [
    "print(\"Input:\\n\", text_from_ids(input_example_batch[0]).numpy())\n",
    "print()\n",
    "print(\"Next Char Predictions:\\n\", text_from_ids(sampled_indices).numpy())"
   ]
  },
  {
   "cell_type": "markdown",
   "metadata": {
    "id": "LJL0Q0YPY6Ee"
   },
   "source": [
    "## Train the model"
   ]
  },
  {
   "cell_type": "markdown",
   "metadata": {
    "id": "YCbHQHiaa4Ic"
   },
   "source": [
    "At this point the problem can be treated as a standard classification problem. Given the previous RNN state, and the input this time step, predict the class of the next character."
   ]
  },
  {
   "cell_type": "markdown",
   "metadata": {
    "id": "trpqTWyvk0nr"
   },
   "source": [
    "### Attach an optimizer, and a loss function"
   ]
  },
  {
   "cell_type": "markdown",
   "metadata": {
    "id": "UAjbjY03eiQ4"
   },
   "source": [
    "The standard `tf.keras.losses.sparse_categorical_crossentropy` loss function works in this case because it is applied across the last dimension of the predictions.\n",
    "\n",
    "Because your model returns logits, you need to set the `from_logits` flag.\n"
   ]
  },
  {
   "cell_type": "code",
   "execution_count": 168,
   "metadata": {
    "execution": {
     "iopub.execute_input": "2021-05-21T15:39:18.388618Z",
     "iopub.status.busy": "2021-05-21T15:39:18.388049Z",
     "iopub.status.idle": "2021-05-21T15:39:18.390700Z",
     "shell.execute_reply": "2021-05-21T15:39:18.390253Z"
    },
    "id": "ZOeWdgxNFDXq"
   },
   "outputs": [],
   "source": [
    "loss = tf.losses.SparseCategoricalCrossentropy(from_logits=True)"
   ]
  },
  {
   "cell_type": "code",
   "execution_count": 169,
   "metadata": {
    "execution": {
     "iopub.execute_input": "2021-05-21T15:39:18.394850Z",
     "iopub.status.busy": "2021-05-21T15:39:18.394279Z",
     "iopub.status.idle": "2021-05-21T15:39:18.400560Z",
     "shell.execute_reply": "2021-05-21T15:39:18.400912Z"
    },
    "id": "4HrXTACTdzY-"
   },
   "outputs": [
    {
     "name": "stdout",
     "output_type": "stream",
     "text": [
      "Prediction shape:  (64, 100, 66)  # (batch_size, sequence_length, vocab_size)\n",
      "Mean loss:         4.1883135\n"
     ]
    }
   ],
   "source": [
    "example_batch_loss = loss(target_example_batch, example_batch_predictions)\n",
    "mean_loss = example_batch_loss.numpy().mean()\n",
    "print(\"Prediction shape: \", example_batch_predictions.shape, \" # (batch_size, sequence_length, vocab_size)\")\n",
    "print(\"Mean loss:        \", mean_loss)"
   ]
  },
  {
   "cell_type": "markdown",
   "metadata": {
    "id": "vkvUIneTFiow"
   },
   "source": [
    "A newly initialized model shouldn't be too sure of itself, the output logits should all have similar magnitudes. To confirm this you can check that the exponential of the mean loss is approximately equal to the vocabulary size. A much higher loss means the model is sure of its wrong answers, and is badly initialized:"
   ]
  },
  {
   "cell_type": "code",
   "execution_count": 170,
   "metadata": {
    "execution": {
     "iopub.execute_input": "2021-05-21T15:39:18.404569Z",
     "iopub.status.busy": "2021-05-21T15:39:18.403958Z",
     "iopub.status.idle": "2021-05-21T15:39:18.407838Z",
     "shell.execute_reply": "2021-05-21T15:39:18.408204Z"
    },
    "id": "MAJfS5YoFiHf"
   },
   "outputs": [
    {
     "data": {
      "text/plain": [
       "65.91154"
      ]
     },
     "execution_count": 170,
     "metadata": {},
     "output_type": "execute_result"
    }
   ],
   "source": [
    "tf.exp(mean_loss).numpy()"
   ]
  },
  {
   "cell_type": "markdown",
   "metadata": {
    "id": "jeOXriLcymww"
   },
   "source": [
    "Configure the training procedure using the `tf.keras.Model.compile` method. Use `tf.keras.optimizers.Adam` with default arguments and the loss function."
   ]
  },
  {
   "cell_type": "code",
   "execution_count": 171,
   "metadata": {
    "execution": {
     "iopub.execute_input": "2021-05-21T15:39:18.415050Z",
     "iopub.status.busy": "2021-05-21T15:39:18.414491Z",
     "iopub.status.idle": "2021-05-21T15:39:18.419720Z",
     "shell.execute_reply": "2021-05-21T15:39:18.420069Z"
    },
    "id": "DDl1_Een6rL0"
   },
   "outputs": [],
   "source": [
    "model.compile(optimizer='adam', loss=loss)"
   ]
  },
  {
   "cell_type": "markdown",
   "metadata": {
    "id": "ieSJdchZggUj"
   },
   "source": [
    "### Configure checkpoints"
   ]
  },
  {
   "cell_type": "markdown",
   "metadata": {
    "id": "C6XBUUavgF56"
   },
   "source": [
    "Use a `tf.keras.callbacks.ModelCheckpoint` to ensure that checkpoints are saved during training:"
   ]
  },
  {
   "cell_type": "code",
   "execution_count": 172,
   "metadata": {
    "execution": {
     "iopub.execute_input": "2021-05-21T15:39:18.423963Z",
     "iopub.status.busy": "2021-05-21T15:39:18.423405Z",
     "iopub.status.idle": "2021-05-21T15:39:18.426007Z",
     "shell.execute_reply": "2021-05-21T15:39:18.425539Z"
    },
    "id": "W6fWTriUZP-n"
   },
   "outputs": [],
   "source": [
    "# Directory where the checkpoints will be saved\n",
    "checkpoint_dir = './training_checkpoints'\n",
    "# Name of the checkpoint files\n",
    "checkpoint_prefix = os.path.join(checkpoint_dir, \"ckpt_{epoch}\")\n",
    "\n",
    "checkpoint_callback = tf.keras.callbacks.ModelCheckpoint(\n",
    "    filepath=checkpoint_prefix,\n",
    "    save_weights_only=True)"
   ]
  },
  {
   "cell_type": "markdown",
   "metadata": {
    "id": "3Ky3F_BhgkTW"
   },
   "source": [
    "### Execute the training"
   ]
  },
  {
   "cell_type": "markdown",
   "metadata": {
    "id": "IxdOA-rgyGvs"
   },
   "source": [
    "To keep training time reasonable, use 10 epochs to train the model. In Colab, set the runtime to GPU for faster training."
   ]
  },
  {
   "cell_type": "code",
   "execution_count": 173,
   "metadata": {
    "execution": {
     "iopub.execute_input": "2021-05-21T15:39:18.429472Z",
     "iopub.status.busy": "2021-05-21T15:39:18.428913Z",
     "iopub.status.idle": "2021-05-21T15:39:18.431380Z",
     "shell.execute_reply": "2021-05-21T15:39:18.430936Z"
    },
    "id": "7yGBE2zxMMHs"
   },
   "outputs": [],
   "source": [
    "EPOCHS = 200"
   ]
  },
  {
   "cell_type": "code",
   "execution_count": 174,
   "metadata": {
    "execution": {
     "iopub.execute_input": "2021-05-21T15:39:18.435162Z",
     "iopub.status.busy": "2021-05-21T15:39:18.434589Z",
     "iopub.status.idle": "2021-05-21T15:41:07.648325Z",
     "shell.execute_reply": "2021-05-21T15:41:07.647733Z"
    },
    "id": "UK-hmKjYVoll"
   },
   "outputs": [
    {
     "name": "stdout",
     "output_type": "stream",
     "text": [
      "Epoch 1/200\n",
      "2/2 [==============================] - 3s 1s/step - loss: 4.1682\n",
      "Epoch 2/200\n",
      "2/2 [==============================] - 2s 1s/step - loss: 3.9880\n",
      "Epoch 3/200\n",
      "2/2 [==============================] - 2s 1s/step - loss: 6.3579\n",
      "Epoch 4/200\n",
      "2/2 [==============================] - 2s 1s/step - loss: 3.9326\n",
      "Epoch 5/200\n",
      "2/2 [==============================] - 2s 1s/step - loss: 3.9850\n",
      "Epoch 6/200\n",
      "2/2 [==============================] - 2s 1s/step - loss: 3.9797\n",
      "Epoch 7/200\n",
      "2/2 [==============================] - 2s 1s/step - loss: 3.9562\n",
      "Epoch 8/200\n",
      "2/2 [==============================] - 2s 1s/step - loss: 3.9059\n",
      "Epoch 9/200\n",
      "2/2 [==============================] - 2s 1s/step - loss: 3.8290\n",
      "Epoch 10/200\n",
      "2/2 [==============================] - 2s 1s/step - loss: 3.7033\n",
      "Epoch 11/200\n",
      "2/2 [==============================] - 2s 1s/step - loss: 3.5144\n",
      "Epoch 12/200\n",
      "2/2 [==============================] - 2s 1s/step - loss: 3.4767\n",
      "Epoch 13/200\n",
      "2/2 [==============================] - 2s 1s/step - loss: 3.2929\n",
      "Epoch 14/200\n",
      "2/2 [==============================] - 2s 1s/step - loss: 3.2094\n",
      "Epoch 15/200\n",
      "2/2 [==============================] - 2s 1s/step - loss: 3.1859\n",
      "Epoch 16/200\n",
      "2/2 [==============================] - 2s 1s/step - loss: 3.1888\n",
      "Epoch 17/200\n",
      "2/2 [==============================] - 2s 1s/step - loss: 3.1222\n",
      "Epoch 18/200\n",
      "2/2 [==============================] - 2s 1s/step - loss: 3.0796\n",
      "Epoch 19/200\n",
      "2/2 [==============================] - 2s 1s/step - loss: 3.0339\n",
      "Epoch 20/200\n",
      "2/2 [==============================] - 2s 1s/step - loss: 2.9931\n",
      "Epoch 21/200\n",
      "2/2 [==============================] - 2s 1s/step - loss: 2.9475\n",
      "Epoch 22/200\n",
      "2/2 [==============================] - 3s 1s/step - loss: 2.9099\n",
      "Epoch 23/200\n",
      "2/2 [==============================] - 3s 1s/step - loss: 2.8731\n",
      "Epoch 24/200\n",
      "2/2 [==============================] - 3s 1s/step - loss: 2.8038\n",
      "Epoch 25/200\n",
      "2/2 [==============================] - 3s 1s/step - loss: 2.7828\n",
      "Epoch 26/200\n",
      "2/2 [==============================] - 3s 1s/step - loss: 2.7398\n",
      "Epoch 27/200\n",
      "2/2 [==============================] - 3s 1s/step - loss: 2.7054\n",
      "Epoch 28/200\n",
      "2/2 [==============================] - 3s 1s/step - loss: 2.6606\n",
      "Epoch 29/200\n",
      "2/2 [==============================] - 3s 1s/step - loss: 2.6204\n",
      "Epoch 30/200\n",
      "2/2 [==============================] - 3s 2s/step - loss: 2.5752\n",
      "Epoch 31/200\n",
      "2/2 [==============================] - 3s 1s/step - loss: 2.5382\n",
      "Epoch 32/200\n",
      "2/2 [==============================] - 3s 1s/step - loss: 2.5128\n",
      "Epoch 33/200\n",
      "2/2 [==============================] - 3s 1s/step - loss: 2.4736\n",
      "Epoch 34/200\n",
      "2/2 [==============================] - 3s 1s/step - loss: 2.4676\n",
      "Epoch 35/200\n",
      "2/2 [==============================] - 3s 1s/step - loss: 2.4398\n",
      "Epoch 36/200\n",
      "2/2 [==============================] - 3s 1s/step - loss: 2.4207\n",
      "Epoch 37/200\n",
      "2/2 [==============================] - 3s 1s/step - loss: 2.3829\n",
      "Epoch 38/200\n",
      "2/2 [==============================] - 3s 1s/step - loss: 2.3780\n",
      "Epoch 39/200\n",
      "2/2 [==============================] - 3s 1s/step - loss: 2.3623\n",
      "Epoch 40/200\n",
      "2/2 [==============================] - 3s 1s/step - loss: 2.3246\n",
      "Epoch 41/200\n",
      "2/2 [==============================] - 3s 1s/step - loss: 2.2916\n",
      "Epoch 42/200\n",
      "2/2 [==============================] - 3s 1s/step - loss: 2.2916\n",
      "Epoch 43/200\n",
      "2/2 [==============================] - 3s 1s/step - loss: 2.2994\n",
      "Epoch 44/200\n",
      "2/2 [==============================] - 3s 1s/step - loss: 2.2748\n",
      "Epoch 45/200\n",
      "2/2 [==============================] - 3s 1s/step - loss: 2.2176\n",
      "Epoch 46/200\n",
      "2/2 [==============================] - 3s 1s/step - loss: 2.2345\n",
      "Epoch 47/200\n",
      "2/2 [==============================] - 3s 1s/step - loss: 2.2153\n",
      "Epoch 48/200\n",
      "2/2 [==============================] - 3s 1s/step - loss: 2.1936\n",
      "Epoch 49/200\n",
      "2/2 [==============================] - 3s 1s/step - loss: 2.1808\n",
      "Epoch 50/200\n",
      "2/2 [==============================] - 3s 1s/step - loss: 2.1860\n",
      "Epoch 51/200\n",
      "2/2 [==============================] - 3s 2s/step - loss: 2.1651\n",
      "Epoch 52/200\n",
      "2/2 [==============================] - 3s 1s/step - loss: 2.1276\n",
      "Epoch 53/200\n",
      "2/2 [==============================] - 3s 1s/step - loss: 2.1115\n",
      "Epoch 54/200\n",
      "2/2 [==============================] - 3s 1s/step - loss: 2.1125\n",
      "Epoch 55/200\n",
      "2/2 [==============================] - 3s 2s/step - loss: 2.1078\n",
      "Epoch 56/200\n",
      "2/2 [==============================] - 3s 2s/step - loss: 2.0814\n",
      "Epoch 57/200\n",
      "2/2 [==============================] - 3s 1s/step - loss: 2.0693\n",
      "Epoch 58/200\n",
      "2/2 [==============================] - 3s 1s/step - loss: 2.0728\n",
      "Epoch 59/200\n",
      "2/2 [==============================] - 3s 1s/step - loss: 2.0738\n",
      "Epoch 60/200\n",
      "2/2 [==============================] - 3s 1s/step - loss: 2.0571\n",
      "Epoch 61/200\n",
      "2/2 [==============================] - 3s 1s/step - loss: 2.0258\n",
      "Epoch 62/200\n",
      "2/2 [==============================] - 3s 1s/step - loss: 2.0322\n",
      "Epoch 63/200\n",
      "2/2 [==============================] - 3s 1s/step - loss: 2.0073\n",
      "Epoch 64/200\n",
      "2/2 [==============================] - 3s 1s/step - loss: 1.9948\n",
      "Epoch 65/200\n",
      "2/2 [==============================] - 3s 2s/step - loss: 1.9861\n",
      "Epoch 66/200\n",
      "2/2 [==============================] - 3s 2s/step - loss: 1.9840\n",
      "Epoch 67/200\n",
      "2/2 [==============================] - 3s 1s/step - loss: 1.9631\n",
      "Epoch 68/200\n",
      "2/2 [==============================] - 3s 1s/step - loss: 1.9644\n",
      "Epoch 69/200\n",
      "2/2 [==============================] - 3s 1s/step - loss: 1.9478\n",
      "Epoch 70/200\n",
      "2/2 [==============================] - 3s 1s/step - loss: 1.9323\n",
      "Epoch 71/200\n",
      "2/2 [==============================] - 3s 1s/step - loss: 1.9382\n",
      "Epoch 72/200\n",
      "2/2 [==============================] - 3s 1s/step - loss: 1.8896\n",
      "Epoch 73/200\n",
      "2/2 [==============================] - 3s 1s/step - loss: 1.9010\n",
      "Epoch 74/200\n",
      "2/2 [==============================] - 4s 2s/step - loss: 1.8857\n",
      "Epoch 75/200\n",
      "2/2 [==============================] - 3s 2s/step - loss: 1.8613\n",
      "Epoch 76/200\n",
      "2/2 [==============================] - 3s 2s/step - loss: 1.8632\n",
      "Epoch 77/200\n",
      "2/2 [==============================] - 3s 2s/step - loss: 1.8408\n",
      "Epoch 78/200\n",
      "2/2 [==============================] - 3s 2s/step - loss: 1.8113\n",
      "Epoch 79/200\n",
      "2/2 [==============================] - 3s 2s/step - loss: 1.8180\n",
      "Epoch 80/200\n",
      "2/2 [==============================] - 3s 1s/step - loss: 1.8029\n",
      "Epoch 81/200\n",
      "2/2 [==============================] - 3s 1s/step - loss: 1.7879\n",
      "Epoch 82/200\n",
      "2/2 [==============================] - 3s 1s/step - loss: 1.7502\n",
      "Epoch 83/200\n",
      "2/2 [==============================] - 3s 1s/step - loss: 1.7552\n",
      "Epoch 84/200\n",
      "2/2 [==============================] - 3s 1s/step - loss: 1.7470\n",
      "Epoch 85/200\n",
      "2/2 [==============================] - 3s 1s/step - loss: 1.7235\n",
      "Epoch 86/200\n",
      "2/2 [==============================] - 3s 1s/step - loss: 1.7104\n",
      "Epoch 87/200\n",
      "2/2 [==============================] - 3s 1s/step - loss: 1.6869\n",
      "Epoch 88/200\n",
      "2/2 [==============================] - 3s 1s/step - loss: 1.6790\n",
      "Epoch 89/200\n",
      "2/2 [==============================] - 3s 1s/step - loss: 1.6411\n",
      "Epoch 90/200\n",
      "2/2 [==============================] - 3s 1s/step - loss: 1.6338\n",
      "Epoch 91/200\n",
      "2/2 [==============================] - 3s 1s/step - loss: 1.6533\n",
      "Epoch 92/200\n",
      "2/2 [==============================] - 3s 1s/step - loss: 1.6367\n",
      "Epoch 93/200\n",
      "2/2 [==============================] - 3s 1s/step - loss: 1.5942\n",
      "Epoch 94/200\n",
      "2/2 [==============================] - 3s 1s/step - loss: 1.5768\n",
      "Epoch 95/200\n",
      "2/2 [==============================] - 3s 1s/step - loss: 1.5518\n",
      "Epoch 96/200\n",
      "2/2 [==============================] - 3s 1s/step - loss: 1.5458\n",
      "Epoch 97/200\n",
      "2/2 [==============================] - 3s 2s/step - loss: 1.5077\n",
      "Epoch 98/200\n",
      "2/2 [==============================] - 3s 1s/step - loss: 1.5434\n",
      "Epoch 99/200\n",
      "2/2 [==============================] - 3s 1s/step - loss: 1.4953\n",
      "Epoch 100/200\n",
      "2/2 [==============================] - 3s 1s/step - loss: 1.4787\n",
      "Epoch 101/200\n",
      "2/2 [==============================] - 3s 1s/step - loss: 1.4568\n",
      "Epoch 102/200\n",
      "2/2 [==============================] - 3s 1s/step - loss: 1.4117\n",
      "Epoch 103/200\n",
      "2/2 [==============================] - 3s 1s/step - loss: 1.4080\n",
      "Epoch 104/200\n",
      "2/2 [==============================] - 3s 1s/step - loss: 1.4247\n",
      "Epoch 105/200\n",
      "2/2 [==============================] - 3s 1s/step - loss: 1.4090\n",
      "Epoch 106/200\n"
     ]
    },
    {
     "name": "stdout",
     "output_type": "stream",
     "text": [
      "2/2 [==============================] - 3s 1s/step - loss: 1.3755\n",
      "Epoch 107/200\n",
      "2/2 [==============================] - 3s 1s/step - loss: 1.3546\n",
      "Epoch 108/200\n",
      "2/2 [==============================] - 3s 1s/step - loss: 1.3385\n",
      "Epoch 109/200\n",
      "2/2 [==============================] - 3s 1s/step - loss: 1.3007\n",
      "Epoch 110/200\n",
      "2/2 [==============================] - 3s 1s/step - loss: 1.3390\n",
      "Epoch 111/200\n",
      "2/2 [==============================] - 3s 2s/step - loss: 1.2989\n",
      "Epoch 112/200\n",
      "2/2 [==============================] - 3s 1s/step - loss: 1.2678\n",
      "Epoch 113/200\n",
      "2/2 [==============================] - 3s 1s/step - loss: 1.2694\n",
      "Epoch 114/200\n",
      "2/2 [==============================] - 3s 1s/step - loss: 1.2245\n",
      "Epoch 115/200\n",
      "2/2 [==============================] - 3s 1s/step - loss: 1.2181\n",
      "Epoch 116/200\n",
      "2/2 [==============================] - 3s 1s/step - loss: 1.2187\n",
      "Epoch 117/200\n",
      "2/2 [==============================] - 3s 1s/step - loss: 1.1753\n",
      "Epoch 118/200\n",
      "2/2 [==============================] - 3s 1s/step - loss: 1.1706\n",
      "Epoch 119/200\n",
      "2/2 [==============================] - 3s 1s/step - loss: 1.1694\n",
      "Epoch 120/200\n",
      "2/2 [==============================] - 3s 1s/step - loss: 1.1373\n",
      "Epoch 121/200\n",
      "2/2 [==============================] - 3s 1s/step - loss: 1.0963\n",
      "Epoch 122/200\n",
      "2/2 [==============================] - 3s 1s/step - loss: 1.0974\n",
      "Epoch 123/200\n",
      "2/2 [==============================] - 3s 1s/step - loss: 1.0768\n",
      "Epoch 124/200\n",
      "2/2 [==============================] - 3s 1s/step - loss: 1.0730\n",
      "Epoch 125/200\n",
      "2/2 [==============================] - 3s 1s/step - loss: 1.0696\n",
      "Epoch 126/200\n",
      "2/2 [==============================] - 3s 1s/step - loss: 1.0282\n",
      "Epoch 127/200\n",
      "2/2 [==============================] - 3s 1s/step - loss: 0.9731\n",
      "Epoch 128/200\n",
      "2/2 [==============================] - 3s 2s/step - loss: 0.9767\n",
      "Epoch 129/200\n",
      "2/2 [==============================] - 3s 2s/step - loss: 0.9746\n",
      "Epoch 130/200\n",
      "2/2 [==============================] - 3s 2s/step - loss: 0.9210\n",
      "Epoch 131/200\n",
      "2/2 [==============================] - 3s 1s/step - loss: 0.8945\n",
      "Epoch 132/200\n",
      "2/2 [==============================] - 3s 2s/step - loss: 0.8810\n",
      "Epoch 133/200\n",
      "2/2 [==============================] - 3s 1s/step - loss: 0.8983\n",
      "Epoch 134/200\n",
      "2/2 [==============================] - 3s 1s/step - loss: 0.8374\n",
      "Epoch 135/200\n",
      "2/2 [==============================] - 3s 1s/step - loss: 0.8191\n",
      "Epoch 136/200\n",
      "2/2 [==============================] - 3s 1s/step - loss: 0.8177\n",
      "Epoch 137/200\n",
      "2/2 [==============================] - 3s 1s/step - loss: 0.7860\n",
      "Epoch 138/200\n",
      "2/2 [==============================] - 3s 2s/step - loss: 0.7732\n",
      "Epoch 139/200\n",
      "2/2 [==============================] - 3s 1s/step - loss: 0.7568\n",
      "Epoch 140/200\n",
      "2/2 [==============================] - 3s 1s/step - loss: 0.7408\n",
      "Epoch 141/200\n",
      "2/2 [==============================] - 3s 2s/step - loss: 0.6991\n",
      "Epoch 142/200\n",
      "2/2 [==============================] - 4s 2s/step - loss: 0.6873\n",
      "Epoch 143/200\n",
      "2/2 [==============================] - 3s 2s/step - loss: 0.6870\n",
      "Epoch 144/200\n",
      "2/2 [==============================] - 3s 2s/step - loss: 0.6448\n",
      "Epoch 145/200\n",
      "2/2 [==============================] - 3s 1s/step - loss: 0.6191\n",
      "Epoch 146/200\n",
      "2/2 [==============================] - 3s 1s/step - loss: 0.6063\n",
      "Epoch 147/200\n",
      "2/2 [==============================] - 3s 1s/step - loss: 0.5826\n",
      "Epoch 148/200\n",
      "2/2 [==============================] - 3s 1s/step - loss: 0.5736\n",
      "Epoch 149/200\n",
      "2/2 [==============================] - 3s 1s/step - loss: 0.5483\n",
      "Epoch 150/200\n",
      "2/2 [==============================] - 3s 1s/step - loss: 0.5199\n",
      "Epoch 151/200\n",
      "2/2 [==============================] - 3s 1s/step - loss: 0.5031\n",
      "Epoch 152/200\n",
      "2/2 [==============================] - 3s 1s/step - loss: 0.4929\n",
      "Epoch 153/200\n",
      "2/2 [==============================] - 3s 1s/step - loss: 0.4693\n",
      "Epoch 154/200\n",
      "2/2 [==============================] - 3s 1s/step - loss: 0.4416\n",
      "Epoch 155/200\n",
      "2/2 [==============================] - 3s 2s/step - loss: 0.4333\n",
      "Epoch 156/200\n",
      "2/2 [==============================] - 4s 2s/step - loss: 0.4221\n",
      "Epoch 157/200\n",
      "2/2 [==============================] - 4s 2s/step - loss: 0.3922\n",
      "Epoch 158/200\n",
      "2/2 [==============================] - 3s 1s/step - loss: 0.3833\n",
      "Epoch 159/200\n",
      "2/2 [==============================] - 3s 1s/step - loss: 0.3763\n",
      "Epoch 160/200\n",
      "2/2 [==============================] - 3s 1s/step - loss: 0.3659\n",
      "Epoch 161/200\n",
      "2/2 [==============================] - 3s 1s/step - loss: 0.3487\n",
      "Epoch 162/200\n",
      "2/2 [==============================] - 3s 1s/step - loss: 0.3305\n",
      "Epoch 163/200\n",
      "2/2 [==============================] - 3s 1s/step - loss: 0.3126\n",
      "Epoch 164/200\n",
      "2/2 [==============================] - 3s 1s/step - loss: 0.3024\n",
      "Epoch 165/200\n",
      "2/2 [==============================] - 3s 1s/step - loss: 0.2920\n",
      "Epoch 166/200\n",
      "2/2 [==============================] - 3s 1s/step - loss: 0.2786\n",
      "Epoch 167/200\n",
      "2/2 [==============================] - 3s 1s/step - loss: 0.2699\n",
      "Epoch 168/200\n",
      "2/2 [==============================] - 3s 2s/step - loss: 0.2576\n",
      "Epoch 169/200\n",
      "2/2 [==============================] - 3s 1s/step - loss: 0.2449\n",
      "Epoch 170/200\n",
      "2/2 [==============================] - 3s 2s/step - loss: 0.2357\n",
      "Epoch 171/200\n",
      "2/2 [==============================] - 3s 2s/step - loss: 0.2265\n",
      "Epoch 172/200\n",
      "2/2 [==============================] - 3s 2s/step - loss: 0.2198\n",
      "Epoch 173/200\n",
      "2/2 [==============================] - 3s 2s/step - loss: 0.2098\n",
      "Epoch 174/200\n",
      "2/2 [==============================] - 3s 1s/step - loss: 0.1956\n",
      "Epoch 175/200\n",
      "2/2 [==============================] - 3s 2s/step - loss: 0.1926\n",
      "Epoch 176/200\n",
      "2/2 [==============================] - 3s 1s/step - loss: 0.1839\n",
      "Epoch 177/200\n",
      "2/2 [==============================] - 3s 1s/step - loss: 0.1777\n",
      "Epoch 178/200\n",
      "2/2 [==============================] - 3s 1s/step - loss: 0.1698\n",
      "Epoch 179/200\n",
      "2/2 [==============================] - 3s 2s/step - loss: 0.1638\n",
      "Epoch 180/200\n",
      "2/2 [==============================] - 3s 2s/step - loss: 0.1573\n",
      "Epoch 181/200\n",
      "2/2 [==============================] - 3s 2s/step - loss: 0.1505\n",
      "Epoch 182/200\n",
      "2/2 [==============================] - 3s 1s/step - loss: 0.1478\n",
      "Epoch 183/200\n",
      "2/2 [==============================] - 3s 1s/step - loss: 0.1400\n",
      "Epoch 184/200\n",
      "2/2 [==============================] - 3s 1s/step - loss: 0.1400\n",
      "Epoch 185/200\n",
      "2/2 [==============================] - 3s 1s/step - loss: 0.1349\n",
      "Epoch 186/200\n",
      "2/2 [==============================] - 3s 1s/step - loss: 0.1287\n",
      "Epoch 187/200\n",
      "2/2 [==============================] - 3s 1s/step - loss: 0.1258\n",
      "Epoch 188/200\n",
      "2/2 [==============================] - 3s 2s/step - loss: 0.1222\n",
      "Epoch 189/200\n",
      "2/2 [==============================] - 3s 2s/step - loss: 0.1170\n",
      "Epoch 190/200\n",
      "2/2 [==============================] - 4s 2s/step - loss: 0.1133\n",
      "Epoch 191/200\n",
      "2/2 [==============================] - 3s 2s/step - loss: 0.1126\n",
      "Epoch 192/200\n",
      "2/2 [==============================] - 3s 1s/step - loss: 0.1087\n",
      "Epoch 193/200\n",
      "2/2 [==============================] - 3s 1s/step - loss: 0.1056\n",
      "Epoch 194/200\n",
      "2/2 [==============================] - 3s 1s/step - loss: 0.1031\n",
      "Epoch 195/200\n",
      "2/2 [==============================] - 3s 1s/step - loss: 0.0980\n",
      "Epoch 196/200\n",
      "2/2 [==============================] - 3s 1s/step - loss: 0.0945\n",
      "Epoch 197/200\n",
      "2/2 [==============================] - 3s 1s/step - loss: 0.0925\n",
      "Epoch 198/200\n",
      "2/2 [==============================] - 3s 1s/step - loss: 0.0911\n",
      "Epoch 199/200\n",
      "2/2 [==============================] - 3s 1s/step - loss: 0.0886\n",
      "Epoch 200/200\n",
      "2/2 [==============================] - 3s 1s/step - loss: 0.0883\n"
     ]
    }
   ],
   "source": [
    "history = model.fit(dataset, epochs=EPOCHS, callbacks=[checkpoint_callback])"
   ]
  },
  {
   "cell_type": "markdown",
   "metadata": {
    "id": "kKkD5M6eoSiN"
   },
   "source": [
    "## Generate text"
   ]
  },
  {
   "cell_type": "markdown",
   "metadata": {
    "id": "oIdQ8c8NvMzV"
   },
   "source": [
    "The simplest way to generate text with this model is to run it in a loop, and keep track of the model's internal state as you execute it.\n",
    "\n",
    "![To generate text the model's output is fed back to the input](images/text_generation_sampling.png)\n",
    "\n",
    "Each time you call the model you pass in some text and an internal state. The model returns a prediction for the next character and its new state. Pass the prediction and state back in to continue generating text.\n"
   ]
  },
  {
   "cell_type": "markdown",
   "metadata": {
    "id": "DjGz1tDkzf-u"
   },
   "source": [
    "The following makes a single step prediction:"
   ]
  },
  {
   "cell_type": "code",
   "execution_count": 175,
   "metadata": {
    "execution": {
     "iopub.execute_input": "2021-05-21T15:41:07.657627Z",
     "iopub.status.busy": "2021-05-21T15:41:07.656671Z",
     "iopub.status.idle": "2021-05-21T15:41:07.659150Z",
     "shell.execute_reply": "2021-05-21T15:41:07.658631Z"
    },
    "id": "iSBU1tHmlUSs"
   },
   "outputs": [],
   "source": [
    "class OneStep(tf.keras.Model):\n",
    "  def __init__(self, model, chars_from_ids, ids_from_chars, temperature=1.0):\n",
    "    super().__init__()\n",
    "    self.temperature = temperature\n",
    "    self.model = model\n",
    "    self.chars_from_ids = chars_from_ids\n",
    "    self.ids_from_chars = ids_from_chars\n",
    "\n",
    "    # Create a mask to prevent \"[UNK]\" from being generated.\n",
    "    skip_ids = self.ids_from_chars(['[UNK]'])[:, None]\n",
    "    sparse_mask = tf.SparseTensor(\n",
    "        # Put a -inf at each bad index.\n",
    "        values=[-float('inf')]*len(skip_ids),\n",
    "        indices=skip_ids,\n",
    "        # Match the shape to the vocabulary\n",
    "        dense_shape=[len(ids_from_chars.get_vocabulary())])\n",
    "    self.prediction_mask = tf.sparse.to_dense(sparse_mask)\n",
    "\n",
    "  @tf.function\n",
    "  def generate_one_step(self, inputs, states=None):\n",
    "    # Convert strings to token IDs.\n",
    "    input_chars = tf.strings.unicode_split(inputs, 'UTF-8')\n",
    "    input_ids = self.ids_from_chars(input_chars).to_tensor()\n",
    "\n",
    "    # Run the model.\n",
    "    # predicted_logits.shape is [batch, char, next_char_logits]\n",
    "    predicted_logits, states = self.model(inputs=input_ids, states=states,\n",
    "                                          return_state=True)\n",
    "    # Only use the last prediction.\n",
    "    predicted_logits = predicted_logits[:, -1, :]\n",
    "    predicted_logits = predicted_logits/self.temperature\n",
    "    # Apply the prediction mask: prevent \"[UNK]\" from being generated.\n",
    "    predicted_logits = predicted_logits + self.prediction_mask\n",
    "\n",
    "    # Sample the output logits to generate token IDs.\n",
    "    predicted_ids = tf.random.categorical(predicted_logits, num_samples=1)\n",
    "    predicted_ids = tf.squeeze(predicted_ids, axis=-1)\n",
    "\n",
    "    # Convert from token ids to characters\n",
    "    predicted_chars = self.chars_from_ids(predicted_ids)\n",
    "\n",
    "    # Return the characters and model state.\n",
    "    return predicted_chars, states"
   ]
  },
  {
   "cell_type": "code",
   "execution_count": 176,
   "metadata": {
    "execution": {
     "iopub.execute_input": "2021-05-21T15:41:07.664421Z",
     "iopub.status.busy": "2021-05-21T15:41:07.663498Z",
     "iopub.status.idle": "2021-05-21T15:41:07.670551Z",
     "shell.execute_reply": "2021-05-21T15:41:07.670099Z"
    },
    "id": "fqMOuDutnOxK"
   },
   "outputs": [],
   "source": [
    "one_step_model = OneStep(model, chars_from_ids, ids_from_chars)"
   ]
  },
  {
   "cell_type": "markdown",
   "metadata": {
    "id": "p9yDoa0G3IgQ"
   },
   "source": [
    "Run it in a loop to generate some text. Looking at the generated text, you'll see the model knows when to capitalize, make paragraphs and imitates a Shakespeare-like writing vocabulary. With the small number of training epochs, it has not yet learned to form coherent sentences."
   ]
  },
  {
   "cell_type": "code",
   "execution_count": 177,
   "metadata": {
    "execution": {
     "iopub.execute_input": "2021-05-21T15:41:07.676784Z",
     "iopub.status.busy": "2021-05-21T15:41:07.675916Z",
     "iopub.status.idle": "2021-05-21T15:41:10.098880Z",
     "shell.execute_reply": "2021-05-21T15:41:10.099272Z"
    },
    "id": "ST7PSyk9t1mT"
   },
   "outputs": [
    {
     "name": "stdout",
     "output_type": "stream",
     "text": [
      "ROMEO:!\n",
      " Saik bat can carc.\n",
      "Dinos cunting onr a wlith.\n",
      "Then bex wants.\n",
      "Bor wants to gan.\n",
      "Cat wats the bag.\n",
      "Sam ran up.\n",
      "Pam ran down.\n",
      "Dan ran up.\n",
      "Dan ran down.\n",
      "Dan Runce.\n",
      "Some is Big to flace.\n",
      "Dance!\n",
      "\n",
      "\n",
      "\n",
      "The to ran egger.\n",
      "One is big.\n",
      "The rest are small.\n",
      "Here is a tail.\n",
      "Here is a tail.\n",
      "Here is an ear.\n",
      "Here is an ear.\n",
      "Here is an ear.\n",
      "Here is an eye.\n",
      "Here is an eye.\n",
      "Here is an eye.\n",
      "Here is an eye.\n",
      "Here is Big Bunny.\n",
      "Here is a noge.\n",
      "Har, wighor theep sweep.\n",
      "Jeep for sawe — bakt and a kell and back.\n",
      "Yes, we do!\n",
      " Come see!\n",
      " Momar babies learn to school.\n",
      "I see the bus.\n",
      "What is in my classroom?\n",
      " I see box.\n",
      "\"Is it a dog egg?\n",
      "\" \"No,\" says Cat.\n",
      "\"Is it a cow egg?\n",
      "\" \"YE, Sam!\n",
      "\n",
      "\n",
      "\n",
      "I am Tim.\n",
      "My twin is Jim.\n",
      "I see a cat.\n",
      "I see a car.\n",
      "\n",
      "\n",
      "\n",
      "I see a cat.\n",
      "I se a dog.\n",
      "A bug in a rug.\n",
      "A bug in the grass.\n",
      "ACkular baby watt.\n",
      "\"I's wancing Pila a cat hike my car door ug?\n",
      " Writing?\n",
      " I like to read.\n",
      "Do you goes that’s st, pilll!\n",
      " Thim poll to see me wars.\n",
      "Big Cat can dawe.\n",
      "\"See mit salf.\n",
      "See Otto go left comed.\n",
      "The baby dra \n",
      "\n",
      "________________________________________________________________________________\n",
      "\n",
      "Run time: 1.564512014389038\n"
     ]
    }
   ],
   "source": [
    "start = time.time()\n",
    "states = None\n",
    "next_char = tf.constant(['ROMEO:'])\n",
    "result = [next_char]\n",
    "\n",
    "for n in range(1000):\n",
    "  next_char, states = one_step_model.generate_one_step(next_char, states=states)\n",
    "  result.append(next_char)\n",
    "\n",
    "result = tf.strings.join(result)\n",
    "end = time.time()\n",
    "print(result[0].numpy().decode('utf-8'), '\\n\\n' + '_'*80)\n",
    "print('\\nRun time:', end - start)"
   ]
  },
  {
   "cell_type": "markdown",
   "metadata": {
    "id": "AM2Uma_-yVIq"
   },
   "source": [
    "The easiest thing you can do to improve the results is to train it for longer (try `EPOCHS = 30`).\n",
    "\n",
    "You can also experiment with a different start string, try adding another RNN layer to improve the model's accuracy, or adjust the temperature parameter to generate more or less random predictions."
   ]
  },
  {
   "cell_type": "markdown",
   "metadata": {
    "id": "_OfbI4aULmuj"
   },
   "source": [
    "If you want the model to generate text *faster* the easiest thing you can do is batch the text generation. In the example below the model generates 5 outputs in about the same time it took to generate 1 above. "
   ]
  },
  {
   "cell_type": "code",
   "execution_count": 178,
   "metadata": {
    "execution": {
     "iopub.execute_input": "2021-05-21T15:41:10.105268Z",
     "iopub.status.busy": "2021-05-21T15:41:10.104709Z",
     "iopub.status.idle": "2021-05-21T15:41:12.318073Z",
     "shell.execute_reply": "2021-05-21T15:41:12.318494Z"
    },
    "id": "ZkLu7Y8UCMT7"
   },
   "outputs": [
    {
     "name": "stdout",
     "output_type": "stream",
     "text": [
      "tf.Tensor(\n",
      "[b'ROMEO:.\\n Cancin thim in hime fore.\\nHirk is a foot.\\nHere is a tail.\\nHeris in a jug.\\nRinos jump, in ear.\\nHere is an ear.\\nHere is an ear.\\nHere is an ear.\\nHere is an ear.\\nHere is an ear.\\n\\n\\n\\nI go home.\\nI see eggs.\\nI like you.\\nI can see.\\nI can run.\\nI can hide.\\nI can side.\\nI can pep.\\nI can ride.\\nMom can jump too.\\nI can can jump.\\nA caw rin tome curery looked and home and hos.\\nI see a squirrel.\\n\\n\\n\\nI goe the ball to me and mrower sheng down, then stoes a has a bet.\\nI see thet chme sad.\\nGree go to some lett comes out.\\nSheep shove.\\nSheep gru.\\nKnock, Dog.\\nDown choued the ice.\\nThis polar baby loves to swim.\\nThis polar baby lokes to fish.\\nThis polar baby loves to sleep!\\n Oh, no!\\n Oh, no!\\n Oh, no!\\n Oh, no!\\n It hits a carr.\\nI he mam.\\nI tow the ball.\\nJam I see a hole and a flag and a necklace and a sword.\\nA box can be many things,\" I say.\\nThe box is a cage.\\n\"I am out!\\n\" he said.\\n\"Me too\\',\\' said the Chick.\\n\"I tous.\\nI se home.\\n\\n\\n\\nDrip, shop.\\nRinos dancing more houms foo.\\nHike is seeen.\\nBut the chicken like.\\nTom'\n",
      " b'ROMEO:3.\\nDlayo a too.\\nSilly ped!\\n Dou don\\'t want to go to sleep, fly.\\nLook what Otto made!\\n See Pip fly!\\n Fly, Pip, fly!\\n Ho hum.\\nSee Pip flap.\\nFlap, flap, flap.\\nFlap, flap, flap.\\nSee Pip fly!\\n Fly, Pip, fly!\\n\\n\\n\\nMyw!\\n Ot Wonds.\\nA brog can jump.\\nA help in tome loot is too hole!\\n\\n\\n\\nI can jump.\\nShen it not.\\np.\\n anks tu ham.\\nI like you.\\nI like your.\\n\\n\\n\\nI like my shill.\\nI like my priend.\\nI hug my dog.\\nI hug my fish.\\nI like my treen bise.\\nThe shadle het are het a chings.\\nHere you and The carrout.\\nI am a bug.\\nI am in a jug.\\nI see a hat.\\nI see a han.\\nI am a bug.\\nA bug in the rud.\\nA bug in the grass.\\nA bug on the smals.\\nWare flap into the cas.\\nHapire very vang.\\nA bax is a can.\\nI am Sam!\\n I the big big.\\nThe door is big hun.\\n\\n\\n\\nHere is Little Knight.\\n\\n\\n\\nOhe cookie pelk it sime.\\nThe gor ugghrot egg?\\n\" \"No,\" says Cat.\\n\"Is it a dig.\\nA bug in a ggars.\\nI like my spiend.\\nI am your funny friend, Jack.\\nI am Sam.\\nI am little.\\nI am Seemby womm.\\n\\n\\n\\nMax pets to soe?\\n No, I believe you.\\nIt sound.\\nI hug my pill.\\nI m'\n",
      " b'ROMEO:.\\n\"Yougry, I well to flap.\\nFlap Flap Flap!\\n Flubby does not jump.\\nRun, Flubby!\\n Jum in you.\\nI like you climm.\\nThe egg rolls through a toing enach.\\nNow Fox goes a Coo.\\nI get my dish,\" said Little Knight.\\nLittle Knight, Little Kitten!\\nS\\n\\nThere was orts toe cut!\\n Hovery had say.\\nPig is not.\\nOn, Jude, Sller hore!\\n\" said the Chick \"I am going for a swim,\" said the Duckling.\\n\"Me too,\" said Chack.\\n\"I am swimming look an a mot.\\nI see the Dus.\\nWhay each on Mudge.\\n\" The warthog.\\nHe told his friends.\\n\"Twe lion is wrong.\\nI\\'s are hun thee and ald swars.\\n\\n\\n\\nHave you seen my cat?\\n This is not my cat!\\n Have you seen my cat?\\n This big day Punt.\\n a Summ his momm tom cater\\'\" sawa the wall.\\nI don toou met.\\nI see the chalkbor.\\nEveryone stay in chonk.\\nDinos runking ridnt a cat ene hime.\\n\"Moot now!\\n Ghat is soom.\\nMox is late.\\nFox is late cat.\\nHe pipss a has a snack.\\nAnd Mudge has a slail.\\nCook wit star that is bight.\\nLithl stays.\\nNow Rick is too hot!\\n Jack can seep.\\nJemp can hele jump.\\nShere war goom goung t'\n",
      " b'ROMEO: rud.\\nA bug in a glass.\\nI like bugs.\\nRound bugs.\\nBig bugs.\\nLady bugs.\\nI like bugs.\\nRan sway.\\nPee Pip flap.\\nFlap, flap, flap.\\nFlap, flap, flap.\\nFlap, flap, flap.\\nFlap, flap, flap.\\nFlap, flap, flap.\\nSee Pip fly!\\n Fly, Pip, fly!\\n Ho hum.\\nSee Pip flap.\\nFlap, flap, flap.\\nFlap, flap, flap.\\nSee Pip fly!\\n Fly, Pel!\\n Sheep in ay eag.\\nI am sacd fou a saic.\\nA brogeray.\\nPay gots the ball to me wave vears over sawe gove ano ta shick.\\nThinkp can huge.\\nBig Cat can nak.\\nBig Cat can nat.\\nBig Cat can hug.\\nBig Cat can flie waith Mance.\\nDance!\\n\\n\\n\\nThe polar bace wat lige fory.\\nHare you too coves were, \\n\\n\\nHere you doont not.\\nGlap, Flap, flaping Little Knight.\\n\\n\\n\\nThe can jump im lige, said Papa.\\n\"But I like san.\\nI like my blat car?\\n I see a cat on the mat.\\nIt is Jack an catch.\\nCacl he sheep.\\nKigg bag tot le fun.\\nBig Cat can see.\\nBig Cat can floe.\\nThe wirtoog like fan hede.\\nSee Otto Look.\\nShee Ot Mom.\\nNow Go, Sill, Sal.\\nThare you doing now?\\n Thinking makes me hungry.\\nAre you hungry?\\n I think I\\'ll go the llayg'\n",
      " b'ROMEO:.\\nCRiker stoes.\\npoll in seee my mekp.\\nJimp is a nate.\\nHere is ante the look.\\nDinos rusning out to play.\\nCuncis put.\\nO cawch can wat.\\nI like my truck.\\nI like my blat cat out the cat!\\n Are you a cat?\\n I am get!\\n\" \"No,\" said Cow.\\n\"Is it a goat eg the flagbrile.\\nInd eree a bet everywnet!\\n\" \"No,\" said Pigat.\\n\"I like a squirrel.\\n\\n\\n\\nI go up.\\nI see a hipe.\\nI to home.\\n\\n\\n\\nDrim, drop, skip and hop.\\nSplish, splash, sidewalk.\\nHe sits ot the foot.\\nHe This books furtht, Little Kitten,\" said Papa.\\n\"Yud!\\n Wo tree, shoo, Dog.\\nDog is hot.\\nCa\\n Pip fast theat is out the car!d ard and dindsway\\xe2\\x80\\x99s around the house.\\n\\n\\n\\nI go woot.\\n\"I saw a hole with Mad.\\nI lube dan in?\\n \"Thim yolur a dance wart a hole, Thim is snock.\\nInd ele wall want to the ile.\\nThe wants to sheep.\\nWeapher everywhere!\\n On Saturday.\\nCookie gluss the droggr.\\nI like stars.\\nYello co fs wost th the food and ho sleep!\\n Oh, no!\\n ho hum.\\nSe pants to sweep.\\nWe pan make and hel.\\n\\n\\n\\nHere is back.\\nJig can jump oot.\\nSheep shap that bill gove thes it hat hi'], shape=(5,), dtype=string) \n",
      "\n",
      "________________________________________________________________________________\n",
      "\n",
      "Run time: 2.022624969482422\n"
     ]
    }
   ],
   "source": [
    "start = time.time()\n",
    "states = None\n",
    "next_char = tf.constant(['ROMEO:', 'ROMEO:', 'ROMEO:', 'ROMEO:', 'ROMEO:'])\n",
    "result = [next_char]\n",
    "\n",
    "for n in range(1000):\n",
    "  next_char, states = one_step_model.generate_one_step(next_char, states=states)\n",
    "  result.append(next_char)\n",
    "\n",
    "result = tf.strings.join(result)\n",
    "end = time.time()\n",
    "print(result, '\\n\\n' + '_'*80)\n",
    "print('\\nRun time:', end - start)"
   ]
  },
  {
   "cell_type": "markdown",
   "metadata": {
    "id": "UlUQzwu6EXam"
   },
   "source": [
    "## Export the generator\n",
    "\n",
    "This single-step model can easily be [saved and restored](https://www.tensorflow.org/guide/saved_model), allowing you to use it anywhere a `tf.saved_model` is accepted."
   ]
  },
  {
   "cell_type": "code",
   "execution_count": 179,
   "metadata": {
    "execution": {
     "iopub.execute_input": "2021-05-21T15:41:12.322819Z",
     "iopub.status.busy": "2021-05-21T15:41:12.322212Z",
     "iopub.status.idle": "2021-05-21T15:41:18.731128Z",
     "shell.execute_reply": "2021-05-21T15:41:18.731494Z"
    },
    "id": "3Grk32H_CzsC"
   },
   "outputs": [
    {
     "name": "stdout",
     "output_type": "stream",
     "text": [
      "WARNING:tensorflow:Skipping full serialization of Keras layer <__main__.OneStep object at 0x7fc2490cfa50>, because it is not built.\n"
     ]
    },
    {
     "name": "stderr",
     "output_type": "stream",
     "text": [
      "WARNING:tensorflow:Skipping full serialization of Keras layer <__main__.OneStep object at 0x7fc2490cfa50>, because it is not built.\n",
      "WARNING:absl:Found untraced functions such as gru_cell_4_layer_call_fn, gru_cell_4_layer_call_and_return_conditional_losses, gru_cell_4_layer_call_fn, gru_cell_4_layer_call_and_return_conditional_losses, gru_cell_4_layer_call_and_return_conditional_losses while saving (showing 5 of 5). These functions will not be directly callable after loading.\n"
     ]
    },
    {
     "name": "stdout",
     "output_type": "stream",
     "text": [
      "WARNING:tensorflow:FOR KERAS USERS: The object that you are saving contains one or more Keras models or layers. If you are loading the SavedModel with `tf.keras.models.load_model`, continue reading (otherwise, you may ignore the following instructions). Please change your code to save with `tf.keras.models.save_model` or `model.save`, and confirm that the file \"keras.metadata\" exists in the export directory. In the future, Keras will only load the SavedModels that have this file. In other words, `tf.saved_model.save` will no longer write SavedModels that can be recovered as Keras models (this will apply in TF 2.5).\n",
      "\n",
      "FOR DEVS: If you are overwriting _tracking_metadata in your class, this property has been used to save metadata in the SavedModel. The metadta field will be deprecated soon, so please move the metadata to a different file.\n"
     ]
    },
    {
     "name": "stderr",
     "output_type": "stream",
     "text": [
      "WARNING:tensorflow:FOR KERAS USERS: The object that you are saving contains one or more Keras models or layers. If you are loading the SavedModel with `tf.keras.models.load_model`, continue reading (otherwise, you may ignore the following instructions). Please change your code to save with `tf.keras.models.save_model` or `model.save`, and confirm that the file \"keras.metadata\" exists in the export directory. In the future, Keras will only load the SavedModels that have this file. In other words, `tf.saved_model.save` will no longer write SavedModels that can be recovered as Keras models (this will apply in TF 2.5).\n",
      "\n",
      "FOR DEVS: If you are overwriting _tracking_metadata in your class, this property has been used to save metadata in the SavedModel. The metadta field will be deprecated soon, so please move the metadata to a different file.\n"
     ]
    },
    {
     "name": "stdout",
     "output_type": "stream",
     "text": [
      "INFO:tensorflow:Assets written to: one_step/assets\n"
     ]
    },
    {
     "name": "stderr",
     "output_type": "stream",
     "text": [
      "INFO:tensorflow:Assets written to: one_step/assets\n"
     ]
    }
   ],
   "source": [
    "tf.saved_model.save(one_step_model, 'one_step')\n",
    "one_step_reloaded = tf.saved_model.load('one_step')"
   ]
  },
  {
   "cell_type": "code",
   "execution_count": 181,
   "metadata": {
    "execution": {
     "iopub.execute_input": "2021-05-21T15:41:18.737600Z",
     "iopub.status.busy": "2021-05-21T15:41:18.736670Z",
     "iopub.status.idle": "2021-05-21T15:41:19.058199Z",
     "shell.execute_reply": "2021-05-21T15:41:19.058579Z"
    },
    "id": "_Z9bb_wX6Uuu"
   },
   "outputs": [
    {
     "name": "stdout",
     "output_type": "stream",
     "text": [
      "ROMEO:p.\n",
      "Sheep ghar sits burthrf.\n",
      "On, no!\n",
      " Dog can flip fraping into the cat.\n",
      "I like my shirs.\n",
      "I like megp.\n",
      "Jack has a cap.\n",
      "No way jusping 1, 2,\" 3.\n",
      "Dinos peaking enca.\n",
      "Dinos peeking the till.\n",
      "There was dirt everywhere!\n",
      " On Friday.\n",
      "Cookie ran into the clost.\n",
      "There wer a thell seen looked for food.\n",
      "\"No at dancing to stwe lithoroure.\n",
      "See Otto go tleep!\n",
      " Jeeping, laging all the way.\n",
      "Dinos justing 1, 2, 3.\n",
      "Dinos pasting red and bl eg.\n",
      "She fring eats for a bug.\n",
      "They all went to hump.\n",
      "Ree can jump too.\n",
      "I can climb.\n",
      "Mom can climb too.\n",
      "I can run.\n",
      "Mom can run too.\n",
      "I can sit.\n",
      "I can peek.\n",
      "I han tak.\n",
      "I am loxt.\n",
      "Cat Igg to to cleep!\n",
      " Oh, no!\n",
      " Oh, no!\n",
      " It hits a car.\n",
      "I like my gare.\n",
      "I din and my cat?\n",
      " This is not my egg can cate.\n",
      "\" The warther dings!\n",
      " The bag rox my big.\n",
      "I hus my met.\n",
      "I hug my bear.\n",
      "I hug my mide.\n",
      "I lo tue.\n",
      "I see a butt.\n",
      "I saw a hes a snack.\n",
      "And CiAkbou a cate.\n",
      "I see a hou.\n",
      "I like my puntrif.\n",
      "I am Sam.\n",
      "I can side.\n",
      "I can peek.\n",
      "\n",
      "\n",
      "\n",
      "Max cannot ride a chicken.\n",
      "But the fish can eat.\n",
      "The fish ca\n"
     ]
    }
   ],
   "source": [
    "states = None\n",
    "next_char = tf.constant(['ROMEO:'])\n",
    "result = [next_char]\n",
    "\n",
    "for n in range(1000):\n",
    "  next_char, states = one_step_reloaded.generate_one_step(next_char, states=states)\n",
    "  result.append(next_char)\n",
    "\n",
    "print(tf.strings.join(result)[0].numpy().decode(\"utf-8\"))"
   ]
  },
  {
   "cell_type": "markdown",
   "metadata": {
    "id": "Y4QwTjAM6A2O"
   },
   "source": [
    "## Advanced: Customized Training\n",
    "\n",
    "The above training procedure is simple, but does not give you much control.\n",
    "It uses teacher-forcing which prevents bad predictions from being fed back to the model, so the model never learns to recover from mistakes.\n",
    "\n",
    "So now that you've seen how to run the model manually next you'll implement the training loop. This gives a starting point if, for example, you want to implement _curriculum  learning_ to help stabilize the model's open-loop output.\n",
    "\n",
    "The most important part of a custom training loop is the train step function.\n",
    "\n",
    "Use `tf.GradientTape` to track the gradients. You can learn more about this approach by reading the [eager execution guide](https://www.tensorflow.org/guide/eager).\n",
    "\n",
    "The basic procedure is:\n",
    "\n",
    "1. Execute the model and calculate the loss under a `tf.GradientTape`.\n",
    "2. Calculate the updates and apply them to the model using the optimizer."
   ]
  },
  {
   "cell_type": "code",
   "execution_count": 182,
   "metadata": {
    "execution": {
     "iopub.execute_input": "2021-05-21T15:41:19.063557Z",
     "iopub.status.busy": "2021-05-21T15:41:19.062987Z",
     "iopub.status.idle": "2021-05-21T15:41:19.065215Z",
     "shell.execute_reply": "2021-05-21T15:41:19.064776Z"
    },
    "id": "x0pZ101hjwW0"
   },
   "outputs": [],
   "source": [
    "class CustomTraining(MyModel):\n",
    "  @tf.function\n",
    "  def train_step(self, inputs):\n",
    "      inputs, labels = inputs\n",
    "      with tf.GradientTape() as tape:\n",
    "          predictions = self(inputs, training=True)\n",
    "          loss = self.loss(labels, predictions)\n",
    "      grads = tape.gradient(loss, model.trainable_variables)\n",
    "      self.optimizer.apply_gradients(zip(grads, model.trainable_variables))\n",
    "\n",
    "      return {'loss': loss}"
   ]
  },
  {
   "cell_type": "markdown",
   "metadata": {
    "id": "4Oc-eJALcK8B"
   },
   "source": [
    "The above implementation of the `train_step` method follows [Keras' `train_step` conventions](https://www.tensorflow.org/guide/keras/customizing_what_happens_in_fit). This is optional, but it allows you to change the behavior of the train step and still use keras' `Model.compile` and `Model.fit` methods."
   ]
  },
  {
   "cell_type": "code",
   "execution_count": 183,
   "metadata": {
    "execution": {
     "iopub.execute_input": "2021-05-21T15:41:19.069656Z",
     "iopub.status.busy": "2021-05-21T15:41:19.069125Z",
     "iopub.status.idle": "2021-05-21T15:41:19.074818Z",
     "shell.execute_reply": "2021-05-21T15:41:19.075152Z"
    },
    "id": "XKyWiZ_Lj7w5"
   },
   "outputs": [],
   "source": [
    "model = CustomTraining(\n",
    "    vocab_size=len(ids_from_chars.get_vocabulary()),\n",
    "    embedding_dim=embedding_dim,\n",
    "    rnn_units=rnn_units)"
   ]
  },
  {
   "cell_type": "code",
   "execution_count": 184,
   "metadata": {
    "execution": {
     "iopub.execute_input": "2021-05-21T15:41:19.080446Z",
     "iopub.status.busy": "2021-05-21T15:41:19.079917Z",
     "iopub.status.idle": "2021-05-21T15:41:19.083193Z",
     "shell.execute_reply": "2021-05-21T15:41:19.083547Z"
    },
    "id": "U817KUm7knlm"
   },
   "outputs": [],
   "source": [
    "model.compile(optimizer = tf.keras.optimizers.Adam(),\n",
    "              loss=tf.keras.losses.SparseCategoricalCrossentropy(from_logits=True))"
   ]
  },
  {
   "cell_type": "code",
   "execution_count": 186,
   "metadata": {
    "execution": {
     "iopub.execute_input": "2021-05-21T15:41:19.087123Z",
     "iopub.status.busy": "2021-05-21T15:41:19.086527Z",
     "iopub.status.idle": "2021-05-21T15:41:26.289717Z",
     "shell.execute_reply": "2021-05-21T15:41:26.290140Z"
    },
    "id": "o694aoBPnEi9"
   },
   "outputs": [
    {
     "name": "stdout",
     "output_type": "stream",
     "text": [
      "Epoch 1/100\n",
      "2/2 [==============================] - 3s 1s/step - loss: 3.7106\n",
      "Epoch 2/100\n",
      "2/2 [==============================] - 3s 1s/step - loss: 3.4578\n",
      "Epoch 3/100\n",
      "2/2 [==============================] - 3s 1s/step - loss: 3.3174\n",
      "Epoch 4/100\n",
      "2/2 [==============================] - 3s 2s/step - loss: 3.2414\n",
      "Epoch 5/100\n",
      "2/2 [==============================] - 3s 1s/step - loss: 3.1723\n",
      "Epoch 6/100\n",
      "2/2 [==============================] - 3s 1s/step - loss: 3.1231\n",
      "Epoch 7/100\n",
      "2/2 [==============================] - 3s 1s/step - loss: 3.1023\n",
      "Epoch 8/100\n",
      "2/2 [==============================] - 3s 1s/step - loss: 3.0549\n",
      "Epoch 9/100\n",
      "2/2 [==============================] - 3s 1s/step - loss: 3.0045\n",
      "Epoch 10/100\n",
      "2/2 [==============================] - 3s 2s/step - loss: 2.9523\n",
      "Epoch 11/100\n",
      "2/2 [==============================] - 3s 1s/step - loss: 2.9117\n",
      "Epoch 12/100\n",
      "2/2 [==============================] - 3s 2s/step - loss: 2.8551\n",
      "Epoch 13/100\n",
      "2/2 [==============================] - 4s 2s/step - loss: 2.8376\n",
      "Epoch 14/100\n",
      "2/2 [==============================] - 4s 2s/step - loss: 2.7644\n",
      "Epoch 15/100\n",
      "2/2 [==============================] - 4s 2s/step - loss: 2.7434\n",
      "Epoch 16/100\n",
      "2/2 [==============================] - 4s 2s/step - loss: 2.6893\n",
      "Epoch 17/100\n",
      "2/2 [==============================] - 4s 2s/step - loss: 2.6436\n",
      "Epoch 18/100\n",
      "2/2 [==============================] - 3s 2s/step - loss: 2.6397\n",
      "Epoch 19/100\n",
      "2/2 [==============================] - 3s 2s/step - loss: 2.5797\n",
      "Epoch 20/100\n",
      "2/2 [==============================] - 3s 2s/step - loss: 2.5627\n",
      "Epoch 21/100\n",
      "2/2 [==============================] - 4s 2s/step - loss: 2.5041\n",
      "Epoch 22/100\n",
      "2/2 [==============================] - 4s 2s/step - loss: 2.5304\n",
      "Epoch 23/100\n",
      "2/2 [==============================] - 4s 2s/step - loss: 2.4988\n",
      "Epoch 24/100\n",
      "2/2 [==============================] - 3s 1s/step - loss: 2.4635\n",
      "Epoch 25/100\n",
      "2/2 [==============================] - 3s 1s/step - loss: 2.4270\n",
      "Epoch 26/100\n",
      "2/2 [==============================] - 3s 2s/step - loss: 2.4194\n",
      "Epoch 27/100\n",
      "2/2 [==============================] - 3s 2s/step - loss: 2.3904\n",
      "Epoch 28/100\n",
      "2/2 [==============================] - 3s 2s/step - loss: 2.3803\n",
      "Epoch 29/100\n",
      "2/2 [==============================] - 3s 1s/step - loss: 2.3632\n",
      "Epoch 30/100\n",
      "2/2 [==============================] - 3s 1s/step - loss: 2.3482\n",
      "Epoch 31/100\n",
      "2/2 [==============================] - 3s 1s/step - loss: 2.3328\n",
      "Epoch 32/100\n",
      "2/2 [==============================] - 3s 1s/step - loss: 2.3048\n",
      "Epoch 33/100\n",
      "2/2 [==============================] - 4s 2s/step - loss: 2.2982\n",
      "Epoch 34/100\n",
      "2/2 [==============================] - 4s 2s/step - loss: 2.2643\n",
      "Epoch 35/100\n",
      "2/2 [==============================] - 3s 2s/step - loss: 2.2775\n",
      "Epoch 36/100\n",
      "2/2 [==============================] - 4s 2s/step - loss: 2.2122\n",
      "Epoch 37/100\n",
      "2/2 [==============================] - 4s 2s/step - loss: 2.2225\n",
      "Epoch 38/100\n",
      "2/2 [==============================] - 3s 2s/step - loss: 2.2004\n",
      "Epoch 39/100\n",
      "2/2 [==============================] - 3s 2s/step - loss: 2.2003\n",
      "Epoch 40/100\n",
      "2/2 [==============================] - 3s 1s/step - loss: 2.1654\n",
      "Epoch 41/100\n",
      "2/2 [==============================] - 3s 1s/step - loss: 2.1736\n",
      "Epoch 42/100\n",
      "2/2 [==============================] - 3s 1s/step - loss: 2.1560\n",
      "Epoch 43/100\n",
      "2/2 [==============================] - 3s 1s/step - loss: 2.1042\n",
      "Epoch 44/100\n",
      "2/2 [==============================] - 3s 1s/step - loss: 2.1364\n",
      "Epoch 45/100\n",
      "2/2 [==============================] - 3s 1s/step - loss: 2.1045\n",
      "Epoch 46/100\n",
      "2/2 [==============================] - 3s 1s/step - loss: 2.0839\n",
      "Epoch 47/100\n",
      "2/2 [==============================] - 3s 1s/step - loss: 2.0938\n",
      "Epoch 48/100\n",
      "2/2 [==============================] - 3s 1s/step - loss: 2.0984\n",
      "Epoch 49/100\n",
      "2/2 [==============================] - 3s 1s/step - loss: 2.0612\n",
      "Epoch 50/100\n",
      "2/2 [==============================] - 3s 1s/step - loss: 2.0543\n",
      "Epoch 51/100\n",
      "2/2 [==============================] - 3s 1s/step - loss: 2.0314\n",
      "Epoch 52/100\n",
      "2/2 [==============================] - 3s 1s/step - loss: 2.0273\n",
      "Epoch 53/100\n",
      "2/2 [==============================] - 3s 1s/step - loss: 2.0326\n",
      "Epoch 54/100\n",
      "2/2 [==============================] - 3s 1s/step - loss: 1.9903\n",
      "Epoch 55/100\n",
      "2/2 [==============================] - 3s 1s/step - loss: 1.9647\n",
      "Epoch 56/100\n",
      "2/2 [==============================] - 2s 1s/step - loss: 1.9906\n",
      "Epoch 57/100\n",
      "2/2 [==============================] - 3s 1s/step - loss: 1.9809\n",
      "Epoch 58/100\n",
      "2/2 [==============================] - 3s 1s/step - loss: 1.9417\n",
      "Epoch 59/100\n",
      "2/2 [==============================] - 3s 1s/step - loss: 1.9472\n",
      "Epoch 60/100\n",
      "2/2 [==============================] - 3s 1s/step - loss: 1.9470\n",
      "Epoch 61/100\n",
      "2/2 [==============================] - 3s 1s/step - loss: 1.9374\n",
      "Epoch 62/100\n",
      "2/2 [==============================] - 3s 1s/step - loss: 1.9045\n",
      "Epoch 63/100\n",
      "2/2 [==============================] - 3s 1s/step - loss: 1.9254\n",
      "Epoch 64/100\n",
      "2/2 [==============================] - 3s 1s/step - loss: 1.8830\n",
      "Epoch 65/100\n",
      "2/2 [==============================] - 3s 1s/step - loss: 1.8733\n",
      "Epoch 66/100\n",
      "2/2 [==============================] - 3s 1s/step - loss: 1.8545\n",
      "Epoch 67/100\n",
      "2/2 [==============================] - 3s 1s/step - loss: 1.8498\n",
      "Epoch 68/100\n",
      "2/2 [==============================] - 3s 1s/step - loss: 1.8417\n",
      "Epoch 69/100\n",
      "2/2 [==============================] - 3s 1s/step - loss: 1.8114\n",
      "Epoch 70/100\n",
      "2/2 [==============================] - 3s 2s/step - loss: 1.8046\n",
      "Epoch 71/100\n",
      "2/2 [==============================] - 3s 1s/step - loss: 1.8040\n",
      "Epoch 72/100\n",
      "2/2 [==============================] - 3s 1s/step - loss: 1.7623\n",
      "Epoch 73/100\n",
      "2/2 [==============================] - 3s 1s/step - loss: 1.7722\n",
      "Epoch 74/100\n",
      "2/2 [==============================] - 3s 1s/step - loss: 1.7614\n",
      "Epoch 75/100\n",
      "2/2 [==============================] - 3s 1s/step - loss: 1.7344\n",
      "Epoch 76/100\n",
      "2/2 [==============================] - 3s 1s/step - loss: 1.7250\n",
      "Epoch 77/100\n",
      "2/2 [==============================] - 3s 1s/step - loss: 1.7257\n",
      "Epoch 78/100\n",
      "2/2 [==============================] - 3s 1s/step - loss: 1.7028\n",
      "Epoch 79/100\n",
      "2/2 [==============================] - 3s 1s/step - loss: 1.7175\n",
      "Epoch 80/100\n",
      "2/2 [==============================] - 3s 1s/step - loss: 1.6736\n",
      "Epoch 81/100\n",
      "2/2 [==============================] - 3s 1s/step - loss: 1.6603\n",
      "Epoch 82/100\n",
      "2/2 [==============================] - 3s 2s/step - loss: 1.6610\n",
      "Epoch 83/100\n",
      "2/2 [==============================] - 3s 1s/step - loss: 1.6122\n",
      "Epoch 84/100\n",
      "2/2 [==============================] - 3s 1s/step - loss: 1.6163\n",
      "Epoch 85/100\n",
      "2/2 [==============================] - 3s 1s/step - loss: 1.6245\n",
      "Epoch 86/100\n",
      "2/2 [==============================] - 3s 1s/step - loss: 1.5957\n",
      "Epoch 87/100\n",
      "2/2 [==============================] - 3s 1s/step - loss: 1.5737\n",
      "Epoch 88/100\n",
      "2/2 [==============================] - 3s 1s/step - loss: 1.5684\n",
      "Epoch 89/100\n",
      "2/2 [==============================] - 3s 1s/step - loss: 1.5457\n",
      "Epoch 90/100\n",
      "2/2 [==============================] - 3s 1s/step - loss: 1.5272\n",
      "Epoch 91/100\n",
      "2/2 [==============================] - 3s 1s/step - loss: 1.5035\n",
      "Epoch 92/100\n",
      "2/2 [==============================] - 3s 1s/step - loss: 1.5247\n",
      "Epoch 93/100\n",
      "2/2 [==============================] - 3s 1s/step - loss: 1.4888\n",
      "Epoch 94/100\n",
      "2/2 [==============================] - 3s 1s/step - loss: 1.4379\n",
      "Epoch 95/100\n",
      "2/2 [==============================] - 3s 1s/step - loss: 1.4271\n",
      "Epoch 96/100\n",
      "2/2 [==============================] - 3s 2s/step - loss: 1.4310\n",
      "Epoch 97/100\n",
      "2/2 [==============================] - 3s 1s/step - loss: 1.4037\n",
      "Epoch 98/100\n",
      "2/2 [==============================] - 3s 2s/step - loss: 1.3925\n",
      "Epoch 99/100\n",
      "2/2 [==============================] - 3s 1s/step - loss: 1.3606\n",
      "Epoch 100/100\n",
      "2/2 [==============================] - 3s 1s/step - loss: 1.3756\n"
     ]
    },
    {
     "data": {
      "text/plain": [
       "<tensorflow.python.keras.callbacks.History at 0x7fc22ad4b810>"
      ]
     },
     "execution_count": 186,
     "metadata": {},
     "output_type": "execute_result"
    }
   ],
   "source": [
    "model.fit(dataset, epochs=100)"
   ]
  },
  {
   "cell_type": "markdown",
   "metadata": {
    "id": "W8nAtKHVoInR"
   },
   "source": [
    "Or if you need more control, you can write your own complete custom training loop:"
   ]
  },
  {
   "cell_type": "code",
   "execution_count": 187,
   "metadata": {
    "execution": {
     "iopub.execute_input": "2021-05-21T15:41:26.297559Z",
     "iopub.status.busy": "2021-05-21T15:41:26.296942Z",
     "iopub.status.idle": "2021-05-21T15:42:21.100689Z",
     "shell.execute_reply": "2021-05-21T15:42:21.100216Z"
    },
    "id": "d4tSNwymzf-q"
   },
   "outputs": [
    {
     "name": "stdout",
     "output_type": "stream",
     "text": [
      "Epoch 1 Batch 0 Loss 1.4276\n",
      "\n",
      "Epoch 1 Loss: 1.3459\n",
      "Time taken for 1 epoch 3.01 sec\n",
      "________________________________________________________________________________\n",
      "Epoch 2 Batch 0 Loss 1.3278\n",
      "\n",
      "Epoch 2 Loss: 1.3230\n",
      "Time taken for 1 epoch 2.30 sec\n",
      "________________________________________________________________________________\n",
      "Epoch 3 Batch 0 Loss 1.3659\n",
      "\n",
      "Epoch 3 Loss: 1.3235\n",
      "Time taken for 1 epoch 2.17 sec\n",
      "________________________________________________________________________________\n",
      "Epoch 4 Batch 0 Loss 1.2336\n",
      "\n",
      "Epoch 4 Loss: 1.3027\n",
      "Time taken for 1 epoch 3.35 sec\n",
      "________________________________________________________________________________\n",
      "Epoch 5 Batch 0 Loss 1.2744\n",
      "\n",
      "Epoch 5 Loss: 1.2607\n",
      "Time taken for 1 epoch 3.51 sec\n",
      "________________________________________________________________________________\n",
      "Epoch 6 Batch 0 Loss 1.2686\n",
      "\n",
      "Epoch 6 Loss: 1.2386\n",
      "Time taken for 1 epoch 2.42 sec\n",
      "________________________________________________________________________________\n",
      "Epoch 7 Batch 0 Loss 1.3055\n",
      "\n",
      "Epoch 7 Loss: 1.2656\n",
      "Time taken for 1 epoch 2.46 sec\n",
      "________________________________________________________________________________\n",
      "Epoch 8 Batch 0 Loss 1.2092\n",
      "\n",
      "Epoch 8 Loss: 1.2368\n",
      "Time taken for 1 epoch 2.42 sec\n",
      "________________________________________________________________________________\n",
      "Epoch 9 Batch 0 Loss 1.2061\n",
      "\n",
      "Epoch 9 Loss: 1.1985\n",
      "Time taken for 1 epoch 2.66 sec\n",
      "________________________________________________________________________________\n",
      "Epoch 10 Batch 0 Loss 1.1416\n",
      "\n",
      "Epoch 10 Loss: 1.1809\n",
      "Time taken for 1 epoch 2.80 sec\n",
      "________________________________________________________________________________\n",
      "Epoch 11 Batch 0 Loss 1.1657\n",
      "\n",
      "Epoch 11 Loss: 1.1614\n",
      "Time taken for 1 epoch 2.61 sec\n",
      "________________________________________________________________________________\n",
      "Epoch 12 Batch 0 Loss 1.1050\n",
      "\n",
      "Epoch 12 Loss: 1.1355\n",
      "Time taken for 1 epoch 2.77 sec\n",
      "________________________________________________________________________________\n",
      "Epoch 13 Batch 0 Loss 1.1512\n",
      "\n",
      "Epoch 13 Loss: 1.1279\n",
      "Time taken for 1 epoch 2.61 sec\n",
      "________________________________________________________________________________\n",
      "Epoch 14 Batch 0 Loss 1.0978\n",
      "\n",
      "Epoch 14 Loss: 1.0854\n",
      "Time taken for 1 epoch 2.64 sec\n",
      "________________________________________________________________________________\n",
      "Epoch 15 Batch 0 Loss 1.0996\n",
      "\n",
      "Epoch 15 Loss: 1.0925\n",
      "Time taken for 1 epoch 2.63 sec\n",
      "________________________________________________________________________________\n",
      "Epoch 16 Batch 0 Loss 1.0781\n",
      "\n",
      "Epoch 16 Loss: 1.0570\n",
      "Time taken for 1 epoch 2.42 sec\n",
      "________________________________________________________________________________\n",
      "Epoch 17 Batch 0 Loss 1.0858\n",
      "\n",
      "Epoch 17 Loss: 1.0439\n",
      "Time taken for 1 epoch 2.41 sec\n",
      "________________________________________________________________________________\n",
      "Epoch 18 Batch 0 Loss 1.0364\n",
      "\n",
      "Epoch 18 Loss: 1.0477\n",
      "Time taken for 1 epoch 2.43 sec\n",
      "________________________________________________________________________________\n",
      "Epoch 19 Batch 0 Loss 0.9742\n",
      "\n",
      "Epoch 19 Loss: 1.0027\n",
      "Time taken for 1 epoch 2.41 sec\n",
      "________________________________________________________________________________\n",
      "Epoch 20 Batch 0 Loss 0.9718\n",
      "\n",
      "Epoch 20 Loss: 0.9693\n",
      "Time taken for 1 epoch 2.78 sec\n",
      "________________________________________________________________________________\n",
      "Epoch 21 Batch 0 Loss 0.9681\n",
      "\n",
      "Epoch 21 Loss: 0.9673\n",
      "Time taken for 1 epoch 2.34 sec\n",
      "________________________________________________________________________________\n",
      "Epoch 22 Batch 0 Loss 0.9534\n",
      "\n",
      "Epoch 22 Loss: 0.9467\n",
      "Time taken for 1 epoch 2.60 sec\n",
      "________________________________________________________________________________\n",
      "Epoch 23 Batch 0 Loss 0.9469\n",
      "\n",
      "Epoch 23 Loss: 0.9288\n",
      "Time taken for 1 epoch 2.41 sec\n",
      "________________________________________________________________________________\n",
      "Epoch 24 Batch 0 Loss 0.9587\n",
      "\n",
      "Epoch 24 Loss: 0.9351\n",
      "Time taken for 1 epoch 2.45 sec\n",
      "________________________________________________________________________________\n",
      "Epoch 25 Batch 0 Loss 0.9197\n",
      "\n",
      "Epoch 25 Loss: 0.8928\n",
      "Time taken for 1 epoch 2.71 sec\n",
      "________________________________________________________________________________\n",
      "Epoch 26 Batch 0 Loss 0.8958\n",
      "\n",
      "Epoch 26 Loss: 0.8879\n",
      "Time taken for 1 epoch 2.42 sec\n",
      "________________________________________________________________________________\n",
      "Epoch 27 Batch 0 Loss 0.8625\n",
      "\n",
      "Epoch 27 Loss: 0.8533\n",
      "Time taken for 1 epoch 2.45 sec\n",
      "________________________________________________________________________________\n",
      "Epoch 28 Batch 0 Loss 0.8501\n",
      "\n",
      "Epoch 28 Loss: 0.8071\n",
      "Time taken for 1 epoch 2.65 sec\n",
      "________________________________________________________________________________\n",
      "Epoch 29 Batch 0 Loss 0.8095\n",
      "\n",
      "Epoch 29 Loss: 0.8012\n",
      "Time taken for 1 epoch 2.86 sec\n",
      "________________________________________________________________________________\n",
      "Epoch 30 Batch 0 Loss 0.8077\n",
      "\n",
      "Epoch 30 Loss: 0.7942\n",
      "Time taken for 1 epoch 3.35 sec\n",
      "________________________________________________________________________________\n",
      "Epoch 31 Batch 0 Loss 0.7852\n",
      "\n",
      "Epoch 31 Loss: 0.7661\n",
      "Time taken for 1 epoch 3.09 sec\n",
      "________________________________________________________________________________\n",
      "Epoch 32 Batch 0 Loss 0.7541\n",
      "\n",
      "Epoch 32 Loss: 0.7461\n",
      "Time taken for 1 epoch 3.06 sec\n",
      "________________________________________________________________________________\n",
      "Epoch 33 Batch 0 Loss 0.7214\n",
      "\n",
      "Epoch 33 Loss: 0.7251\n",
      "Time taken for 1 epoch 3.05 sec\n",
      "________________________________________________________________________________\n",
      "Epoch 34 Batch 0 Loss 0.7150\n",
      "\n",
      "Epoch 34 Loss: 0.6966\n",
      "Time taken for 1 epoch 3.03 sec\n",
      "________________________________________________________________________________\n",
      "Epoch 35 Batch 0 Loss 0.7086\n",
      "\n",
      "Epoch 35 Loss: 0.6817\n",
      "Time taken for 1 epoch 3.27 sec\n",
      "________________________________________________________________________________\n",
      "Epoch 36 Batch 0 Loss 0.6395\n",
      "\n",
      "Epoch 36 Loss: 0.6676\n",
      "Time taken for 1 epoch 3.62 sec\n",
      "________________________________________________________________________________\n",
      "Epoch 37 Batch 0 Loss 0.6609\n",
      "\n",
      "Epoch 37 Loss: 0.6617\n",
      "Time taken for 1 epoch 2.94 sec\n",
      "________________________________________________________________________________\n",
      "Epoch 38 Batch 0 Loss 0.6502\n",
      "\n",
      "Epoch 38 Loss: 0.6324\n",
      "Time taken for 1 epoch 2.80 sec\n",
      "________________________________________________________________________________\n",
      "Epoch 39 Batch 0 Loss 0.6426\n",
      "\n",
      "Epoch 39 Loss: 0.5934\n",
      "Time taken for 1 epoch 2.88 sec\n",
      "________________________________________________________________________________\n",
      "Epoch 40 Batch 0 Loss 0.5846\n",
      "\n",
      "Epoch 40 Loss: 0.5894\n",
      "Time taken for 1 epoch 3.04 sec\n",
      "________________________________________________________________________________\n",
      "Epoch 41 Batch 0 Loss 0.5534\n",
      "\n",
      "Epoch 41 Loss: 0.5585\n",
      "Time taken for 1 epoch 2.80 sec\n",
      "________________________________________________________________________________\n",
      "Epoch 42 Batch 0 Loss 0.5407\n",
      "\n",
      "Epoch 42 Loss: 0.5450\n",
      "Time taken for 1 epoch 2.78 sec\n",
      "________________________________________________________________________________\n",
      "Epoch 43 Batch 0 Loss 0.5369\n",
      "\n",
      "Epoch 43 Loss: 0.5265\n",
      "Time taken for 1 epoch 2.77 sec\n",
      "________________________________________________________________________________\n",
      "Epoch 44 Batch 0 Loss 0.5154\n",
      "\n",
      "Epoch 44 Loss: 0.5222\n",
      "Time taken for 1 epoch 2.91 sec\n",
      "________________________________________________________________________________\n",
      "Epoch 45 Batch 0 Loss 0.4917\n",
      "\n",
      "Epoch 45 Loss: 0.5039\n",
      "Time taken for 1 epoch 3.14 sec\n",
      "________________________________________________________________________________\n",
      "Epoch 46 Batch 0 Loss 0.4786\n",
      "\n",
      "Epoch 46 Loss: 0.4931\n",
      "Time taken for 1 epoch 2.93 sec\n",
      "________________________________________________________________________________\n",
      "Epoch 47 Batch 0 Loss 0.4760\n",
      "\n",
      "Epoch 47 Loss: 0.4708\n",
      "Time taken for 1 epoch 2.90 sec\n",
      "________________________________________________________________________________\n",
      "Epoch 48 Batch 0 Loss 0.4310\n",
      "\n",
      "Epoch 48 Loss: 0.4446\n",
      "Time taken for 1 epoch 2.93 sec\n",
      "________________________________________________________________________________\n",
      "Epoch 49 Batch 0 Loss 0.4477\n",
      "\n",
      "Epoch 49 Loss: 0.4441\n",
      "Time taken for 1 epoch 2.92 sec\n",
      "________________________________________________________________________________\n",
      "Epoch 50 Batch 0 Loss 0.4132\n",
      "\n",
      "Epoch 50 Loss: 0.4139\n",
      "Time taken for 1 epoch 3.15 sec\n",
      "________________________________________________________________________________\n"
     ]
    }
   ],
   "source": [
    "EPOCHS = 50\n",
    "\n",
    "mean = tf.metrics.Mean()\n",
    "\n",
    "for epoch in range(EPOCHS):\n",
    "    start = time.time()\n",
    "\n",
    "    mean.reset_states()\n",
    "    for (batch_n, (inp, target)) in enumerate(dataset):\n",
    "        logs = model.train_step([inp, target])\n",
    "        mean.update_state(logs['loss'])\n",
    "\n",
    "        if batch_n % 50 == 0:\n",
    "            template = f\"Epoch {epoch+1} Batch {batch_n} Loss {logs['loss']:.4f}\"\n",
    "            print(template)\n",
    "\n",
    "    # saving (checkpoint) the model every 5 epochs\n",
    "    if (epoch + 1) % 5 == 0:\n",
    "        model.save_weights(checkpoint_prefix.format(epoch=epoch))\n",
    "\n",
    "    print()\n",
    "    print(f'Epoch {epoch+1} Loss: {mean.result().numpy():.4f}')\n",
    "    print(f'Time taken for 1 epoch {time.time() - start:.2f} sec')\n",
    "    print(\"_\"*80)\n",
    "\n",
    "model.save_weights(checkpoint_prefix.format(epoch=epoch))"
   ]
  },
  {
   "cell_type": "code",
   "execution_count": 188,
   "metadata": {},
   "outputs": [
    {
     "name": "stdout",
     "output_type": "stream",
     "text": [
      "ROMEO:.\n",
      "Y.\n",
      "Dance driins in the s andows.\n",
      "Jimp is a fack.\n",
      "He put is wirm.\n",
      "Max pits o fise mook.\n",
      "Dinos dancing in a booke.\n",
      "\n",
      "\n",
      "\n",
      "Herm ho seee my cat?\n",
      " This is not my cat!\n",
      " Have you seen my cat?\n",
      " This is not my cat!\n",
      " Have you seen my cat?\n",
      " This is not my cat!\n",
      " Have you seen my cat?\n",
      " This is not my cat jump toe.\n",
      "I see boot.\n",
      "I see the flag.\n",
      "I sue the chille.\n",
      "The pest are small.\n",
      "Hen loves them all.\n",
      "\n",
      "\n",
      "\n",
      "I like stars.\n",
      "Yerrow shark a frignt, berr.\n",
      "Jeep in a heap Sheep weep.\n",
      "Sheep sweep the heap.\n",
      "Jeep for sale — see a squirrel.\n",
      "I see mice.\n",
      "I see a bute.\n",
      "I way We wam?\n",
      "\n",
      "\n",
      "\n",
      "I am a fug.\n",
      "I am a bear.\n",
      "\"Stay out!\n",
      "\" I growl.\n",
      "I's buck.\n",
      " I made a snack.\n",
      "I hug my read.\n",
      "I hug my cat.\n",
      "I hug my drack.\n",
      "I like my bike.\n",
      "\n",
      "\n",
      "\n",
      "Max likes to rand books.\n",
      "Max checks out him home carkoot.\n",
      "He the box is back.\n",
      "Jilp a nowe.\n",
      "See Otto go to fleer.\n",
      "Fox goes under.\n",
      "Go, Fox!\n",
      " Go!\n",
      " Fox gets flowets.\n",
      "Jell in a hit.\n",
      "This polar baby loves to sleep!\n",
      " Oh, no!\n",
      " Oh, no!\n",
      " It hits a car.\n",
      "I like my pan.\n",
      "I like my truck.\n",
      "I like my truck.\n",
      "I like my pol \n",
      "\n",
      "________________________________________________________________________________\n",
      "\n",
      "Run time: 1.0725440979003906\n"
     ]
    }
   ],
   "source": [
    "start = time.time()\n",
    "states = None\n",
    "next_char = tf.constant(['ROMEO:'])\n",
    "result = [next_char]\n",
    "\n",
    "for n in range(1000):\n",
    "  next_char, states = one_step_model.generate_one_step(next_char, states=states)\n",
    "  result.append(next_char)\n",
    "\n",
    "result = tf.strings.join(result)\n",
    "end = time.time()\n",
    "print(result[0].numpy().decode('utf-8'), '\\n\\n' + '_'*80)\n",
    "print('\\nRun time:', end - start)"
   ]
  },
  {
   "cell_type": "code",
   "execution_count": null,
   "metadata": {},
   "outputs": [],
   "source": []
  }
 ],
 "metadata": {
  "accelerator": "GPU",
  "colab": {
   "collapsed_sections": [],
   "name": "text_generation.ipynb",
   "toc_visible": true
  },
  "kernelspec": {
   "display_name": "Python 3",
   "language": "python",
   "name": "python3"
  },
  "language_info": {
   "codemirror_mode": {
    "name": "ipython",
    "version": 3
   },
   "file_extension": ".py",
   "mimetype": "text/x-python",
   "name": "python",
   "nbconvert_exporter": "python",
   "pygments_lexer": "ipython3",
   "version": "3.7.6"
  }
 },
 "nbformat": 4,
 "nbformat_minor": 1
}
